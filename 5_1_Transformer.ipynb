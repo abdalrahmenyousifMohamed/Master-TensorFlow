{
  "cells": [
    {
      "cell_type": "markdown",
      "metadata": {
        "id": "view-in-github",
        "colab_type": "text"
      },
      "source": [
        "<a href=\"https://colab.research.google.com/github/abdalrahmenyousifMohamed/Master-TensorFlow/blob/main/5_1_Transformer.ipynb\" target=\"_parent\"><img src=\"https://colab.research.google.com/assets/colab-badge.svg\" alt=\"Open In Colab\"/></a>"
      ]
    },
    {
      "cell_type": "markdown",
      "metadata": {
        "id": "5_fNDEYenI73"
      },
      "source": [
        "# State-of-the-art in deep learning: Transformers\n",
        "\n",
        "Transformers are the latest addition to the deep learning portfolio. Transformer networks started from the natural language processing domain and has permeated to other areas like computer vision. This was introduced in the paper [Attention is all you need](https://arxiv.org/pdf/1706.03762.pdf) by Vaswani et. al. In this chapter, we are going to look at various technical details of how to implement a Transformer ourselves. The Transformer has two main parts.\n",
        "\n",
        "* Encoder\n",
        "* Decoder\n",
        "\n",
        "Both the encoder and the decoder has multiple layers in it, and each layer consists of following types of sub layers.\n",
        "\n",
        "* Self-attention layer - This layer allows to pay attention to other inputs words in the sequence while processing a given input word. For example if the model is processing the word \"it\" from the sentence \"I kicked the ball and it disappeared\", this layer can pay attention the word \"ball\" while processing the word \"it\". This ability is quite important when it comes to natural language related tasks.\n",
        "* Fully connected layer - This adds depth to the model, allowing the model to learn more and more high level features.\n",
        "\n",
        "In this notebook you will learn,\n",
        "\n",
        "* The computations used in the self-attention and fully-connected sub layers\n",
        "* How to use the sub-classing API to create custom Self-Attention and Fully Connected layers\n",
        "* Use TensorFlow opeartions to define input masks\n",
        "* Define the Encoder and Decoder as layers\n",
        "\n",
        "\n",
        "<table align=\"left\">\n",
        "    <td>\n",
        "        <a target=\"_blank\" href=\"https://colab.research.google.com/github/thushv89/manning_tf2_in_action/blob/master/Ch05-Fundamentals-of-Transformers/5.1.Transformer.ipynb\"><img src=\"https://www.tensorflow.org/images/colab_logo_32px.png\" />Run in Google Colab</a>\n",
        "    </td>\n",
        "</table>\n"
      ]
    },
    {
      "cell_type": "markdown",
      "metadata": {
        "id": "eDFeuiD4nI75"
      },
      "source": [
        "## Importing necessary libraries"
      ]
    },
    {
      "cell_type": "code",
      "execution_count": 10,
      "metadata": {
        "id": "v3dYOUUcnI76"
      },
      "outputs": [],
      "source": [
        "import tensorflow as tf\n",
        "import numpy as np\n",
        "from tensorflow.keras import layers, models\n",
        "import math"
      ]
    },
    {
      "cell_type": "markdown",
      "metadata": {
        "id": "l4HItsHxnI76"
      },
      "source": [
        "## Defining the inputs and variables\n",
        "\n",
        "Here we define an input sequence (having 7 timesteps) and the respective variables that will be in a self-attention layer. The input to the model is a batch of sentences, and each sentence is a sequence of words, and each word is represented as a vector (e.g. word embeddings). In summary, the input has following dimensions.\n",
        "\n",
        "* Batch dimension (1) - In our example, a batch will have a single sentence\n",
        "* Time dimension (7) - In our example, the sentence has 7 words\n",
        "* Feature dimension (512) - In our example, each word is represented by a 512 elements long word vector\n",
        "\n",
        "The weights are of size $n \\times n$, where $n$ is the feature dimensionality of the input to that layer. This means that during the computations, the weight matrix takes a $b \\times t \\times n$ input and prodicues a $b \\times t \\times n$."
      ]
    },
    {
      "cell_type": "code",
      "execution_count": 2,
      "metadata": {
        "colab": {
          "base_uri": "https://localhost:8080/"
        },
        "id": "6eahCJdvnI76",
        "outputId": "50fb28b6-3dec-4910-d746-beee093525a3"
      },
      "outputs": [
        {
          "output_type": "stream",
          "name": "stdout",
          "text": [
            "x.shape=(1, 7, 512)\n",
            "Wq.shape=(512, 512)\n",
            "Wk.shape=(512, 512)\n",
            "Wv.shape=(512, 512)\n"
          ]
        }
      ],
      "source": [
        "# Section 5.2\n",
        "\n",
        "import tensorflow as tf\n",
        "import numpy as np\n",
        "\n",
        "n_seq = 7 # Sequence length\n",
        "\n",
        "# Defining the input\n",
        "x = tf.constant(np.random.normal(size=(1,n_seq,512)), dtype='float32')\n",
        "\n",
        "# Query, Key and Value matrices\n",
        "Wq = tf.Variable(np.random.normal(size=(512,512)), dtype='float32')\n",
        "Wk = tf.Variable(np.random.normal(size=(512,512)), dtype='float32')\n",
        "Wv = tf.Variable(np.random.normal(size=(512,512)), dtype='float32')\n",
        "\n",
        "# Printing the shapes of the data\n",
        "print('x.shape={}'.format(x.shape))\n",
        "print('Wq.shape={}'.format(Wq.shape))\n",
        "print('Wk.shape={}'.format(Wk.shape))\n",
        "print('Wv.shape={}'.format(Wv.shape))"
      ]
    },
    {
      "cell_type": "code",
      "source": [
        "import tensorflow as tf\n",
        "import numpy as np\n",
        "\n",
        "n_seq = 7 # Sequence length\n",
        "\n",
        "# Defining the input\n",
        "x = tf.constant(np.random.normal(size=(1,n_seq,512)) , dtype='float32')\n",
        "\n",
        "# Query , key , value matrices\n",
        "Wq = tf.Variable(np.random.normal(size=(512,512)) , dtype='float32')\n",
        "Wk = tf.Variable(np.random.normal(size=(512,512)) , dtype='float32')\n",
        "Wv = tf.Variable(np.random.normal(size=(512,512)) , dtype='float32')\n",
        "\n",
        "print('x.shape={}'.format(x.shape))\n",
        "print('Wq.shape={}'.format(Wq.shape))\n",
        "print('Wv.shape={}'.format(Wv.shape))\n",
        "print('WK.shape={}'.format(Wk.shape))"
      ],
      "metadata": {
        "colab": {
          "base_uri": "https://localhost:8080/"
        },
        "id": "L3ziC8MdrlM5",
        "outputId": "8900c89c-095b-4ebb-d1d6-524588ca9b38"
      },
      "execution_count": 4,
      "outputs": [
        {
          "output_type": "stream",
          "name": "stdout",
          "text": [
            "x.shape=(1, 7, 512)\n",
            "Wq.shape=(512, 512)\n",
            "Wv.shape=(512, 512)\n",
            "WK.shape=(512, 512)\n"
          ]
        }
      ]
    },
    {
      "cell_type": "markdown",
      "metadata": {
        "id": "ojQTTA4ynI77"
      },
      "source": [
        "## Defining the SelfAttention layer\n",
        "\n",
        "Here we are going to define the self-attention mechanism encapsulated in a Keras layer."
      ]
    },
    {
      "cell_type": "code",
      "execution_count": 16,
      "metadata": {
        "colab": {
          "base_uri": "https://localhost:8080/"
        },
        "id": "c-i5W0L5nI77",
        "outputId": "b337b52e-cd50-4c1a-f8f4-836fe49ab0ee"
      },
      "outputs": [
        {
          "output_type": "stream",
          "name": "stdout",
          "text": [
            "(1, 7, 512)\n"
          ]
        }
      ],
      "source": [
        "# Section 5.2\n",
        "# Code listing 5.1\n",
        "\n",
        "import tensorflow as tf\n",
        "\n",
        "class SelfAttentionLayer(layers.Layer):\n",
        "    \"\"\" Defines the computations in the self attention layer \"\"\"\n",
        "    def __init__(self, d):\n",
        "        super(SelfAttentionLayer, self).__init__()\n",
        "        # Feature dimensionality of the output\n",
        "        self.d = d\n",
        "\n",
        "    def build(self, input_shape):\n",
        "        # Query weight matrix\n",
        "        self.Wq = self.add_weight(\n",
        "            shape=(input_shape[-1], self.d), initializer='glorot_uniform',\n",
        "            trainable=True, dtype='float32'\n",
        "        )\n",
        "        # Key weight matrix\n",
        "        self.Wk = self.add_weight(\n",
        "            shape=(input_shape[-1], self.d), initializer='glorot_uniform',\n",
        "            trainable=True, dtype='float32'\n",
        "        )\n",
        "        # Value weight matrix\n",
        "        self.Wv = self.add_weight(\n",
        "            shape=(input_shape[-1], self.d), initializer='glorot_uniform',\n",
        "            trainable=True, dtype='float32'\n",
        "        )\n",
        "\n",
        "    def call(self, q_x, k_x, v_x):\n",
        "        # Computing query, key and value\n",
        "        q = tf.matmul(q_x,self.Wq)\n",
        "        k = tf.matmul(k_x,self.Wk)\n",
        "        v = tf.matmul(v_x,self.Wv)\n",
        "\n",
        "        # Computing the probability matrix\n",
        "        p = tf.nn.softmax(tf.matmul(q, k, transpose_b=True)/math.sqrt(self.d))\n",
        "        p = tf.squeeze(p)\n",
        "\n",
        "        # Computing the final output\n",
        "        h = tf.matmul(p, v)\n",
        "        return h,p\n",
        "\n",
        "# Creating a dummy self attention layer\n",
        "layer = SelfAttentionLayer(512)\n",
        "# Getting the output\n",
        "h, p = layer(x, x, x)\n",
        "print(h.shape)"
      ]
    },
    {
      "cell_type": "markdown",
      "metadata": {
        "id": "5eJd8FxvnI77"
      },
      "source": [
        "## Using the Self-Attention in a Multi-head Attention Layer\n",
        "\n",
        "In the Transformer network found in the original paper, the self-attention layers are found as multi-head attention layers. This means each layer has multiple smaller attention layers. This enables the model to learn more robust features than when having a single big attention layer."
      ]
    },
    {
      "cell_type": "code",
      "execution_count": 17,
      "metadata": {
        "colab": {
          "base_uri": "https://localhost:8080/"
        },
        "id": "iNA_LPEDnI77",
        "outputId": "fce5805c-c7b2-4abc-a568-edc84c9e58ca"
      },
      "outputs": [
        {
          "output_type": "stream",
          "name": "stdout",
          "text": [
            "(1, 7, 512)\n"
          ]
        }
      ],
      "source": [
        "# Defining an array of SelfAttentionLayer objects forming a multi-head attention layer\n",
        "multi_attn_head = [SelfAttentionLayer(64) for i in range(8)]\n",
        "outputs = [head(x, x, x)[0] for head in multi_attn_head]\n",
        "\n",
        "# Concatting the individual outputs to a single output\n",
        "outputs = tf.concat(outputs, axis=-1)\n",
        "print(outputs.shape)"
      ]
    },
    {
      "cell_type": "markdown",
      "metadata": {
        "id": "ZqELWiMLnI78"
      },
      "source": [
        "## Defining a SelfAttention layer with Masking Capability\n",
        "\n",
        "The decoder model uses a special type of attention layer. This attention layer masks any words ahead of the current word being processed. This in turn helps to avoid the decoder from seeing words it shouldn't during the training process."
      ]
    },
    {
      "cell_type": "code",
      "execution_count": 27,
      "metadata": {
        "colab": {
          "base_uri": "https://localhost:8080/"
        },
        "id": "BcI-zA66nI78",
        "outputId": "a9a33ebe-fb34-4c81-b02a-e0ca200f0ead"
      },
      "outputs": [
        {
          "output_type": "stream",
          "name": "stdout",
          "text": [
            "(1, 7, 512)\n"
          ]
        }
      ],
      "source": [
        "# Section 5.2\n",
        "# Code listing 5.2\n",
        "import tensorflow as tf\n",
        "\n",
        "class SelfAttentionLayer(layers.Layer):\n",
        "    \"\"\" Defines the computations in the self attention layer \"\"\"\n",
        "\n",
        "    def __init__(self, d):\n",
        "        super(SelfAttentionLayer, self).__init__()\n",
        "        # Feature dimensionality of the output\n",
        "        self.d = d\n",
        "\n",
        "    def build(self, input_shape):\n",
        "        # Query weight matrix\n",
        "        self.Wq = self.add_weight(\n",
        "            shape=(input_shape[-1], self.d), initializer='glorot_uniform',\n",
        "            trainable=True, dtype='float32'\n",
        "        )\n",
        "        # Key weight matrix\n",
        "        self.Wk = self.add_weight(\n",
        "            shape=(input_shape[-1], self.d), initializer='glorot_uniform',\n",
        "            trainable=True, dtype='float32'\n",
        "        )\n",
        "        # Value weight matrix\n",
        "        self.Wv = self.add_weight(\n",
        "            shape=(input_shape[-1], self.d), initializer='glorot_uniform',\n",
        "            trainable=True, dtype='float32'\n",
        "        )\n",
        "\n",
        "    def call(self, q_x, k_x, v_x, mask=None):\n",
        "        # Computing query, key and value\n",
        "        q = tf.matmul(q_x,self.Wq) #[None, t, d]\n",
        "        k = tf.matmul(k_x,self.Wk) #[None, t, d]\n",
        "        v = tf.matmul(v_x,self.Wv) #[None, t, d]\n",
        "\n",
        "        # Computing the probability matrix\n",
        "        p = tf.matmul(q, k, transpose_b=True)/math.sqrt(self.d) # [None, t, t]\n",
        "\n",
        "        if mask is None:\n",
        "            p = tf.nn.softmax(p)\n",
        "        else:\n",
        "            # Creating the mask\n",
        "            p += mask * -1e9\n",
        "            p = tf.nn.softmax(p)\n",
        "\n",
        "        # Computing the final output\n",
        "        h = tf.matmul(p, v) # [None, t, t] . [None, t, d] => [None, t, d]\n",
        "        return h,p\n",
        "\n",
        "layer = SelfAttentionLayer(512)\n",
        "mask = 1 - tf.linalg.band_part(tf.ones((7, 7)), -1, 0)\n",
        "h, p = layer(x, x, x, mask)\n",
        "print(h.shape)"
      ]
    },
    {
      "cell_type": "code",
      "source": [
        "tf.ones((7, 7))"
      ],
      "metadata": {
        "colab": {
          "base_uri": "https://localhost:8080/"
        },
        "id": "k1c6xJRG3PRb",
        "outputId": "484e554e-0a94-442f-d997-2cad62b45ec1"
      },
      "execution_count": 26,
      "outputs": [
        {
          "output_type": "execute_result",
          "data": {
            "text/plain": [
              "<tf.Tensor: shape=(7, 7), dtype=float32, numpy=\n",
              "array([[1., 1., 1., 1., 1., 1., 1.],\n",
              "       [1., 1., 1., 1., 1., 1., 1.],\n",
              "       [1., 1., 1., 1., 1., 1., 1.],\n",
              "       [1., 1., 1., 1., 1., 1., 1.],\n",
              "       [1., 1., 1., 1., 1., 1., 1.],\n",
              "       [1., 1., 1., 1., 1., 1., 1.],\n",
              "       [1., 1., 1., 1., 1., 1., 1.]], dtype=float32)>"
            ]
          },
          "metadata": {},
          "execution_count": 26
        }
      ]
    },
    {
      "cell_type": "code",
      "source": [
        "import numpy as np\n",
        "import matplotlib.pyplot as plt\n",
        "import tensorflow as tf\n",
        "\n",
        "# Create a 7x7 matrix with ones\n",
        "matrix = np.ones((7, 7))\n",
        "\n",
        "# Extract the lower triangular band\n",
        "triangular_matrix = tf.linalg.band_part(tf.ones((7, 7)), -1, 0)\n",
        "\n",
        "# Color the upper triangular part with red\n",
        "matrix[triangular_matrix == 0] = 0.0  # Set upper triangular elements to 0\n",
        "\n",
        "# Create a heatmap\n",
        "plt.imshow(matrix, cmap='viridis')\n",
        "plt.colorbar()\n",
        "plt.show()\n"
      ],
      "metadata": {
        "colab": {
          "base_uri": "https://localhost:8080/",
          "height": 435
        },
        "id": "mcTk98Sj3ojm",
        "outputId": "1dd84872-fc39-45f4-83b9-840f51bd8fb3"
      },
      "execution_count": 28,
      "outputs": [
        {
          "output_type": "display_data",
          "data": {
            "text/plain": [
              "<Figure size 640x480 with 2 Axes>"
            ],
            "image/png": "[encoded data removed]"
          },
          "metadata": {}
        }
      ]
    },
    {
      "cell_type": "code",
      "source": [
        "tf.linalg.band_part(tf.ones((7, 7)), -1, 0)"
      ],
      "metadata": {
        "colab": {
          "base_uri": "https://localhost:8080/"
        },
        "id": "H87O0CVW1tQH",
        "outputId": "2a3a1476-5b39-42e8-8f29-76d895b395a1"
      },
      "execution_count": 23,
      "outputs": [
        {
          "output_type": "execute_result",
          "data": {
            "text/plain": [
              "<tf.Tensor: shape=(7, 7), dtype=float32, numpy=\n",
              "array([[1., 0., 0., 0., 0., 0., 0.],\n",
              "       [1., 1., 0., 0., 0., 0., 0.],\n",
              "       [1., 1., 1., 0., 0., 0., 0.],\n",
              "       [1., 1., 1., 1., 0., 0., 0.],\n",
              "       [1., 1., 1., 1., 1., 0., 0.],\n",
              "       [1., 1., 1., 1., 1., 1., 0.],\n",
              "       [1., 1., 1., 1., 1., 1., 1.]], dtype=float32)>"
            ]
          },
          "metadata": {},
          "execution_count": 23
        }
      ]
    },
    {
      "cell_type": "markdown",
      "metadata": {
        "id": "4nzbt6oFnI78"
      },
      "source": [
        "## Defining a Mask using TensorFlow\n",
        "\n",
        "Let's now define an example mask in TensorFlow. As we have defined an input sequence having 7 steps, let's define a mask for 7 steps."
      ]
    },
    {
      "cell_type": "code",
      "execution_count": 35,
      "metadata": {
        "id": "87pu7k1UnI78"
      },
      "outputs": [],
      "source": [
        "multi_attn_head = [SelfAttentionLayer(64) for i in range(8)]\n",
        "outputs = [head(x, x, x)[0] for head in multi_attn_head]"
      ]
    },
    {
      "cell_type": "code",
      "source": [
        "import tensorflow as tf\n",
        "\n",
        "# Create two example tensors with compatible shapes\n",
        "tensor1 = tf.constant([[1, 2], [3, 4]])\n",
        "tensor2 = tf.constant([[5, 6],[8, 9]])\n",
        "print(tensor1)\n",
        "print(tensor2)\n",
        "# Expand the dimensions of tensor2 to make it compatible for concatenation\n",
        "\n",
        "# Concatenate tensors along the last dimension (axis=-1)\n",
        "concatenated_tensor = tf.concat([tensor1, tensor2], axis=-1)\n",
        "\n",
        "# Print the concatenated tensor\n",
        "print(concatenated_tensor)\n"
      ],
      "metadata": {
        "colab": {
          "base_uri": "https://localhost:8080/"
        },
        "id": "gh8fNfMv42l4",
        "outputId": "31c245f4-64b6-48a0-e390-ef980c1131df"
      },
      "execution_count": 43,
      "outputs": [
        {
          "output_type": "stream",
          "name": "stdout",
          "text": [
            "tf.Tensor(\n",
            "[[1 2]\n",
            " [3 4]], shape=(2, 2), dtype=int32)\n",
            "tf.Tensor(\n",
            "[[5 6]\n",
            " [8 9]], shape=(2, 2), dtype=int32)\n",
            "tf.Tensor(\n",
            "[[1 2 5 6]\n",
            " [3 4 8 9]], shape=(2, 4), dtype=int32)\n"
          ]
        }
      ]
    },
    {
      "cell_type": "code",
      "source": [
        "outputs = tf.concat(outputs, axis=-1)\n",
        "print(outputs.shape)\n"
      ],
      "metadata": {
        "colab": {
          "base_uri": "https://localhost:8080/"
        },
        "id": "eRZTCxWe3wim",
        "outputId": "4f3e806b-cdf8-4734-e731-448d0f7b5787"
      },
      "execution_count": 44,
      "outputs": [
        {
          "output_type": "stream",
          "name": "stdout",
          "text": [
            "(1, 7, 512)\n"
          ]
        }
      ]
    },
    {
      "cell_type": "markdown",
      "metadata": {
        "id": "QscpuHOUnI78"
      },
      "source": [
        "## Defining the Fully-Connected Layer\n",
        "\n",
        "Now let's define the fully-connected sublayer found in the Transformer networks."
      ]
    },
    {
      "cell_type": "code",
      "execution_count": 45,
      "metadata": {
        "colab": {
          "base_uri": "https://localhost:8080/"
        },
        "id": "yytKQlf0nI78",
        "outputId": "86f55204-b529-4d2f-a7c1-2f6d1293992e"
      },
      "outputs": [
        {
          "output_type": "stream",
          "name": "stdout",
          "text": [
            "(1, 7, 512)\n"
          ]
        }
      ],
      "source": [
        "# Section 5.2\n",
        "# Code listing 5.3\n",
        "import tensorflow as tf\n",
        "\n",
        "class FCLayer(layers.Layer):\n",
        "    \"\"\" The computations of a fully connected sublayer \"\"\"\n",
        "    def __init__(self, d1, d2):\n",
        "        super(FCLayer, self).__init__()\n",
        "        # Dimensionality of the first hidden layer\n",
        "        self.d1 = d1\n",
        "        # Dimensionality of the second hidden layer\n",
        "        self.d2 = d2\n",
        "\n",
        "    def build(self, input_shape):\n",
        "        # First layer's weights and biases\n",
        "        self.W1 = self.add_weight(\n",
        "            shape=(input_shape[-1], self.d1), initializer='glorot_uniform',\n",
        "            trainable=True, dtype='float32'\n",
        "        )\n",
        "        self.b1 = self.add_weight(\n",
        "            shape=(self.d1,), initializer='glorot_uniform',\n",
        "            trainable=True, dtype='float32'\n",
        "        )\n",
        "        # Second layer's weights and biases\n",
        "        self.W2 = self.add_weight(\n",
        "            shape=(self.d1, self.d2), initializer='glorot_uniform',\n",
        "            trainable=True, dtype='float32'\n",
        "        )\n",
        "        self.b2 = self.add_weight(\n",
        "            shape=(self.d2,), initializer='glorot_uniform',\n",
        "            trainable=True, dtype='float32'\n",
        "        )\n",
        "\n",
        "    def call(self, x):\n",
        "        # Computing the first fully connected output\n",
        "        ff1 = tf.nn.relu(tf.matmul(x,self.W1)+self.b1)\n",
        "        # Computing the second fully connected output\n",
        "        # Note that the second layer doesn't use an activation\n",
        "        ff2 = tf.matmul(ff1, self.W2)+self.b2\n",
        "        return ff2\n",
        "\n",
        "# Creating a dummy fully connected layer\n",
        "ff = FCLayer(2048, 512)(h)\n",
        "print(ff.shape)"
      ]
    },
    {
      "cell_type": "markdown",
      "metadata": {
        "id": "Ge1SCCbZnI78"
      },
      "source": [
        "## Defining the Encoder Layer and the Decoder Layer\n",
        "\n",
        "With all the low-level details ironed out, let's define the encoder and decoder layers."
      ]
    },
    {
      "cell_type": "code",
      "execution_count": 46,
      "metadata": {
        "id": "ncw6ZDJCnI78"
      },
      "outputs": [],
      "source": [
        "# Section 5.2\n",
        "# Code listing 5.5\n",
        "\n",
        "import tensorflow as tf\n",
        "\n",
        "class EncoderLayer(layers.Layer):\n",
        "    \"\"\" The Encoder layer \"\"\"\n",
        "\n",
        "    def __init__(self, d, n_heads):\n",
        "        super(EncoderLayer, self).__init__()\n",
        "        # Feature dimensionality\n",
        "        self.d = d\n",
        "        # Dimensionality of a head\n",
        "        self.d_head = int(d/n_heads)\n",
        "        # Number of heads\n",
        "        self.n_heads = n_heads\n",
        "        # Actual attention heads\n",
        "        self.attn_heads = [SelfAttentionLayer(self.d_head) for i in range(self.n_heads)]\n",
        "        # Fully connected layer\n",
        "        self.fc_layer = FCLayer(2048, self.d)\n",
        "\n",
        "    def call(self, x):\n",
        "\n",
        "        def compute_multihead_output(x):\n",
        "            \"\"\" Computing the multi head attention output\"\"\"\n",
        "            outputs = [head(x, x, x)[0] for head in self.attn_heads]\n",
        "            outputs = tf.concat(outputs, axis=-1)\n",
        "            return outputs\n",
        "\n",
        "        # Multi head attention layer output\n",
        "        h1 = compute_multihead_output(x)\n",
        "        # Fully connected layer output\n",
        "        y = self.fc_layer(h1)\n",
        "\n",
        "        return y"
      ]
    },
    {
      "cell_type": "code",
      "execution_count": 47,
      "metadata": {
        "id": "3C8et2HznI79"
      },
      "outputs": [],
      "source": [
        "# Code listing 5.6\n",
        "class DecoderLayer(layers.Layer):\n",
        "    \"\"\" The decoder layer \"\"\"\n",
        "    def __init__(self, d, n_heads):\n",
        "        super(DecoderLayer, self).__init__()\n",
        "        # Feature dimensionality\n",
        "        self.d = d\n",
        "        # Dimensionality of a single head\n",
        "        self.d_head = int(d/n_heads)\n",
        "        # Actual self attention heads (decoder inputs)\n",
        "        self.dec_attn_heads = [SelfAttentionLayer(self.d_head) for i in range(n_heads)]\n",
        "        # Actual self attention heads (encoder outputs)\n",
        "        self.attn_heads = [SelfAttentionLayer(self.d_head) for i in range(n_heads)]\n",
        "        # Fully connected layer\n",
        "        self.fc_layer = FCLayer(2048, self.d)\n",
        "\n",
        "    def call(self, de_x, en_x, mask=None):\n",
        "\n",
        "        def compute_multihead_output(attn_heads, de_x, en_x, mask=None):\n",
        "            \"\"\" Computing the multi head attention output\"\"\"\n",
        "            outputs = [head(en_x, en_x, de_x, mask)[0] for head in attn_heads]\n",
        "            outputs = tf.concat(outputs, axis=-1)\n",
        "            return outputs\n",
        "\n",
        "        # Multi head attention layer output (from decoder inputs)\n",
        "        h1 = compute_multihead_output(self.dec_attn_heads, de_x, de_x, mask)\n",
        "        # Multi head attention layer output (from encoder outputs)\n",
        "        h2 = compute_multihead_output(self.attn_heads, h1, en_x)\n",
        "        y = self.fc_layer(h2)\n",
        "        return y"
      ]
    },
    {
      "cell_type": "markdown",
      "metadata": {
        "id": "FwAPdoVcnI79"
      },
      "source": [
        "## Defining a Simple Transformer Network"
      ]
    },
    {
      "cell_type": "code",
      "execution_count": 48,
      "metadata": {
        "colab": {
          "base_uri": "https://localhost:8080/"
        },
        "id": "8Gpt1gbSnI79",
        "outputId": "d35765fa-3d0d-451a-cd35-771e821a6b65"
      },
      "outputs": [
        {
          "output_type": "stream",
          "name": "stdout",
          "text": [
            "Model: \"MinTransformer\"\n",
            "__________________________________________________________________________________________________\n",
            " Layer (type)                   Output Shape         Param #     Connected to                     \n",
            "==================================================================================================\n",
            " input_1 (InputLayer)           [(None, 25)]         0           []                               \n",
            "                                                                                                  \n",
            " embedding (Embedding)          (None, 25, 512)      153600      ['input_1[0][0]']                \n",
            "                                                                                                  \n",
            " input_2 (InputLayer)           [(None, 25)]         0           []                               \n",
            "                                                                                                  \n",
            " encoder_layer (EncoderLayer)   (None, 25, 512)      2886144     ['embedding[0][0]']              \n",
            "                                                                                                  \n",
            " embedding_1 (Embedding)        (None, 25, 512)      204800      ['input_2[0][0]']                \n",
            "                                                                                                  \n",
            " encoder_layer_1 (EncoderLayer)  (None, 25, 512)     2886144     ['encoder_layer[0][0]']          \n",
            "                                                                                                  \n",
            " decoder_layer (DecoderLayer)   (None, 25, 512)      3672576     ['embedding_1[0][0]',            \n",
            "                                                                  'encoder_layer_1[0][0]']        \n",
            "                                                                                                  \n",
            " decoder_layer_1 (DecoderLayer)  (None, 25, 512)     3672576     ['decoder_layer[0][0]',          \n",
            "                                                                  'encoder_layer_1[0][0]']        \n",
            "                                                                                                  \n",
            " dense (Dense)                  (None, 25, 400)      205200      ['decoder_layer_1[0][0]']        \n",
            "                                                                                                  \n",
            "==================================================================================================\n",
            "Total params: 13,681,040\n",
            "Trainable params: 13,681,040\n",
            "Non-trainable params: 0\n",
            "__________________________________________________________________________________________________\n"
          ]
        }
      ],
      "source": [
        "# Section 5.2\n",
        "# Code listing 5.7\n",
        "\n",
        "import tensorflow as tf\n",
        "\n",
        "# Defining some hyperparameters\n",
        "n_steps = 25 # Sequence length\n",
        "n_en_vocab = 300 # Encoder's vocabulary size\n",
        "n_de_vocab = 400 # Decoder's vocabulary size\n",
        "n_heads = 8 # Number of attention heads\n",
        "d = 512 # The feature dimensionality of each layer\n",
        "\n",
        "# Look-ahead mask\n",
        "mask = 1 - tf.linalg.band_part(tf.ones((n_steps, n_steps)), -1, 0)\n",
        "\n",
        "# Encoder input layer\n",
        "en_inp = layers.Input(shape=(n_steps,))\n",
        "# Encoder input embedddings\n",
        "en_emb = layers.Embedding(n_en_vocab, 512, input_length=n_steps)(en_inp)\n",
        "\n",
        "# Two encoder layers\n",
        "en_out1 = EncoderLayer(d, n_heads)(en_emb)\n",
        "en_out2 = EncoderLayer(d, n_heads)(en_out1)\n",
        "\n",
        "# Decoder input layer\n",
        "de_inp = layers.Input(shape=(n_steps,))\n",
        "# Decoder input embeddings\n",
        "de_emb = layers.Embedding(n_de_vocab, 512, input_length=n_steps)(de_inp)\n",
        "\n",
        "# Two decoder layers\n",
        "de_out1 = DecoderLayer(d, n_heads)(de_emb, en_out2, mask)\n",
        "de_out2 = DecoderLayer(d, n_heads)(de_out1, en_out2, mask)\n",
        "\n",
        "# Final output layer\n",
        "de_pred = layers.Dense(n_de_vocab, activation='softmax')(de_out2)\n",
        "\n",
        "# Defining the model\n",
        "transformer = models.Model(inputs=[en_inp, de_inp], outputs=de_pred, name='MinTransformer')\n",
        "# Compiling the model\n",
        "transformer.compile(loss='categorical_crossentropy', optimizer='adam', metrics=['acc'])\n",
        "transformer.summary()"
      ]
    },
    {
      "cell_type": "code",
      "execution_count": null,
      "metadata": {
        "id": "uCAW7yvznI79"
      },
      "outputs": [],
      "source": []
    },
    {
      "cell_type": "code",
      "execution_count": null,
      "metadata": {
        "id": "gh8u2RJQnI79"
      },
      "outputs": [],
      "source": []
    }
  ],
  "metadata": {
    "kernelspec": {
      "display_name": "Python 3 (ipykernel)",
      "language": "python",
      "name": "python3"
    },
    "language_info": {
      "codemirror_mode": {
        "name": "ipython",
        "version": 3
      },
      "file_extension": ".py",
      "mimetype": "text/x-python",
      "name": "python",
      "nbconvert_exporter": "python",
      "pygments_lexer": "ipython3",
      "version": "3.10.4"
    },
    "colab": {
      "provenance": [],
      "include_colab_link": true
    }
  },
  "nbformat": 4,
  "nbformat_minor": 0
}