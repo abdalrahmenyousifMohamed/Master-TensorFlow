{
  "cells": [
    {
      "cell_type": "markdown",
      "metadata": {
        "id": "view-in-github",
        "colab_type": "text"
      },
      "source": [
        "<a href=\"https://colab.research.google.com/github/abdalrahmenyousifMohamed/Master-TensorFlow/blob/main/9_1_Sentiment_analysis.ipynb\" target=\"_parent\"><img src=\"https://colab.research.google.com/assets/colab-badge.svg\" alt=\"Open In Colab\"/></a>"
      ]
    },
    {
      "cell_type": "markdown",
      "metadata": {
        "id": "gF5pQjzytEJg"
      },
      "source": [
        "# Sentiment Analysis (Natural Language Processing)\n",
        "\n",
        "Natural Language Processing (NLP) is a vast subject with many different specializations. Here we are going to discuss sentiment analysis. We will be specifically looking at developing a sentiment model based on Amazon video game reviews.\n",
        "\n",
        "\n",
        "<table align=\"left\">\n",
        "    <td>\n",
        "        <a target=\"_blank\" href=\"https://colab.research.google.com/github/thushv89/manning_tf2_in_action/blob/master/Ch09-NLP-with-TF2-Sentiment-Analysis/9.1.Sentiment_analysis.ipynb\"><img src=\"https://www.tensorflow.org/images/colab_logo_32px.png\" />Run in Google Colab</a>\n",
        "    </td>\n",
        "</table>\n",
        "\n"
      ]
    },
    {
      "cell_type": "markdown",
      "metadata": {
        "id": "ZIpPwnjctEJi"
      },
      "source": [
        "## Importing libraries and other housekeeping"
      ]
    },
    {
      "cell_type": "code",
      "execution_count": 1,
      "metadata": {
        "colab": {
          "base_uri": "https://localhost:8080/"
        },
        "id": "QyP5tDsztEJi",
        "outputId": "12d9691b-b4a4-40cc-cc2d-45657e3e9d8a"
      },
      "outputs": [
        {
          "output_type": "stream",
          "name": "stdout",
          "text": [
            "TensorFlow version: 2.14.0\n"
          ]
        }
      ],
      "source": [
        "import tensorflow as tf\n",
        "import requests\n",
        "import zipfile\n",
        "import requests\n",
        "import os\n",
        "import time\n",
        "import pandas as pd\n",
        "import random\n",
        "import shutil\n",
        "from tensorflow.keras.preprocessing.image import ImageDataGenerator\n",
        "import os\n",
        "import tensorflow.keras.layers as layers\n",
        "import tensorflow.keras.models as models\n",
        "from tensorflow.keras.losses import CategoricalCrossentropy\n",
        "import tensorflow.keras.backend as K\n",
        "from tensorflow.keras.callbacks import EarlyStopping, CSVLogger\n",
        "import numpy as np\n",
        "from PIL import Image\n",
        "import pickle\n",
        "from tensorflow.keras.models import load_model, Model\n",
        "from PIL import Image\n",
        "from PIL.PngImagePlugin import PngImageFile\n",
        "import matplotlib.pyplot as plt\n",
        "import glob\n",
        "from functools import partial\n",
        "import nltk\n",
        "\n",
        "gpus = tf.config.experimental.list_physical_devices('GPU')\n",
        "if gpus:\n",
        "    try:\n",
        "        # Currently, memory growth needs to be the same across GPUs\n",
        "        for gpu in gpus:\n",
        "            tf.config.experimental.set_memory_growth(gpu, True)\n",
        "    except:\n",
        "        print(\"Couldn't set memory_growth\")\n",
        "        pass\n",
        "\n",
        "\n",
        "def fix_random_seed(seed):\n",
        "    \"\"\" Setting the random seed of various libraries \"\"\"\n",
        "    try:\n",
        "        np.random.seed(seed)\n",
        "    except NameError:\n",
        "        print(\"Warning: Numpy is not imported. Setting the seed for Numpy failed.\")\n",
        "    try:\n",
        "        tf.random.set_seed(seed)\n",
        "    except NameError:\n",
        "        print(\"Warning: TensorFlow is not imported. Setting the seed for TensorFlow failed.\")\n",
        "    try:\n",
        "        random.seed(seed)\n",
        "    except NameError:\n",
        "        print(\"Warning: random module is not imported. Setting the seed for random failed.\")\n",
        "\n",
        "# Fixing the random seed\n",
        "random_seed=4321\n",
        "fix_random_seed(random_seed)\n",
        "\n",
        "print(\"TensorFlow version: {}\".format(tf.__version__))"
      ]
    },
    {
      "cell_type": "markdown",
      "metadata": {
        "id": "k4cJSAP-tEJk"
      },
      "source": [
        "## Downloading data\n",
        "\n",
        "Here as the dataset we are going to use an Amazon video game review dataset available through this [link](http://deepyeti.ucsd.edu/jianmo/amazon/categoryFilesSmall/Video_Games_5.json.gz)."
      ]
    },
    {
      "cell_type": "code",
      "source": [
        "!pip install kaggle"
      ],
      "metadata": {
        "colab": {
          "base_uri": "https://localhost:8080/"
        },
        "id": "Ilq4UHr8uo8H",
        "outputId": "08e0e912-71eb-4313-80b9-8938d035b657"
      },
      "execution_count": 10,
      "outputs": [
        {
          "output_type": "stream",
          "name": "stdout",
          "text": [
            "Requirement already satisfied: kaggle in /usr/local/lib/python3.10/dist-packages (1.5.16)\n",
            "Requirement already satisfied: six>=1.10 in /usr/local/lib/python3.10/dist-packages (from kaggle) (1.16.0)\n",
            "Requirement already satisfied: certifi in /usr/local/lib/python3.10/dist-packages (from kaggle) (2023.7.22)\n",
            "Requirement already satisfied: python-dateutil in /usr/local/lib/python3.10/dist-packages (from kaggle) (2.8.2)\n",
            "Requirement already satisfied: requests in /usr/local/lib/python3.10/dist-packages (from kaggle) (2.31.0)\n",
            "Requirement already satisfied: tqdm in /usr/local/lib/python3.10/dist-packages (from kaggle) (4.66.1)\n",
            "Requirement already satisfied: python-slugify in /usr/local/lib/python3.10/dist-packages (from kaggle) (8.0.1)\n",
            "Requirement already satisfied: urllib3 in /usr/local/lib/python3.10/dist-packages (from kaggle) (2.0.7)\n",
            "Requirement already satisfied: bleach in /usr/local/lib/python3.10/dist-packages (from kaggle) (6.1.0)\n",
            "Requirement already satisfied: webencodings in /usr/local/lib/python3.10/dist-packages (from bleach->kaggle) (0.5.1)\n",
            "Requirement already satisfied: text-unidecode>=1.3 in /usr/local/lib/python3.10/dist-packages (from python-slugify->kaggle) (1.3)\n",
            "Requirement already satisfied: charset-normalizer<4,>=2 in /usr/local/lib/python3.10/dist-packages (from requests->kaggle) (3.3.1)\n",
            "Requirement already satisfied: idna<4,>=2.5 in /usr/local/lib/python3.10/dist-packages (from requests->kaggle) (3.4)\n"
          ]
        }
      ]
    },
    {
      "cell_type": "code",
      "source": [
        "!kaggle kernels output idrimadrid/projet-text-mining-amazon-reviews -p data\n"
      ],
      "metadata": {
        "colab": {
          "base_uri": "https://localhost:8080/"
        },
        "id": "DV047yU4wUYF",
        "outputId": "568fcc5d-1039-4a07-dfad-c2766efda0b8"
      },
      "execution_count": 25,
      "outputs": [
        {
          "output_type": "stream",
          "name": "stdout",
          "text": [
            "401 - Unauthorized\n"
          ]
        }
      ]
    },
    {
      "cell_type": "code",
      "source": [
        "!mkdir -p /root/.kaggle\n",
        "!mv kaggle.json /root/.kaggle/\n",
        "!chmod 600 /root/.kaggle/kaggle.json"
      ],
      "metadata": {
        "id": "puMNida_u7zP"
      },
      "execution_count": 28,
      "outputs": []
    },
    {
      "cell_type": "code",
      "source": [
        "!kaggle kernels output idrimadrid/projet-text-mining-amazon-reviews -p data"
      ],
      "metadata": {
        "colab": {
          "base_uri": "https://localhost:8080/"
        },
        "id": "aXlGbLV2u6FX",
        "outputId": "4fbfa217-b4c6-4843-aedf-5edc5dfe6884"
      },
      "execution_count": 30,
      "outputs": [
        {
          "output_type": "stream",
          "name": "stdout",
          "text": [
            "Output file downloaded to data/Video_Games_5.json.gz\n",
            "Kernel log downloaded to data/projet-text-mining-amazon-reviews.log \n"
          ]
        }
      ]
    },
    {
      "cell_type": "code",
      "execution_count": 31,
      "metadata": {
        "colab": {
          "base_uri": "https://localhost:8080/"
        },
        "id": "ZD9ymFHWtEJk",
        "outputId": "6a59b243-2bfc-4054-ace3-caf78763452a"
      },
      "outputs": [
        {
          "output_type": "stream",
          "name": "stdout",
          "text": [
            "The tar file already exists.\n"
          ]
        }
      ],
      "source": [
        "# Section 9.1\n",
        "\n",
        "# Code listing 9.1\n",
        "\n",
        "# Downloading the data\n",
        "# http://deepyeti.ucsd.edu/jianmo/amazon/categoryFilesSmall/Video_Games_5.json.gz\n",
        "\n",
        "import os\n",
        "import requests\n",
        "import gzip\n",
        "import shutil\n",
        "\n",
        "# Retrieve the data\n",
        "if not os.path.exists(os.path.join('data','Video_Games_5.json.gz')):\n",
        "    url = \"http://deepyeti.ucsd.edu/jianmo/amazon/categoryFilesSmall/Video_Games_5.json.gz\"\n",
        "    # Get the file from web\n",
        "    r = requests.get(url)\n",
        "\n",
        "    if not os.path.exists('data'):\n",
        "        os.mkdir('data')\n",
        "\n",
        "    # Write to a file\n",
        "    with open(os.path.join('data','Video_Games_5.json.gz'), 'wb') as f:\n",
        "        f.write(r.content)\n",
        "else:\n",
        "    print(\"The tar file already exists.\")\n",
        "\n",
        "if not os.path.exists(os.path.join('data', 'Video_Games_5.json')):\n",
        "    with gzip.open(os.path.join('data','Video_Games_5.json.gz'), 'rb') as f_in:\n",
        "        with open(os.path.join('data','Video_Games_5.json'), 'wb') as f_out:\n",
        "            shutil.copyfileobj(f_in, f_out)\n",
        "else:\n",
        "    print(\"The extracted data already exists\")\n"
      ]
    },
    {
      "cell_type": "markdown",
      "metadata": {
        "id": "TuEyAdHntEJk"
      },
      "source": [
        "## Loading review data\n",
        "\n",
        "Let's load a sample of data. The columns that are of interest to us are,\n",
        "\n",
        "* overall - The overall stars received in the reivew\n",
        "* verified - Whether the reviewer is a verified buyer or not\n",
        "* reviewTime - When the review was posted\n",
        "* reviewText - The review itself"
      ]
    },
    {
      "cell_type": "code",
      "execution_count": 33,
      "metadata": {
        "colab": {
          "base_uri": "https://localhost:8080/",
          "height": 206
        },
        "id": "vxio1qhttEJl",
        "outputId": "7ceb3714-7308-4ec0-eb3a-ae2849000817"
      },
      "outputs": [
        {
          "output_type": "execute_result",
          "data": {
            "text/plain": [
              "   overall  verified   reviewTime  \\\n",
              "0        5      True  10 17, 2015   \n",
              "1        4     False  07 27, 2015   \n",
              "2        3      True  02 23, 2015   \n",
              "3        2      True  02 20, 2015   \n",
              "4        5      True  12 25, 2014   \n",
              "\n",
              "                                          reviewText  \n",
              "0  This game is a bit hard to get the hang of, bu...  \n",
              "1  I played it a while but it was alright. The st...  \n",
              "2                                           ok game.  \n",
              "3  found the game a bit too complicated, not what...  \n",
              "4  great game, I love it and have played it since...  "
            ],
            "text/html": [
              "\n",
              "  <div id=\"df-34a7e0df-62dc-4e1f-b1d0-95d330f03bec\" class=\"colab-df-container\">\n",
              "    <div>\n",
              "<style scoped>\n",
              "    .dataframe tbody tr th:only-of-type {\n",
              "        vertical-align: middle;\n",
              "    }\n",
              "\n",
              "    .dataframe tbody tr th {\n",
              "        vertical-align: top;\n",
              "    }\n",
              "\n",
              "    .dataframe thead th {\n",
              "        text-align: right;\n",
              "    }\n",
              "</style>\n",
              "<table border=\"1\" class=\"dataframe\">\n",
              "  <thead>\n",
              "    <tr style=\"text-align: right;\">\n",
              "      <th></th>\n",
              "      <th>overall</th>\n",
              "      <th>verified</th>\n",
              "      <th>reviewTime</th>\n",
              "      <th>reviewText</th>\n",
              "    </tr>\n",
              "  </thead>\n",
              "  <tbody>\n",
              "    <tr>\n",
              "      <th>0</th>\n",
              "      <td>5</td>\n",
              "      <td>True</td>\n",
              "      <td>10 17, 2015</td>\n",
              "      <td>This game is a bit hard to get the hang of, bu...</td>\n",
              "    </tr>\n",
              "    <tr>\n",
              "      <th>1</th>\n",
              "      <td>4</td>\n",
              "      <td>False</td>\n",
              "      <td>07 27, 2015</td>\n",
              "      <td>I played it a while but it was alright. The st...</td>\n",
              "    </tr>\n",
              "    <tr>\n",
              "      <th>2</th>\n",
              "      <td>3</td>\n",
              "      <td>True</td>\n",
              "      <td>02 23, 2015</td>\n",
              "      <td>ok game.</td>\n",
              "    </tr>\n",
              "    <tr>\n",
              "      <th>3</th>\n",
              "      <td>2</td>\n",
              "      <td>True</td>\n",
              "      <td>02 20, 2015</td>\n",
              "      <td>found the game a bit too complicated, not what...</td>\n",
              "    </tr>\n",
              "    <tr>\n",
              "      <th>4</th>\n",
              "      <td>5</td>\n",
              "      <td>True</td>\n",
              "      <td>12 25, 2014</td>\n",
              "      <td>great game, I love it and have played it since...</td>\n",
              "    </tr>\n",
              "  </tbody>\n",
              "</table>\n",
              "</div>\n",
              "    <div class=\"colab-df-buttons\">\n",
              "\n",
              "  <div class=\"colab-df-container\">\n",
              "    <button class=\"colab-df-convert\" onclick=\"convertToInteractive('df-34a7e0df-62dc-4e1f-b1d0-95d330f03bec')\"\n",
              "            title=\"Convert this dataframe to an interactive table.\"\n",
              "            style=\"display:none;\">\n",
              "\n",
              "  <svg xmlns=\"http://www.w3.org/2000/svg\" height=\"24px\" viewBox=\"0 -960 960 960\">\n",
              "    <path d=\"M120-120v-720h720v720H120Zm60-500h600v-160H180v160Zm220 220h160v-160H400v160Zm0 220h160v-160H400v160ZM180-400h160v-160H180v160Zm440 0h160v-160H620v160ZM180-180h160v-160H180v160Zm440 0h160v-160H620v160Z\"/>\n",
              "  </svg>\n",
              "    </button>\n",
              "\n",
              "  <style>\n",
              "    .colab-df-container {\n",
              "      display:flex;\n",
              "      gap: 12px;\n",
              "    }\n",
              "\n",
              "    .colab-df-convert {\n",
              "      background-color: #E8F0FE;\n",
              "      border: none;\n",
              "      border-radius: 50%;\n",
              "      cursor: pointer;\n",
              "      display: none;\n",
              "      fill: #1967D2;\n",
              "      height: 32px;\n",
              "      padding: 0 0 0 0;\n",
              "      width: 32px;\n",
              "    }\n",
              "\n",
              "    .colab-df-convert:hover {\n",
              "      background-color: #E2EBFA;\n",
              "      box-shadow: 0px 1px 2px rgba(60, 64, 67, 0.3), 0px 1px 3px 1px rgba(60, 64, 67, 0.15);\n",
              "      fill: #174EA6;\n",
              "    }\n",
              "\n",
              "    .colab-df-buttons div {\n",
              "      margin-bottom: 4px;\n",
              "    }\n",
              "\n",
              "    [theme=dark] .colab-df-convert {\n",
              "      background-color: #3B4455;\n",
              "      fill: #D2E3FC;\n",
              "    }\n",
              "\n",
              "    [theme=dark] .colab-df-convert:hover {\n",
              "      background-color: #434B5C;\n",
              "      box-shadow: 0px 1px 3px 1px rgba(0, 0, 0, 0.15);\n",
              "      filter: drop-shadow(0px 1px 2px rgba(0, 0, 0, 0.3));\n",
              "      fill: #FFFFFF;\n",
              "    }\n",
              "  </style>\n",
              "\n",
              "    <script>\n",
              "      const buttonEl =\n",
              "        document.querySelector('#df-34a7e0df-62dc-4e1f-b1d0-95d330f03bec button.colab-df-convert');\n",
              "      buttonEl.style.display =\n",
              "        google.colab.kernel.accessAllowed ? 'block' : 'none';\n",
              "\n",
              "      async function convertToInteractive(key) {\n",
              "        const element = document.querySelector('#df-34a7e0df-62dc-4e1f-b1d0-95d330f03bec');\n",
              "        const dataTable =\n",
              "          await google.colab.kernel.invokeFunction('convertToInteractive',\n",
              "                                                    [key], {});\n",
              "        if (!dataTable) return;\n",
              "\n",
              "        const docLinkHtml = 'Like what you see? Visit the ' +\n",
              "          '<a target=\"_blank\" href=https://colab.research.google.com/notebooks/data_table.ipynb>data table notebook</a>'\n",
              "          + ' to learn more about interactive tables.';\n",
              "        element.innerHTML = '';\n",
              "        dataTable['output_type'] = 'display_data';\n",
              "        await google.colab.output.renderOutput(dataTable, element);\n",
              "        const docLink = document.createElement('div');\n",
              "        docLink.innerHTML = docLinkHtml;\n",
              "        element.appendChild(docLink);\n",
              "      }\n",
              "    </script>\n",
              "  </div>\n",
              "\n",
              "\n",
              "<div id=\"df-847c4996-69a5-481a-b5f0-933dac0ed55f\">\n",
              "  <button class=\"colab-df-quickchart\" onclick=\"quickchart('df-847c4996-69a5-481a-b5f0-933dac0ed55f')\"\n",
              "            title=\"Suggest charts.\"\n",
              "            style=\"display:none;\">\n",
              "\n",
              "<svg xmlns=\"http://www.w3.org/2000/svg\" height=\"24px\"viewBox=\"0 0 24 24\"\n",
              "     width=\"24px\">\n",
              "    <g>\n",
              "        <path d=\"M19 3H5c-1.1 0-2 .9-2 2v14c0 1.1.9 2 2 2h14c1.1 0 2-.9 2-2V5c0-1.1-.9-2-2-2zM9 17H7v-7h2v7zm4 0h-2V7h2v10zm4 0h-2v-4h2v4z\"/>\n",
              "    </g>\n",
              "</svg>\n",
              "  </button>\n",
              "\n",
              "<style>\n",
              "  .colab-df-quickchart {\n",
              "      --bg-color: #E8F0FE;\n",
              "      --fill-color: #1967D2;\n",
              "      --hover-bg-color: #E2EBFA;\n",
              "      --hover-fill-color: #174EA6;\n",
              "      --disabled-fill-color: #AAA;\n",
              "      --disabled-bg-color: #DDD;\n",
              "  }\n",
              "\n",
              "  [theme=dark] .colab-df-quickchart {\n",
              "      --bg-color: #3B4455;\n",
              "      --fill-color: #D2E3FC;\n",
              "      --hover-bg-color: #434B5C;\n",
              "      --hover-fill-color: #FFFFFF;\n",
              "      --disabled-bg-color: #3B4455;\n",
              "      --disabled-fill-color: #666;\n",
              "  }\n",
              "\n",
              "  .colab-df-quickchart {\n",
              "    background-color: var(--bg-color);\n",
              "    border: none;\n",
              "    border-radius: 50%;\n",
              "    cursor: pointer;\n",
              "    display: none;\n",
              "    fill: var(--fill-color);\n",
              "    height: 32px;\n",
              "    padding: 0;\n",
              "    width: 32px;\n",
              "  }\n",
              "\n",
              "  .colab-df-quickchart:hover {\n",
              "    background-color: var(--hover-bg-color);\n",
              "    box-shadow: 0 1px 2px rgba(60, 64, 67, 0.3), 0 1px 3px 1px rgba(60, 64, 67, 0.15);\n",
              "    fill: var(--button-hover-fill-color);\n",
              "  }\n",
              "\n",
              "  .colab-df-quickchart-complete:disabled,\n",
              "  .colab-df-quickchart-complete:disabled:hover {\n",
              "    background-color: var(--disabled-bg-color);\n",
              "    fill: var(--disabled-fill-color);\n",
              "    box-shadow: none;\n",
              "  }\n",
              "\n",
              "  .colab-df-spinner {\n",
              "    border: 2px solid var(--fill-color);\n",
              "    border-color: transparent;\n",
              "    border-bottom-color: var(--fill-color);\n",
              "    animation:\n",
              "      spin 1s steps(1) infinite;\n",
              "  }\n",
              "\n",
              "  @keyframes spin {\n",
              "    0% {\n",
              "      border-color: transparent;\n",
              "      border-bottom-color: var(--fill-color);\n",
              "      border-left-color: var(--fill-color);\n",
              "    }\n",
              "    20% {\n",
              "      border-color: transparent;\n",
              "      border-left-color: var(--fill-color);\n",
              "      border-top-color: var(--fill-color);\n",
              "    }\n",
              "    30% {\n",
              "      border-color: transparent;\n",
              "      border-left-color: var(--fill-color);\n",
              "      border-top-color: var(--fill-color);\n",
              "      border-right-color: var(--fill-color);\n",
              "    }\n",
              "    40% {\n",
              "      border-color: transparent;\n",
              "      border-right-color: var(--fill-color);\n",
              "      border-top-color: var(--fill-color);\n",
              "    }\n",
              "    60% {\n",
              "      border-color: transparent;\n",
              "      border-right-color: var(--fill-color);\n",
              "    }\n",
              "    80% {\n",
              "      border-color: transparent;\n",
              "      border-right-color: var(--fill-color);\n",
              "      border-bottom-color: var(--fill-color);\n",
              "    }\n",
              "    90% {\n",
              "      border-color: transparent;\n",
              "      border-bottom-color: var(--fill-color);\n",
              "    }\n",
              "  }\n",
              "</style>\n",
              "\n",
              "  <script>\n",
              "    async function quickchart(key) {\n",
              "      const quickchartButtonEl =\n",
              "        document.querySelector('#' + key + ' button');\n",
              "      quickchartButtonEl.disabled = true;  // To prevent multiple clicks.\n",
              "      quickchartButtonEl.classList.add('colab-df-spinner');\n",
              "      try {\n",
              "        const charts = await google.colab.kernel.invokeFunction(\n",
              "            'suggestCharts', [key], {});\n",
              "      } catch (error) {\n",
              "        console.error('Error during call to suggestCharts:', error);\n",
              "      }\n",
              "      quickchartButtonEl.classList.remove('colab-df-spinner');\n",
              "      quickchartButtonEl.classList.add('colab-df-quickchart-complete');\n",
              "    }\n",
              "    (() => {\n",
              "      let quickchartButtonEl =\n",
              "        document.querySelector('#df-847c4996-69a5-481a-b5f0-933dac0ed55f button');\n",
              "      quickchartButtonEl.style.display =\n",
              "        google.colab.kernel.accessAllowed ? 'block' : 'none';\n",
              "    })();\n",
              "  </script>\n",
              "</div>\n",
              "    </div>\n",
              "  </div>\n"
            ]
          },
          "metadata": {},
          "execution_count": 33
        }
      ],
      "source": [
        "import pandas as pd\n",
        "\n",
        "# Read the JSON file\n",
        "review_df = pd.read_json(os.path.join('data', 'Video_Games_5.json'), lines=True, orient='records')\n",
        "# Select on the columns we're interested in\n",
        "review_df = review_df[[\"overall\", \"verified\", \"reviewTime\", \"reviewText\"]]\n",
        "review_df.head()"
      ]
    },
    {
      "cell_type": "markdown",
      "metadata": {
        "id": "kpRNTU5LtEJl"
      },
      "source": [
        "## Cleaning up data\n",
        "\n",
        "Remove entries where the description is null or empty"
      ]
    },
    {
      "cell_type": "code",
      "execution_count": 34,
      "metadata": {
        "colab": {
          "base_uri": "https://localhost:8080/"
        },
        "id": "tl8Bi8nJtEJl",
        "outputId": "f2601371-e57c-4f06-bb80-d4487181c9d9"
      },
      "outputs": [
        {
          "output_type": "stream",
          "name": "stdout",
          "text": [
            "Before cleaning up: (497577, 4)\n",
            "After cleaning up: (497419, 4)\n"
          ]
        }
      ],
      "source": [
        "print(\"Before cleaning up: {}\".format(review_df.shape))\n",
        "review_df = review_df[~review_df[\"reviewText\"].isna()]\n",
        "review_df = review_df[review_df[\"reviewText\"].str.strip().str.len()>0]\n",
        "print(\"After cleaning up: {}\".format(review_df.shape))"
      ]
    },
    {
      "cell_type": "markdown",
      "metadata": {
        "id": "HRgaPCO2tEJl"
      },
      "source": [
        "## Checking verified vs non-verified review counts\n",
        "\n",
        "To improve the quality of the data reviewed, we will only use the verified reviews. But we have to make sure there's enough data. It seems more than 66% of the data is coming from verified buyers."
      ]
    },
    {
      "cell_type": "code",
      "execution_count": 35,
      "metadata": {
        "colab": {
          "base_uri": "https://localhost:8080/"
        },
        "id": "DS8l--DHtEJl",
        "outputId": "3004a83c-317a-4b59-e1a0-d7439f85df39"
      },
      "outputs": [
        {
          "output_type": "execute_result",
          "data": {
            "text/plain": [
              "True     332504\n",
              "False    164915\n",
              "Name: verified, dtype: int64"
            ]
          },
          "metadata": {},
          "execution_count": 35
        }
      ],
      "source": [
        "review_df[\"verified\"].value_counts()"
      ]
    },
    {
      "cell_type": "markdown",
      "metadata": {
        "id": "_dzsmsSutEJl"
      },
      "source": [
        "## Check the review count for each rating from verified buyers\n",
        "\n",
        "Let's check how many reviews are there for each different rating. As you can see there are way too many 5 star reviews in our dataset. Therefore we must make sure to account for this imbalance when batching data and creating a model."
      ]
    },
    {
      "cell_type": "code",
      "execution_count": 38,
      "metadata": {
        "colab": {
          "base_uri": "https://localhost:8080/"
        },
        "id": "9j4ViMyItEJl",
        "outputId": "03c1ab8d-2821-4323-b55e-6ae8227497fa"
      },
      "outputs": [
        {
          "output_type": "execute_result",
          "data": {
            "text/plain": [
              "5    222335\n",
              "4     54878\n",
              "3     27973\n",
              "1     15200\n",
              "2     12118\n",
              "Name: overall, dtype: int64"
            ]
          },
          "metadata": {},
          "execution_count": 38
        }
      ],
      "source": [
        "verified_df = review_df.loc[review_df[\"verified\"], :]\n",
        "verified_df[\"overall\"].value_counts()"
      ]
    },
    {
      "cell_type": "markdown",
      "metadata": {
        "id": "UM3s1sPytEJm"
      },
      "source": [
        "## Map rating to a positive/negative label\n",
        "\n",
        "To make our classification task simple, we will map the different star ratings to a positive (1) or a negative (0) label. Here we map both 5 and 4 reviews to 1 (positive) and 3,2, and 1 to 0 (negative)."
      ]
    },
    {
      "cell_type": "code",
      "execution_count": 39,
      "metadata": {
        "colab": {
          "base_uri": "https://localhost:8080/"
        },
        "id": "rdfa6nfytEJm",
        "outputId": "4652cadd-e3dd-4f45-b5e4-decf65e52709"
      },
      "outputs": [
        {
          "output_type": "stream",
          "name": "stderr",
          "text": [
            "<ipython-input-39-5835213096a6>:2: SettingWithCopyWarning: \n",
            "A value is trying to be set on a copy of a slice from a DataFrame.\n",
            "Try using .loc[row_indexer,col_indexer] = value instead\n",
            "\n",
            "See the caveats in the documentation: https://pandas.pydata.org/pandas-docs/stable/user_guide/indexing.html#returning-a-view-versus-a-copy\n",
            "  verified_df[\"label\"]=verified_df[\"overall\"].map({5:1, 4:1, 3:0, 2:0, 1:0})\n"
          ]
        },
        {
          "output_type": "execute_result",
          "data": {
            "text/plain": [
              "1    277213\n",
              "0     55291\n",
              "Name: label, dtype: int64"
            ]
          },
          "metadata": {},
          "execution_count": 39
        }
      ],
      "source": [
        "# Use pandas map function to map different star ratings to 0/1\n",
        "verified_df[\"label\"]=verified_df[\"overall\"].map({5:1, 4:1, 3:0, 2:0, 1:0})\n",
        "verified_df[\"label\"].value_counts()"
      ]
    },
    {
      "cell_type": "markdown",
      "metadata": {
        "id": "QKCVyNxGtEJm"
      },
      "source": [
        "## Shuffling the data\n",
        "\n",
        "Let's shuffle the data to make sure there is no order in the data"
      ]
    },
    {
      "cell_type": "code",
      "execution_count": 40,
      "metadata": {
        "id": "6IXG4PkgtEJm"
      },
      "outputs": [],
      "source": [
        "# We are sampling 100% of the data in a random fashion, leading to a shuffled dataset\n",
        "verified_df = verified_df.sample(frac=1.0, random_state=random_seed)\n",
        "\n",
        "# Splint the data to inputs (inputs) and targets (labels)\n",
        "inputs, labels = verified_df[\"reviewText\"], verified_df[\"label\"]"
      ]
    },
    {
      "cell_type": "markdown",
      "metadata": {
        "id": "NbsvG-U4tEJm"
      },
      "source": [
        "## Preprocessing the text\n",
        "\n",
        "Here we perform preprocessing. Mainly we're going to focus on the following\n",
        "\n",
        "* Lower case (nltk) - Turn \"I am\" to \"i am\"\n",
        "* Remove numbers (regex) - Turn \"i am 24 years old\" to \"i am years old\"\n",
        "* Remove stop words (nltk) - Turn \"i go to the shop\" to \"i go shop\"\n",
        "* Lemmatize (nltk) - Turn \"i went to buy flowers\" to \"i go to buy flower\"\n",
        "\n",
        "Preprocessing helps to reduce the features space, thus the model learning faster"
      ]
    },
    {
      "cell_type": "code",
      "execution_count": 41,
      "metadata": {
        "colab": {
          "base_uri": "https://localhost:8080/"
        },
        "id": "CpRj1gUJtEJm",
        "outputId": "69daf638-d030-46ce-a988-ebb81515bd12"
      },
      "outputs": [
        {
          "output_type": "stream",
          "name": "stderr",
          "text": [
            "[nltk_data] Downloading package averaged_perceptron_tagger to nltk...\n",
            "[nltk_data]   Unzipping taggers/averaged_perceptron_tagger.zip.\n",
            "[nltk_data] Downloading package wordnet to nltk...\n",
            "[nltk_data] Downloading package stopwords to nltk...\n",
            "[nltk_data]   Unzipping corpora/stopwords.zip.\n",
            "[nltk_data] Downloading package punkt to nltk...\n",
            "[nltk_data]   Unzipping tokenizers/punkt.zip.\n",
            "[nltk_data] Downloading package omw-1.4 to nltk...\n"
          ]
        },
        {
          "output_type": "stream",
          "name": "stdout",
          "text": [
            "Before clean: She sells seashells by the seashore.\n",
            "After clean: ['sell', 'seashell', 'seashore']\n",
            "\n",
            "Processing all the review data ... This can take a long time (~ 1hr)\n",
            "\tDone\n",
            "Saving the data\n"
          ]
        }
      ],
      "source": [
        "# Section 9.1\n",
        "\n",
        "import nltk\n",
        "# We need to download several nltk artefacts to perform the preprocessing\n",
        "nltk.download('averaged_perceptron_tagger', download_dir='nltk')\n",
        "nltk.download('wordnet', download_dir='nltk')\n",
        "nltk.download('stopwords', download_dir='nltk')\n",
        "nltk.download('punkt', download_dir='nltk')\n",
        "nltk.download('omw-1.4', download_dir='nltk')\n",
        "nltk.data.path.append(os.path.abspath('nltk'))\n",
        "\n",
        "from nltk import word_tokenize\n",
        "from nltk.corpus import stopwords\n",
        "from nltk.stem import WordNetLemmatizer\n",
        "import re\n",
        "import string\n",
        "\n",
        "rerun = False\n",
        "\n",
        "# Define a lemmatizer (converts words to base form)\n",
        "lemmatizer = WordNetLemmatizer()\n",
        "\n",
        "# Define the English stopwords\n",
        "EN_STOPWORDS = set(stopwords.words('english')) - {'not', 'no'}\n",
        "\n",
        "# Code listing 9.2\n",
        "def clean_text(doc):\n",
        "    \"\"\" A function that cleans a given document (i.e. a text string)\"\"\"\n",
        "\n",
        "    # Turn to lower case\n",
        "    doc = doc.lower()\n",
        "    # the shortened form n't is expanded to not\n",
        "    doc = re.sub(pattern=r\"\\w+n\\'t \", repl=\"not \", string=doc)\n",
        "    # shortened forms like 'll 're 'd 've are removed as they don't add much value to this task\n",
        "    doc = re.sub(r\"(?:\\'ll |\\'re |\\'d |\\'ve )\", \" \", doc)\n",
        "    # numbers are removed\n",
        "    doc = re.sub(r\"/d+\",\"\", doc)\n",
        "    # break the text in to tokens (or words), while doing that ignore stopwords from the result\n",
        "    # stopwords again do not add any value to the task\n",
        "    tokens = [w for w in word_tokenize(doc) if w not in EN_STOPWORDS and w not in string.punctuation]\n",
        "\n",
        "    # Here we lemmatize the words in the tokens\n",
        "    # to lemmatize, we get the pos tag of each token and\n",
        "    # if it is N (noun) or V (verb) we lemmatize, else\n",
        "    # keep the original form\n",
        "    pos_tags = nltk.pos_tag(tokens)\n",
        "    clean_text = [\n",
        "        lemmatizer.lemmatize(w, pos=p[0].lower()) \\\n",
        "        if p[0]=='N' or p[0]=='V' else w \\\n",
        "        for (w, p) in pos_tags\n",
        "    ]\n",
        "\n",
        "    # return the clean text\n",
        "    return clean_text\n",
        "\n",
        "# Run a sample\n",
        "sample_doc = 'She sells seashells by the seashore.'\n",
        "print(\"Before clean: {}\".format(sample_doc))\n",
        "print(\"After clean: {}\".format(clean_text(sample_doc)))\n",
        "\n",
        "if rerun or \\\n",
        "    not os.path.exists(os.path.join('data','sentiment_inputs.pkl')) or \\\n",
        "    not os.path.exists(os.path.join('data','sentiment_labels.pkl')):\n",
        "    # Apply the transformation to the full text\n",
        "    # this is time consuming\n",
        "    print(\"\\nProcessing all the review data ... This can take a long time (~ 1hr)\")\n",
        "    inputs = inputs.apply(lambda x: clean_text(x))\n",
        "    print(\"\\tDone\")\n",
        "\n",
        "    print(\"Saving the data\")\n",
        "    inputs.to_pickle(os.path.join('data','sentiment_inputs.pkl'))\n",
        "    labels.to_pickle(os.path.join('data','sentiment_labels.pkl'))\n",
        "\n",
        "else:\n",
        "    # Load the data from the disk\n",
        "    print(\"Data already found. If you want to rerun anyway, set rerun=True\")\n",
        "    inputs = pd.read_pickle(os.path.join('data', 'sentiment_inputs.pkl'))\n",
        "    labels = pd.read_pickle(os.path.join('data', 'sentiment_labels.pkl'))"
      ]
    },
    {
      "cell_type": "markdown",
      "metadata": {
        "id": "kCTFC2YdtEJn"
      },
      "source": [
        "## Let's see how preprocessing has changed the reviews"
      ]
    },
    {
      "cell_type": "code",
      "execution_count": 42,
      "metadata": {
        "colab": {
          "base_uri": "https://localhost:8080/"
        },
        "id": "PgoOV8mYtEJn",
        "outputId": "a7eda301-bc1a-4de9-b31d-3f273e9bb9a9"
      },
      "outputs": [
        {
          "output_type": "stream",
          "name": "stdout",
          "text": [
            "Actual: Worked perfectly on Wii and Gamecube.\n",
            "No issues with compatibility or loss of memory.\n",
            "Clean: ['work', 'perfectly', 'wii', 'gamecube', 'no', 'issue', 'compatibility', 'loss', 'memory']\n",
            "\n",
            "\n",
            "Actual: Loved the game and the other collectibles that came with it are well made.  The mask is big and it almost fits my face so that was impressive.\n",
            "Clean: ['loved', 'game', 'collectible', 'come', 'well', 'make', 'mask', 'big', 'almost', 'fit', 'face', 'impressive']\n",
            "\n",
            "\n",
            "Actual: It's an okay game, to be honest, I am very bad at these types of games and to me-- it's very difficult! I am always dying, which depresses me. Maybe if I had more skill I would enjoy this game more!\n",
            "Clean: [\"'s\", 'okay', 'game', 'honest', 'bad', 'type', 'game', '--', \"'s\", 'difficult', 'always', 'die', 'depresses', 'maybe', 'skill', 'would', 'enjoy', 'game']\n",
            "\n",
            "\n",
            "Actual: Excellent product as described\n",
            "Clean: ['excellent', 'product', 'describe']\n",
            "\n",
            "\n",
            "Actual: the level of detail is great you can feel the love for cars in this game.\n",
            "Clean: ['level', 'detail', 'great', 'feel', 'love', 'car', 'game']\n",
            "\n",
            "\n"
          ]
        }
      ],
      "source": [
        "for actual, clean in zip(verified_df[\"reviewText\"].iloc[:5], inputs.iloc[:5]):\n",
        "    print(\"Actual: {}\".format(actual))\n",
        "    print(\"Clean: {}\".format(clean))\n",
        "    print('\\n')"
      ]
    },
    {
      "cell_type": "markdown",
      "metadata": {
        "id": "k1_ThxQCtEJn"
      },
      "source": [
        "## Some reviews and their labels"
      ]
    },
    {
      "cell_type": "code",
      "execution_count": 43,
      "metadata": {
        "colab": {
          "base_uri": "https://localhost:8080/"
        },
        "id": "FM9lI_lDtEJn",
        "outputId": "24c9a972-bfe6-4776-babf-7dbd23e93a35"
      },
      "outputs": [
        {
          "output_type": "stream",
          "name": "stdout",
          "text": [
            "122143    [work, perfectly, wii, gamecube, no, issue, co...\n",
            "444818    [loved, game, collectible, come, well, make, m...\n",
            "79331     ['s, okay, game, honest, bad, type, game, --, ...\n",
            "97250                        [excellent, product, describe]\n",
            "324411        [level, detail, great, feel, love, car, game]\n",
            "427782       [buy, game, buy, vita, buy, game, 's, amazing]\n",
            "200896    [excellent, product, useful, .., 100, recommen...\n",
            "394648    [great, amiibos, add, collection, level, chall...\n",
            "480002    [first, zenses, game, buy, get, two, fast, cou...\n",
            "194630                                         [nice, game]\n",
            "122215    [awesome, memory, card, work, great, wii, 's, ...\n",
            "278172    [start, play, believe, great, game, take, get,...\n",
            "233269    [game, cool, alot, like, remember, way, everyh...\n",
            "299538    [might, seem, interesting, buy, friend, neurol...\n",
            "229458    [short, movement, issue, not, bad, could, 3, f...\n",
            "34481     [not, actually, believe, write, review, produc...\n",
            "258474    [good, game, us, like, movie, franchise, hard,...\n",
            "466203    [fun, first, person, shooter, nice, combinatio...\n",
            "414288                       [love, amiibo, classic, color]\n",
            "162670    [fan, halo, series, start, enjoy, game, overal...\n",
            "Name: reviewText, dtype: object\n",
            "122143    1\n",
            "444818    1\n",
            "79331     0\n",
            "97250     1\n",
            "324411    1\n",
            "427782    1\n",
            "200896    1\n",
            "394648    1\n",
            "480002    1\n",
            "194630    1\n",
            "122215    1\n",
            "278172    1\n",
            "233269    0\n",
            "299538    1\n",
            "229458    0\n",
            "34481     1\n",
            "258474    1\n",
            "466203    1\n",
            "414288    1\n",
            "162670    0\n",
            "Name: label, dtype: int64\n"
          ]
        }
      ],
      "source": [
        "print(inputs.head(n=20))\n",
        "print(labels.head(n=20))"
      ]
    },
    {
      "cell_type": "markdown",
      "metadata": {
        "id": "NyVXHf2EtEJn"
      },
      "source": [
        "## Splitting data to train/valid/test"
      ]
    },
    {
      "cell_type": "code",
      "execution_count": 44,
      "metadata": {
        "colab": {
          "base_uri": "https://localhost:8080/"
        },
        "id": "jIYZi2dItEJn",
        "outputId": "6045d3fd-dfcb-4083-b808-87aa2a3819d3"
      },
      "outputs": [
        {
          "output_type": "stream",
          "name": "stdout",
          "text": [
            "Training data: 310388\n",
            "Validation data: 11058\n",
            "Test data: 11058\n"
          ]
        }
      ],
      "source": [
        "# Section 9.2\n",
        "\n",
        "# Code listing 9.3\n",
        "def train_valid_test_split(inputs, labels, train_fraction=0.8):\n",
        "    \"\"\" Splits a given dataset into three sets; training, validation and test \"\"\"\n",
        "\n",
        "    # Separate indices of negative and positive data points\n",
        "    neg_indices = pd.Series(labels.loc[(labels==0)].index)\n",
        "    pos_indices = pd.Series(labels.loc[(labels==1)].index)\n",
        "\n",
        "    n_valid = int(min([len(neg_indices), len(pos_indices)]) * ((1-train_fraction)/2.0))\n",
        "    n_test = n_valid\n",
        "\n",
        "    neg_test_inds = neg_indices.sample(n=n_test, random_state=random_seed)\n",
        "    neg_valid_inds = neg_indices.loc[~neg_indices.isin(neg_test_inds)].sample(n=n_test, random_state=random_seed)\n",
        "    neg_train_inds = neg_indices.loc[~neg_indices.isin(neg_test_inds.tolist()+neg_valid_inds.tolist())]\n",
        "\n",
        "    pos_test_inds = pos_indices.sample(n=n_test, random_state=random_seed)\n",
        "    pos_valid_inds = pos_indices.loc[~pos_indices.isin(pos_test_inds)].sample(n=n_test, random_state=random_seed)\n",
        "    pos_train_inds = pos_indices.loc[\n",
        "        ~pos_indices.isin(pos_test_inds.tolist()+pos_valid_inds.tolist())\n",
        "    ]\n",
        "\n",
        "    tr_x = inputs.loc[neg_train_inds.tolist() + pos_train_inds.tolist()].sample(frac=1.0, random_state=random_seed)\n",
        "    tr_y = labels.loc[neg_train_inds.tolist() + pos_train_inds.tolist()].sample(frac=1.0, random_state=random_seed)\n",
        "    v_x = inputs.loc[neg_valid_inds.tolist() + pos_valid_inds.tolist()].sample(frac=1.0, random_state=random_seed)\n",
        "    v_y = labels.loc[neg_valid_inds.tolist() + pos_valid_inds.tolist()].sample(frac=1.0, random_state=random_seed)\n",
        "    ts_x = inputs.loc[neg_test_inds.tolist() + pos_test_inds.tolist()].sample(frac=1.0, random_state=random_seed)\n",
        "    ts_y = labels.loc[neg_test_inds.tolist() + pos_test_inds.tolist()].sample(frac=1.0, random_state=random_seed)\n",
        "\n",
        "    print('Training data: {}'.format(len(tr_x)))\n",
        "    print('Validation data: {}'.format(len(v_x)))\n",
        "    print('Test data: {}'.format(len(ts_x)))\n",
        "\n",
        "    return (tr_x, tr_y), (v_x, v_y), (ts_x, ts_y)\n",
        "\n",
        "(tr_x, tr_y), (v_x, v_y), (ts_x, ts_y) = train_valid_test_split(inputs, labels)"
      ]
    },
    {
      "cell_type": "code",
      "execution_count": 45,
      "metadata": {
        "colab": {
          "base_uri": "https://localhost:8080/"
        },
        "id": "2cFjKdmJtEJn",
        "outputId": "df05f5d8-9b93-4c0d-df05-1b665951acbb"
      },
      "outputs": [
        {
          "output_type": "stream",
          "name": "stdout",
          "text": [
            "Some sample targets\n",
            "409082    1\n",
            "402599    1\n",
            "247944    1\n",
            "276901    0\n",
            "200286    1\n",
            "278318    0\n",
            "483455    0\n",
            "486008    0\n",
            "405605    0\n",
            "491763    1\n",
            "Name: label, dtype: int64\n"
          ]
        }
      ],
      "source": [
        "print(\"Some sample targets\")\n",
        "print(tr_y.head(n=10))"
      ]
    },
    {
      "cell_type": "markdown",
      "metadata": {
        "id": "RuqpqtpktEJo"
      },
      "source": [
        "## Analysing the data (training)"
      ]
    },
    {
      "cell_type": "markdown",
      "metadata": {
        "id": "T6neyxrVtEJo"
      },
      "source": [
        "### Analyse the vocabulary\n",
        "\n",
        "Let's see what are the most popular words as well as some summary statistics about the data (e.g. mean frequency)"
      ]
    },
    {
      "cell_type": "code",
      "execution_count": 46,
      "metadata": {
        "colab": {
          "base_uri": "https://localhost:8080/"
        },
        "id": "tMRsyI5ytEJo",
        "outputId": "1544f744-c086-4f81-e8ed-9aa34f0b9238"
      },
      "outputs": [
        {
          "output_type": "stream",
          "name": "stdout",
          "text": [
            "game     408857\n",
            "not      248634\n",
            "play     128874\n",
            "'s       128200\n",
            "get      109023\n",
            "like     100430\n",
            "great     97005\n",
            "one       90214\n",
            "good      77356\n",
            "time      63459\n",
            "dtype: int64\n",
            "count    133717.000000\n",
            "mean         75.856144\n",
            "std        1756.849815\n",
            "min           1.000000\n",
            "25%           1.000000\n",
            "50%           1.000000\n",
            "75%           4.000000\n",
            "max      408857.000000\n",
            "dtype: float64\n"
          ]
        }
      ],
      "source": [
        "# Section 9.2\n",
        "\n",
        "from collections import Counter\n",
        "# Create a large list which contains all the words in all the reviews\n",
        "data_list = [w for doc in tr_x for w in doc]\n",
        "\n",
        "# Create a Counter object from that list\n",
        "# Counter returns a dictionary, where key is a word and the value is the frequency\n",
        "cnt = Counter(data_list)\n",
        "\n",
        "# Convert the result to a pd.Series\n",
        "freq_df = pd.Series(list(cnt.values()), index=list(cnt.keys())).sort_values(ascending=False)\n",
        "# Print most common words\n",
        "print(freq_df.head(n=10))\n",
        "\n",
        "# Print summary statistics\n",
        "print(freq_df.describe())"
      ]
    },
    {
      "cell_type": "markdown",
      "metadata": {
        "id": "IPYQ0kX_tEJo"
      },
      "source": [
        "### Analyse the sequence length (number of words) of reviews"
      ]
    },
    {
      "cell_type": "code",
      "execution_count": 47,
      "metadata": {
        "colab": {
          "base_uri": "https://localhost:8080/"
        },
        "id": "GHZHqfoGtEJo",
        "outputId": "2f71a948-cd21-4ec9-f2cd-d24f89270bb4"
      },
      "outputs": [
        {
          "output_type": "stream",
          "name": "stdout",
          "text": [
            "\n",
            "Some summary statistics\n",
            "Median length: 12.0\n",
            "\n",
            "\n",
            "Computing the statistics between the 10% and 90% quantiles (to ignore outliers)\n"
          ]
        },
        {
          "output_type": "execute_result",
          "data": {
            "text/plain": [
              "count    278710.000000\n",
              "mean         15.439030\n",
              "std          16.263481\n",
              "min           1.000000\n",
              "33%           5.000000\n",
              "50%          10.000000\n",
              "66%          16.000000\n",
              "max          74.000000\n",
              "Name: reviewText, dtype: float64"
            ]
          },
          "metadata": {},
          "execution_count": 47
        }
      ],
      "source": [
        "# Create a pd.Series, which contain the sequence length for each review\n",
        "seq_length_ser = tr_x.str.len()\n",
        "\n",
        "# Get the median as well as summary statistics of the sequence length\n",
        "print(\"\\nSome summary statistics\")\n",
        "print(\"Median length: {}\\n\".format(seq_length_ser.median()))\n",
        "seq_length_ser.describe()\n",
        "\n",
        "print(\"\\nComputing the statistics between the 10% and 90% quantiles (to ignore outliers)\")\n",
        "p_10 = seq_length_ser.quantile(0.1)\n",
        "p_90 = seq_length_ser.quantile(0.9)\n",
        "\n",
        "seq_length_ser[(seq_length_ser >= p_10) & (seq_length_ser < p_90)].describe(percentiles=[0.33, 0.66])"
      ]
    },
    {
      "cell_type": "markdown",
      "metadata": {
        "id": "w8U6NFZ0tEJo"
      },
      "source": [
        "## Define hyperparameters\n",
        "\n",
        "Based on above analysis, define the vocabulary size and sequence lenght, both of which we need to define the data pipeline and the model"
      ]
    },
    {
      "cell_type": "code",
      "execution_count": 48,
      "metadata": {
        "colab": {
          "base_uri": "https://localhost:8080/"
        },
        "id": "tyRwgEYttEJo",
        "outputId": "fbbad0ae-225c-466a-c668-b15234e6ba60"
      },
      "outputs": [
        {
          "output_type": "stream",
          "name": "stdout",
          "text": [
            "Using a vocabulary of size: 11883\n"
          ]
        }
      ],
      "source": [
        "n_vocab = (freq_df >= 25).sum()\n",
        "print(\"Using a vocabulary of size: {}\".format(n_vocab))"
      ]
    },
    {
      "cell_type": "markdown",
      "metadata": {
        "id": "x_H3PhhdtEJp"
      },
      "source": [
        "## Transforming text to numbers\n",
        "\n",
        "We will define a Keras tokenizer that will take sequences of words (tokens) and convert them to sequences of numbers. This is achieved by building a dictionary that maps a given word to an unique ID.\n"
      ]
    },
    {
      "cell_type": "markdown",
      "metadata": {
        "id": "NahhLhGctEJp"
      },
      "source": [
        "### Defining a Keras tokenizer"
      ]
    },
    {
      "cell_type": "code",
      "execution_count": 49,
      "metadata": {
        "id": "CxLyfauttEJp"
      },
      "outputs": [],
      "source": [
        "# Section 9.2\n",
        "\n",
        "from tensorflow.keras.preprocessing.text import Tokenizer\n",
        "\n",
        "# Define a tokenizer that will convert words to IDs\n",
        "# words that are less frequent will be replaced by 'unk'\n",
        "tokenizer = Tokenizer(num_words=n_vocab, oov_token='unk', lower=False)\n",
        "\n",
        "# Fit the tokenizer on the data\n",
        "tokenizer.fit_on_texts(tr_x.tolist())\n",
        "\n",
        "# Convert all of train/validation/test data to sequences of IDs\n",
        "tr_x = tokenizer.texts_to_sequences(tr_x.tolist())\n",
        "v_x = tokenizer.texts_to_sequences(v_x.tolist())\n",
        "ts_x = tokenizer.texts_to_sequences(ts_x.tolist())\n"
      ]
    },
    {
      "cell_type": "markdown",
      "metadata": {
        "id": "ZShnMFWQtEJp"
      },
      "source": [
        "### Checking the outputs of the tokenizer"
      ]
    },
    {
      "cell_type": "code",
      "execution_count": 50,
      "metadata": {
        "colab": {
          "base_uri": "https://localhost:8080/"
        },
        "id": "pg9mhCcltEJp",
        "outputId": "7d9aaa85-aabe-4250-b7a5-faf6ef08267c"
      },
      "outputs": [
        {
          "output_type": "stream",
          "name": "stdout",
          "text": [
            "The word id for \"game\" is: 2\n",
            "The word for id 4 is: play\n"
          ]
        }
      ],
      "source": [
        "# Checking the attributes of the tokenizer\n",
        "word = \"game\"\n",
        "wid = tokenizer.word_index[word]\n",
        "print(\"The word id for \\\"{}\\\" is: {}\".format(word, wid))\n",
        "wid = 4\n",
        "word = tokenizer.index_word[wid]\n",
        "print(\"The word for id {} is: {}\".format(wid, word))"
      ]
    },
    {
      "cell_type": "markdown",
      "metadata": {
        "id": "Xwx360XqtEJp"
      },
      "source": [
        "## What do the reviews look like after converting words to word IDs"
      ]
    },
    {
      "cell_type": "code",
      "execution_count": 51,
      "metadata": {
        "colab": {
          "base_uri": "https://localhost:8080/"
        },
        "id": "12_O8D8atEJ0",
        "outputId": "87575f85-653c-470d-fdad-78d6a3dc1d4d"
      },
      "outputs": [
        {
          "output_type": "stream",
          "name": "stdout",
          "text": [
            "Text: ['work', 'perfectly', 'wii', 'gamecube', 'issue', 'compatibility', 'loss', 'memory']\n",
            "Sequence: [14, 294, 84, 570, 121, 1973, 2221, 344]\n",
            "\n",
            "\n",
            "Text: ['loved', 'game', 'collectible', 'come', 'well', 'make', 'mask', 'big', 'almost', 'fit', 'face', 'impressive']\n",
            "Sequence: [1592, 2, 2034, 33, 24, 16, 2343, 153, 200, 155, 597, 1131]\n",
            "\n",
            "\n",
            "Text: [\"'s\", 'okay', 'game', 'honest', 'bad', 'type', 'game', '--', \"'s\", 'difficult', 'always', 'die', 'depresses', 'maybe', 'skill', 'would', 'enjoy', 'game']\n",
            "Sequence: [5, 573, 2, 1262, 106, 197, 2, 112, 5, 273, 150, 353, 1, 289, 399, 22, 68, 2]\n",
            "\n",
            "\n",
            "Text: ['excellent', 'product', 'describe']\n",
            "Sequence: [109, 55, 500]\n",
            "\n",
            "\n",
            "Text: ['level', 'detail', 'great', 'feel', 'love', 'car', 'game']\n",
            "Sequence: [60, 418, 8, 43, 13, 264, 2]\n",
            "\n",
            "\n"
          ]
        }
      ],
      "source": [
        "# Convert words to IDs\n",
        "test_text = [\n",
        "    ['work', 'perfectly', 'wii', 'gamecube', 'issue', 'compatibility', 'loss', 'memory'],\n",
        "    ['loved', 'game', 'collectible', 'come', 'well', 'make', 'mask', 'big', 'almost', 'fit', 'face', 'impressive'],\n",
        "    [\"'s\", 'okay', 'game', 'honest', 'bad', 'type', 'game', '--', \"'s\", 'difficult', 'always', 'die', 'depresses', 'maybe', 'skill', 'would', 'enjoy', 'game'],\n",
        "    ['excellent', 'product', 'describe'],\n",
        "    ['level', 'detail', 'great', 'feel', 'love', 'car', 'game']\n",
        "]\n",
        "\n",
        "test_seq = tokenizer.texts_to_sequences(test_text)\n",
        "\n",
        "for text, seq in zip(test_text, test_seq):\n",
        "    print(\"Text: {}\".format(text))\n",
        "    print(\"Sequence: {}\".format(seq))\n",
        "    print(\"\\n\")"
      ]
    },
    {
      "cell_type": "markdown",
      "metadata": {
        "id": "U1GOq8kDtEJ1"
      },
      "source": [
        "## Detour: Primer on `tf.RaggedTensor`"
      ]
    },
    {
      "cell_type": "code",
      "execution_count": 52,
      "metadata": {
        "colab": {
          "base_uri": "https://localhost:8080/"
        },
        "id": "_i6WjFdRtEJ1",
        "outputId": "b0ba4b03-f386-49af-ecb2-bddb84310fc4"
      },
      "outputs": [
        {
          "output_type": "stream",
          "name": "stdout",
          "text": [
            "<tf.RaggedTensor [[1, 2, 3], [], [4, 5, 6], [7]]>\n",
            "(4, None)\n",
            "<tf.RaggedTensor [[[1, 2, 3, 4], [5, 6]], [[7, 8, 9]]]>\n",
            "(2, None, None)\n",
            "<tf.RaggedTensor [[[1, 2, 3, 4], [5, 6]]]>\n",
            "<tf.RaggedTensor [[[1, 2, 3, 4]],\n",
            " [[7, 8, 9]]]>\n",
            "<tf.RaggedTensor [[[1, 2],\n",
            "  [5, 6]], [[7, 8]]]>\n"
          ]
        }
      ],
      "source": [
        "a = tf.ragged.constant([[1, 2, 3], [1,2], [1]])\n",
        "\n",
        "b = tf.RaggedTensor.from_row_splits([1,2,3,4,5,6,7], row_splits=[0, 3, 3, 6, 7])\n",
        "print(b)\n",
        "print(b.shape)\n",
        "\n",
        "c = tf.RaggedTensor.from_nested_row_splits(\n",
        "    flat_values=[1,2,3,4,5,6,7,8,9],\n",
        "    nested_row_splits=([0,2,3],[0,4,6,9]))\n",
        "print(c)\n",
        "print(c.shape)\n",
        "\n",
        "print(c[:1, :, :])\n",
        "print(c[:,:1,:])\n",
        "print(c[:, :, :2])"
      ]
    },
    {
      "cell_type": "markdown",
      "metadata": {
        "id": "eDfvv0SKtEJ1"
      },
      "source": [
        "## Defining the `tf.data` Pipeline\n",
        "\n",
        "Here we will define a `tf.data` pipeline that takes in,\n",
        "* A list of list, where the outer list contains the individual reviews and the inner list contains the word IDs of a review\n",
        "\n",
        "and perform,\n",
        "\n",
        "* Bucketing, to separate sequences with different lengths to predefined buckets (each bucket has predefined boundaries) and return batches containing seuqences of constant length (with the help of padding)\n",
        "* Shuffle the data\n"
      ]
    },
    {
      "cell_type": "code",
      "execution_count": 53,
      "metadata": {
        "id": "Q85GbZ9YtEJ1"
      },
      "outputs": [],
      "source": [
        "# Section 9.3\n",
        "\n",
        "# Code listing 9.4\n",
        "def get_tf_pipeline(text_seq, labels, batch_size=64, bucket_boundaries=[5,15], max_length=50, shuffle=False):\n",
        "    \"\"\" Define a data pipeline that converts sequences to batches of data \"\"\"\n",
        "\n",
        "    # Concatenate the label and the input sequence so that we don't mess up the order when we shuffle\n",
        "    data_seq = [[b]+a for a,b in zip(text_seq, labels) ]\n",
        "    # Define the variable sequence dataset as a ragged tensor\n",
        "    tf_data = tf.ragged.constant(data_seq)[:,:max_length]\n",
        "    # Create a dataset out of the ragged tensor\n",
        "    text_ds = tf.data.Dataset.from_tensor_slices(tf_data)\n",
        "\n",
        "    text_ds = text_ds.filter(lambda x: tf.size(x)>1)\n",
        "    # Bucketing the data\n",
        "    # Bucketing assign each sequence to a bucket depending on the length\n",
        "    # If you define bucket boundaries as [5, 15], then you get buckets,\n",
        "    # [0, 5], [5, 15], [15,inf]\n",
        "    bucket_fn = tf.data.experimental.bucket_by_sequence_length(\n",
        "        lambda x: tf.cast(tf.shape(x)[0],'int32'),\n",
        "        bucket_boundaries=bucket_boundaries,\n",
        "        bucket_batch_sizes=[batch_size,batch_size,batch_size],\n",
        "        padded_shapes=None,\n",
        "        padding_values=0,\n",
        "        pad_to_bucket_boundary=False\n",
        "    )\n",
        "\n",
        "    # Apply bucketing\n",
        "    text_ds = text_ds.map(lambda x: x).apply(bucket_fn)\n",
        "\n",
        "    # Shuffle the data\n",
        "    if shuffle:\n",
        "        text_ds = text_ds.shuffle(buffer_size=10*batch_size)\n",
        "\n",
        "    # Split the data to inputs and labels\n",
        "    text_ds = text_ds.map(lambda x: (x[:,1:], x[:,0]))\n",
        "\n",
        "    return text_ds\n"
      ]
    },
    {
      "cell_type": "markdown",
      "metadata": {
        "id": "knLN-1vWtEJ1"
      },
      "source": [
        "## Validate the behavior of bucketing function\n",
        "\n",
        "Here we will look at what actually takes place when you perform bucketing on some sequences."
      ]
    },
    {
      "cell_type": "code",
      "execution_count": 54,
      "metadata": {
        "colab": {
          "base_uri": "https://localhost:8080/"
        },
        "id": "5d881FyatEJ1",
        "outputId": "7764ffb6-2145-4e42-f080-9122ab4bdb28"
      },
      "outputs": [
        {
          "output_type": "stream",
          "name": "stderr",
          "text": [
            "WARNING:tensorflow:From <ipython-input-53-141508cac9a7>:19: bucket_by_sequence_length (from tensorflow.python.data.experimental.ops.grouping) is deprecated and will be removed in a future version.\n",
            "Instructions for updating:\n",
            "Use `tf.data.Dataset.bucket_by_sequence_length(...)`.\n"
          ]
        },
        {
          "output_type": "stream",
          "name": "stdout",
          "text": [
            "\n",
            "\n",
            "tf.Tensor(\n",
            "[[1 2 0]\n",
            " [1 2 3]], shape=(2, 3), dtype=int32)\n",
            "\ty= tf.Tensor([0 0], shape=(2,), dtype=int32)\n",
            "\n",
            "\n",
            "tf.Tensor(\n",
            "[[   3    2    6  543    2 3243    2  134   52   23    0]\n",
            " [   3   32   21    3    2    4  134   45    1    1   45]], shape=(2, 11), dtype=int32)\n",
            "\ty= tf.Tensor([0 0], shape=(2,), dtype=int32)\n",
            "\n",
            "\n",
            "tf.Tensor([[1]], shape=(1, 1), dtype=int32)\n",
            "\ty= tf.Tensor([0], shape=(1,), dtype=int32)\n",
            "\n",
            "\n",
            "tf.Tensor(\n",
            "[[  2   4 214  21   0   0   0   0]\n",
            " [  3   4  42   7   3   2  45  52]], shape=(2, 8), dtype=int32)\n",
            "\ty= tf.Tensor([1 0], shape=(2,), dtype=int32)\n",
            "\n",
            "\n",
            "tf.Tensor(\n",
            "[[2 3 6 4 5]\n",
            " [2 0 9 7 0]], shape=(2, 5), dtype=int32)\n",
            "\ty= tf.Tensor([1 1], shape=(2,), dtype=int32)\n"
          ]
        }
      ],
      "source": [
        "x = [[1,2],[1],[1,2,3], [2,3,6,4,5],[2,0,9,7],[2,4,214,21],[3,4,42,7,3,2,45,52],[3,2,6,543,2,3243,2,134,52,23],[3,32,21,3,2,4,134,45,1,1,45]]\n",
        "y = [0,0,0, 1, 1, 1, 0, 0, 0]\n",
        "\n",
        "a = get_tf_pipeline(x, y, batch_size=2, bucket_boundaries=[3,5], max_length=15, shuffle=True)\n",
        "\n",
        "for x,y in a.take(6):\n",
        "    print('\\n')\n",
        "    print(x)\n",
        "    print('\\ty=', y)\n"
      ]
    },
    {
      "cell_type": "markdown",
      "metadata": {
        "id": "sdCk4lx9tEJ1"
      },
      "source": [
        "## Take out some example to see"
      ]
    },
    {
      "cell_type": "code",
      "execution_count": 55,
      "metadata": {
        "colab": {
          "base_uri": "https://localhost:8080/"
        },
        "id": "yvqqERMKtEJ1",
        "outputId": "f20b5738-ac7f-41ec-9ba2-713606d60393"
      },
      "outputs": [
        {
          "output_type": "stream",
          "name": "stdout",
          "text": [
            "Some training data ...\n",
            "Input sequence shape: (64, 49)\n",
            "tf.Tensor(\n",
            "[1 1 0 0 1 1 1 1 1 0 1 1 1 1 1 1 1 0 1 1 1 1 1 0 1 1 1 1 1 0 1 1 1 1 1 0 1\n",
            " 1 1 0 1 1 1 1 0 0 0 1 1 1 0 0 1 1 1 1 1 1 1 1 0 1 0 1], shape=(64,), dtype=int32)\n",
            "Input sequence shape: (64, 49)\n",
            "tf.Tensor(\n",
            "[1 0 1 1 1 1 0 0 0 0 1 1 0 1 1 1 0 0 1 1 1 0 1 1 1 1 1 1 0 1 1 1 1 1 0 1 1\n",
            " 1 0 1 0 1 0 0 0 1 1 1 1 1 1 1 1 1 0 1 0 1 1 1 1 0 1 0], shape=(64,), dtype=int32)\n",
            "\n",
            "Some validation data ...\n",
            "Input sequence shape: (64, 49)\n",
            "tf.Tensor(\n",
            "[0 0 1 0 0 1 1 1 1 0 1 1 0 1 0 1 0 0 0 0 1 0 0 1 1 1 0 0 0 1 1 0 1 1 1 1 0\n",
            " 0 1 0 1 1 0 1 0 1 0 0 0 1 1 1 1 1 1 0 1 0 0 1 0 1 0 0], shape=(64,), dtype=int32)\n",
            "Input sequence shape: (64, 49)\n",
            "tf.Tensor(\n",
            "[1 0 0 0 1 0 0 0 0 0 0 0 1 0 0 1 0 0 0 1 1 1 1 1 0 0 0 1 0 1 0 0 0 0 0 1 0\n",
            " 1 0 0 1 1 1 1 0 1 0 1 0 0 1 0 0 1 0 1 0 1 0 1 0 1 1 1], shape=(64,), dtype=int32)\n"
          ]
        }
      ],
      "source": [
        "train_ds = get_tf_pipeline(tr_x, tr_y, shuffle=True)\n",
        "valid_ds = get_tf_pipeline(v_x, v_y)\n",
        "\n",
        "print(\"Some training data ...\")\n",
        "for x,y in train_ds.take(2):\n",
        "    print(\"Input sequence shape: {}\".format(x.shape))\n",
        "    print(y)\n",
        "\n",
        "print(\"\\nSome validation data ...\")\n",
        "for x,y in valid_ds.take(2):\n",
        "    print(\"Input sequence shape: {}\".format(x.shape))\n",
        "    print(y)"
      ]
    },
    {
      "cell_type": "markdown",
      "metadata": {
        "id": "6cZZ9VYXtEJ1"
      },
      "source": [
        "## Define the sentiment analysis model\n",
        "\n",
        "Here we are going to define a model. Our model has,\n",
        "\n",
        "* A masking layer, we will mask-out value zero inputs, which will not contribute to the loss function\n",
        "* A lambda layer that converts IDs to one hot vectors\n",
        "* A LSTM model with 128 nodes\n",
        "* A Dense layer that has 512 nodes and ReLU activation\n",
        "* Final Dense layer that outputs the sentiment (sigmoid activation)\n",
        "\n",
        "Finally, the model will have,\n",
        "* A binary crossentropy loss\n",
        "* Adam optimizer\n",
        "* Accuracy metric"
      ]
    },
    {
      "cell_type": "code",
      "execution_count": 56,
      "metadata": {
        "colab": {
          "base_uri": "https://localhost:8080/"
        },
        "id": "VKdO7odotEJ1",
        "outputId": "df565ccf-0f1c-4da3-fd93-cceedf8df0f4"
      },
      "outputs": [
        {
          "output_type": "stream",
          "name": "stdout",
          "text": [
            "Model: \"sequential\"\n",
            "_________________________________________________________________\n",
            " Layer (type)                Output Shape              Param #   \n",
            "=================================================================\n",
            " lambda (Lambda)             (None, None, 1)           0         \n",
            "                                                                 \n",
            " masking (Masking)           (None, None, 1)           0         \n",
            "                                                                 \n",
            " onehot_encoder (OnehotEnco  (None, None, 11883)       0         \n",
            " der)                                                            \n",
            "                                                                 \n",
            " lstm (LSTM)                 (None, 128)               6150144   \n",
            "                                                                 \n",
            " dense (Dense)               (None, 512)               66048     \n",
            "                                                                 \n",
            " dropout (Dropout)           (None, 512)               0         \n",
            "                                                                 \n",
            " dense_1 (Dense)             (None, 1)                 513       \n",
            "                                                                 \n",
            "=================================================================\n",
            "Total params: 6216705 (23.71 MB)\n",
            "Trainable params: 6216705 (23.71 MB)\n",
            "Non-trainable params: 0 (0.00 Byte)\n",
            "_________________________________________________________________\n"
          ]
        }
      ],
      "source": [
        "# Section 9.4\n",
        "\n",
        "import tensorflow.keras.backend as K\n",
        "\n",
        "K.clear_session()\n",
        "\n",
        "class OnehotEncoder(tf.keras.layers.Layer):\n",
        "    def __init__(self, depth, **kwargs):\n",
        "        super(OnehotEncoder, self).__init__(**kwargs)\n",
        "        self.depth = depth\n",
        "\n",
        "    def build(self, input_shape):\n",
        "        pass\n",
        "\n",
        "    def call(self, inputs):\n",
        "\n",
        "        inputs = tf.cast(inputs, 'int32')\n",
        "\n",
        "        if len(inputs.shape) == 3:\n",
        "            inputs = inputs[:,:,0]\n",
        "\n",
        "        return tf.one_hot(inputs, depth=self.depth)\n",
        "\n",
        "\n",
        "    def compute_mask(self, inputs, mask=None):\n",
        "        return mask\n",
        "\n",
        "    def get_config(self):\n",
        "        config = super().get_config().copy()\n",
        "        config.update({'depth': self.depth})\n",
        "        return config\n",
        "\n",
        "# You will see the following error if you don't filter out all zero (empty) records from the dataset\n",
        "# these records return a vector of all zeros which leads the LSTM layer to error out\n",
        "# CUDNN_STATUS_BAD_PARAM\n",
        "# in tensorflow/stream_executor/cuda/cuda_dnn.cc(1496):\n",
        "# 'cudnnSetRNNDataDescriptor(\n",
        "#     data_desc.get(), data_type,\n",
        "#     layout,\n",
        "#     max_seq_length, batch_size, data_size, seq_lengths_array, (void*)&padding_fill\n",
        "# )'\n",
        "\n",
        "# Code listing 9.5\n",
        "model = tf.keras.models.Sequential([\n",
        "    tf.keras.layers.Lambda(lambda x: tf.expand_dims(x, axis=-1), input_shape=(None,)),\n",
        "    # Create a mask to mask out zero inputs\n",
        "    tf.keras.layers.Masking(mask_value=0),\n",
        "    # After creating the mask, convert inputs to onehot encoded inputs\n",
        "    OnehotEncoder(depth=n_vocab),\n",
        "    # Defining an LSTM layer\n",
        "    tf.keras.layers.LSTM(128, return_state=False, return_sequences=False),\n",
        "    # Defining a Dense layer\n",
        "    tf.keras.layers.Dense(512, activation='relu'),\n",
        "    tf.keras.layers.Dropout(0.5),\n",
        "    tf.keras.layers.Dense(1, activation='sigmoid')\n",
        "])\n",
        "# Compile the model\n",
        "model.compile(loss='binary_crossentropy', optimizer='adam', metrics=['accuracy'])\n",
        "model.summary()"
      ]
    },
    {
      "cell_type": "markdown",
      "metadata": {
        "id": "MSXYA97NtEJ2"
      },
      "source": [
        "## Checking the mask"
      ]
    },
    {
      "cell_type": "code",
      "execution_count": 57,
      "metadata": {
        "colab": {
          "base_uri": "https://localhost:8080/"
        },
        "id": "F-0s9ZrptEJ2",
        "outputId": "bdfe6292-c909-4e71-f0bc-78c717e9b0b0"
      },
      "outputs": [
        {
          "output_type": "stream",
          "name": "stdout",
          "text": [
            "Masking layer's mask\n",
            "tf.Tensor(\n",
            "[[ True  True  True False False]\n",
            " [ True  True  True  True False]], shape=(2, 5), dtype=bool)\n",
            "Onehot encoder layer's mask\n",
            "tf.Tensor(\n",
            "[[ True  True  True False False]\n",
            " [ True  True  True  True False]], shape=(2, 5), dtype=bool)\n"
          ]
        }
      ],
      "source": [
        "inp = tf.expand_dims(tf.constant([[2,3,4,0,0], [2,4,6,12,0]], dtype='int32'),axis=-1)\n",
        "# Create a mask to mask out zero inputs\n",
        "mask_out = tf.keras.layers.Masking(mask_value=0)(inp)\n",
        "print(\"Masking layer's mask\")\n",
        "print(mask_out._keras_mask)\n",
        "# After creating the mask, convert inputs to onehot encoded inputs\n",
        "onehot_out = OnehotEncoder(depth=10)(mask_out)\n",
        "print(\"Onehot encoder layer's mask\")\n",
        "print(onehot_out._keras_mask)\n",
        "# Defining an LSTM layer\n",
        "lstm_out = tf.keras.layers.LSTM(24, return_state=False, return_sequences=False)(\n",
        "    onehot_out, mask=onehot_out._keras_mask\n",
        ")\n"
      ]
    },
    {
      "cell_type": "markdown",
      "metadata": {
        "id": "8vGE_RgPtEJ2"
      },
      "source": [
        "## Create the data pipelines"
      ]
    },
    {
      "cell_type": "code",
      "execution_count": 58,
      "metadata": {
        "colab": {
          "base_uri": "https://localhost:8080/"
        },
        "id": "sc26LwLmtEJ2",
        "outputId": "5c311684-8f18-4a99-8785-469e4bf6d3b2"
      },
      "outputs": [
        {
          "output_type": "stream",
          "name": "stdout",
          "text": [
            "Defining data pipelines\n",
            "\tDone...\n"
          ]
        }
      ],
      "source": [
        "print(\"Defining data pipelines\")\n",
        "\n",
        "# Using a batch size of 128\n",
        "batch_size = 128\n",
        "\n",
        "train_ds = get_tf_pipeline(tr_x, tr_y, batch_size=batch_size, shuffle=True)\n",
        "valid_ds = get_tf_pipeline(v_x, v_y, batch_size=batch_size)\n",
        "test_ds = get_tf_pipeline(ts_x, ts_y, batch_size=batch_size)\n",
        "print('\\tDone...')"
      ]
    },
    {
      "cell_type": "markdown",
      "metadata": {
        "id": "wF4owvxutEJ2"
      },
      "source": [
        "## Defining the negative weights\n",
        "\n",
        "We discussed first that our dataset has a high class imbalance. Particularly, there are more positive inputs than negative ones. This means we need to weigh our negative examples more."
      ]
    },
    {
      "cell_type": "code",
      "execution_count": 59,
      "metadata": {
        "colab": {
          "base_uri": "https://localhost:8080/"
        },
        "id": "MCFd7J5EtEJ2",
        "outputId": "4182f152-bb32-4749-c88d-603d162cc797"
      },
      "outputs": [
        {
          "output_type": "stream",
          "name": "stdout",
          "text": [
            "Will be using a weight of 6.017113919471887 for negative samples\n"
          ]
        }
      ],
      "source": [
        "# There is a class imbalance in the data therefore we are defining a weight for negative inputs\n",
        "neg_weight = (tr_y==1).sum()/(tr_y==0).sum()\n",
        "print(\"Will be using a weight of {} for negative samples\".format(neg_weight))"
      ]
    },
    {
      "cell_type": "markdown",
      "metadata": {
        "id": "g-udgdEFtEJ2"
      },
      "source": [
        "## Training the model"
      ]
    },
    {
      "cell_type": "code",
      "execution_count": null,
      "metadata": {
        "colab": {
          "base_uri": "https://localhost:8080/"
        },
        "id": "YHkUaYBvtEJ2",
        "outputId": "3fc83c8d-3bdb-4f2c-9579-1b754605d5e8"
      },
      "outputs": [
        {
          "output_type": "stream",
          "name": "stdout",
          "text": [
            "Using metric=val_loss and mode=min for EarlyStopping\n",
            "Epoch 1/10\n",
            "2423/2423 [==============================] - 103s 37ms/step - loss: 0.7299 - accuracy: 0.8049 - val_loss: 0.3793 - val_accuracy: 0.8333 - lr: 0.0010\n",
            "Epoch 2/10\n",
            "2423/2423 [==============================] - 95s 36ms/step - loss: 0.6117 - accuracy: 0.8412 - val_loss: 0.3839 - val_accuracy: 0.8354 - lr: 0.0010\n",
            "Epoch 3/10\n",
            "2423/2423 [==============================] - 95s 36ms/step - loss: 0.5316 - accuracy: 0.8656 - val_loss: 0.3832 - val_accuracy: 0.8381 - lr: 0.0010\n",
            "Epoch 4/10\n",
            "2423/2423 [==============================] - 97s 37ms/step - loss: 0.4605 - accuracy: 0.8855 - val_loss: 0.4115 - val_accuracy: 0.8368 - lr: 0.0010\n",
            "Epoch 5/10\n",
            "2423/2423 [==============================] - 97s 37ms/step - loss: 0.3378 - accuracy: 0.9199 - val_loss: 0.5665 - val_accuracy: 0.8243 - lr: 1.0000e-04\n",
            "Epoch 6/10\n",
            "2330/2423 [===========================>..] - ETA: 3s - loss: 0.3077 - accuracy: 0.9280"
          ]
        }
      ],
      "source": [
        "# Section 9.5\n",
        "\n",
        "os.makedirs('eval', exist_ok=True)\n",
        "\n",
        "# Logging the performance metrics to a CSV file\n",
        "csv_logger = tf.keras.callbacks.CSVLogger(os.path.join('eval','1_sentiment_analysis.log'))\n",
        "\n",
        "monitor_metric = 'val_loss'\n",
        "mode = 'min'\n",
        "print(\"Using metric={} and mode={} for EarlyStopping\".format(monitor_metric, mode))\n",
        "\n",
        "# Reduce LR callback\n",
        "lr_callback = tf.keras.callbacks.ReduceLROnPlateau(\n",
        "    monitor=monitor_metric, factor=0.1, patience=3, mode=mode, min_lr=1e-8\n",
        ")\n",
        "\n",
        "# EarlyStopping itself increases the memory requirement\n",
        "# restore_best_weights will increase the memory req for large models\n",
        "es_callback = tf.keras.callbacks.EarlyStopping(\n",
        "    monitor=monitor_metric, patience=6, mode=mode, restore_best_weights=False\n",
        ")\n",
        "\n",
        "# Train the model\n",
        "t1 = time.time()\n",
        "\n",
        "model.fit(train_ds, validation_data=valid_ds, epochs=10, class_weight={0:neg_weight, 1:1.0}, callbacks=[es_callback, lr_callback, csv_logger])\n",
        "t2 = time.time()\n",
        "\n",
        "print(\"It took {} seconds to complete the training\".format(t2-t1))"
      ]
    },
    {
      "cell_type": "code",
      "execution_count": null,
      "metadata": {
        "id": "AwHA_TFHtEJ3"
      },
      "outputs": [],
      "source": [
        "os.makedirs('models', exist_ok=True)\n",
        "tf.keras.models.save_model(model, os.path.join('models', '1_sentiment_analysis.h5'))"
      ]
    },
    {
      "cell_type": "markdown",
      "metadata": {
        "id": "2e_nlcmstEJ3"
      },
      "source": [
        "## Evaluating the model on test data"
      ]
    },
    {
      "cell_type": "code",
      "execution_count": null,
      "metadata": {
        "id": "p85jBSnRtEJ3"
      },
      "outputs": [],
      "source": [
        "model.evaluate(test_ds)"
      ]
    },
    {
      "cell_type": "markdown",
      "metadata": {
        "id": "LdsyTej7tEJ3"
      },
      "source": [
        "## Sentiment analysis with an Embedding layer\n",
        "\n",
        "Next we are going to enhance our model using an Embedding layer. An embedding layer is very useful to capture relationships between different words. For example, in the context of sentiment analysis, words like \"good\", \"great\" should produce similar feature vectors. An embedding layer achieves this effect."
      ]
    },
    {
      "cell_type": "code",
      "execution_count": null,
      "metadata": {
        "id": "BlPJblvYtEJ3"
      },
      "outputs": [],
      "source": [
        "# Section 9.6\n",
        "\n",
        "import tensorflow.keras.backend as K\n",
        "\n",
        "K.clear_session()\n",
        "\n",
        "# Code listing 9.7\n",
        "model = tf.keras.models.Sequential([\n",
        "\n",
        "    # Adding an Embedding layer\n",
        "    # You will see the following error if you don't filter out all zero (empty) records from the dataset\n",
        "    # these records return a vector of all zeros which leads the LSTM layer to error out\n",
        "    # CUDNN_STATUS_BAD_PARAM\n",
        "    # in tensorflow/stream_executor/cuda/cuda_dnn.cc(1496):\n",
        "    # 'cudnnSetRNNDataDescriptor(\n",
        "    #     data_desc.get(), data_type,\n",
        "    #     layout,\n",
        "    #     max_seq_length, batch_size, data_size, seq_lengths_array, (void*)&padding_fill\n",
        "    # )'\n",
        "    tf.keras.layers.Embedding(input_dim=n_vocab+1, output_dim=128, mask_zero=True, input_shape=(None,)),\n",
        "    # Defining an LSTM layer\n",
        "    tf.keras.layers.LSTM(128, return_state=False, return_sequences=False),\n",
        "    # Defining Dense layers\n",
        "    tf.keras.layers.Dense(512, activation='relu'),\n",
        "    # Defining a dropout layer\n",
        "    tf.keras.layers.Dropout(0.5),\n",
        "    tf.keras.layers.Dense(1, activation='sigmoid')\n",
        "])\n",
        "\n",
        "# Compile the model\n",
        "model.compile(loss='binary_crossentropy', optimizer='adam', metrics=['accuracy'])\n",
        "model.summary()"
      ]
    },
    {
      "cell_type": "markdown",
      "metadata": {
        "id": "KAbJydKLtEJ3"
      },
      "source": [
        "## Training the newly defined model"
      ]
    },
    {
      "cell_type": "code",
      "execution_count": null,
      "metadata": {
        "colab": {
          "base_uri": "https://localhost:8080/"
        },
        "id": "tGFFI8kMtEJ3",
        "outputId": "ae49210c-1a93-41f7-e7b8-68799b11cbbb"
      },
      "outputs": [
        {
          "output_type": "stream",
          "name": "stdout",
          "text": [
            "Defining data pipelines\n",
            "\tDone...\n",
            "Using metric=val_loss and mode=min for EarlyStopping\n",
            "Epoch 1/10\n",
            "2423/2423 [==============================] - 84s 30ms/step - loss: 0.7262 - accuracy: 0.8005 - val_loss: 0.3645 - val_accuracy: 0.8424 - lr: 0.0010\n",
            "Epoch 2/10\n",
            "2423/2423 [==============================] - 42s 14ms/step - loss: 0.5933 - accuracy: 0.8514 - val_loss: 0.3590 - val_accuracy: 0.8433 - lr: 0.0010\n",
            "Epoch 3/10\n"
          ]
        }
      ],
      "source": [
        "# Section 9.7\n",
        "\n",
        "print(\"Defining data pipelines\")\n",
        "batch_size = 128\n",
        "train_ds = get_tf_pipeline(tr_x, tr_y, batch_size=batch_size, shuffle=True)\n",
        "valid_ds = get_tf_pipeline(v_x, v_y, batch_size=batch_size,)\n",
        "test_ds = get_tf_pipeline(ts_x, ts_y, batch_size=batch_size)\n",
        "print('\\tDone...')\n",
        "\n",
        "os.makedirs('eval', exist_ok=True)\n",
        "\n",
        "# Logging the performance metrics to a CSV file\n",
        "csv_logger = tf.keras.callbacks.CSVLogger(os.path.join('eval','2_sentiment_analysis_embeddings.log'))\n",
        "\n",
        "monitor_metric = 'val_loss'\n",
        "mode = 'min' if 'loss' in monitor_metric else 'max'\n",
        "print(\"Using metric={} and mode={} for EarlyStopping\".format(monitor_metric, mode))\n",
        "\n",
        "# Reduce LR callback\n",
        "lr_callback = tf.keras.callbacks.ReduceLROnPlateau(\n",
        "    monitor=monitor_metric, factor=0.1, patience=3, mode=mode, min_lr=1e-8\n",
        ")\n",
        "\n",
        "# EarlyStopping itself increases the memory requirement\n",
        "# restore_best_weights will increase the memory req for large models\n",
        "es_callback = tf.keras.callbacks.EarlyStopping(\n",
        "    monitor=monitor_metric, patience=6, mode=mode, restore_best_weights=False\n",
        ")\n",
        "\n",
        "t1 = time.time()\n",
        "\n",
        "model.fit(train_ds, validation_data=valid_ds, epochs=10, class_weight={0:neg_weight, 1:1.0}, callbacks=[es_callback, lr_callback, csv_logger])\n",
        "t2 = time.time()\n",
        "\n",
        "print(\"It took {} seconds to complete the training\".format(t2-t1))"
      ]
    },
    {
      "cell_type": "code",
      "execution_count": null,
      "metadata": {
        "id": "2LaGIhbQtEJ3"
      },
      "outputs": [],
      "source": [
        "os.makedirs('models', exist_ok=True)\n",
        "tf.keras.models.save_model(model, os.path.join('models', '2_sentiment_analysis_embeddings.h5'))"
      ]
    },
    {
      "cell_type": "markdown",
      "metadata": {
        "id": "6CM8M1jstEJ3"
      },
      "source": [
        "## Evaluate on the test set\n",
        "\n",
        "Our new model gives slightly better accuracy on the test data"
      ]
    },
    {
      "cell_type": "code",
      "execution_count": null,
      "metadata": {
        "id": "v5AW7u72tEJ3"
      },
      "outputs": [],
      "source": [
        "test_ds = get_tf_pipeline(ts_x, ts_y, batch_size=128)\n",
        "model.evaluate(test_ds)"
      ]
    },
    {
      "cell_type": "markdown",
      "metadata": {
        "id": "udRrA6XftEJ3"
      },
      "source": [
        "## Analyse some of the results\n",
        "\n",
        "Here, let's analyse some of the inputs with strong positive/negative sentiments predicted by the model."
      ]
    },
    {
      "cell_type": "code",
      "execution_count": null,
      "metadata": {
        "id": "EI6jPeCDtEJ3"
      },
      "outputs": [],
      "source": [
        "test_ds = get_tf_pipeline(ts_x, ts_y, batch_size=128)\n",
        "\n",
        "# Go through the test data and gather all examples\n",
        "test_x = []\n",
        "test_pred = []\n",
        "test_y = []\n",
        "for x, y in test_ds:\n",
        "    test_x.append(x)\n",
        "    test_pred.append(model.predict(x, verbose=0))\n",
        "    test_y.append(y)\n",
        "\n",
        "# Check the sizes\n",
        "test_x = [doc for t in test_x for doc in t.numpy().tolist()]\n",
        "print(\"X: {}\".format(len(test_x)))\n",
        "test_pred = tf.concat(test_pred, axis=0).numpy()\n",
        "print(\"Pred: {}\".format(test_pred.shape))\n",
        "test_y = tf.concat(test_y, axis=0).numpy()\n",
        "print(\"Y: {}\".format(test_y.shape))"
      ]
    },
    {
      "cell_type": "markdown",
      "metadata": {
        "id": "7n11Gq7otEJ3"
      },
      "source": [
        "## Printing the reviews"
      ]
    },
    {
      "cell_type": "code",
      "execution_count": null,
      "metadata": {
        "id": "OQqaUV1VtEJ4"
      },
      "outputs": [],
      "source": [
        "sorted_pred = np.argsort(test_pred.flatten())\n",
        "min_pred = sorted_pred[:5]\n",
        "max_pred = sorted_pred[-5:]\n",
        "\n",
        "print(\"Most negative reviews\\n\")\n",
        "print(\"=\"*50)\n",
        "for i in min_pred:\n",
        "    print(\" \".join(tokenizer.sequences_to_texts([test_x[i]])), '\\n')\n",
        "\n",
        "print(\"\\nMost positive reviews\\n\")\n",
        "print(\"=\"*50)\n",
        "for i in max_pred:\n",
        "    print(\" \".join(tokenizer.sequences_to_texts([test_x[i]])), '\\n')\n"
      ]
    },
    {
      "cell_type": "markdown",
      "metadata": {
        "id": "8EaSQ1pXtEJ4"
      },
      "source": [
        "## Bonus: Training the model with a custom loss\n",
        "\n",
        "This code is a bonus section and an experimental one. Essentially, we are trying to see if adaptively using a negative weight on samples (depending on how much negatives/positive samples in a batch), can help the model to perform better. But it doesn't seem to have a strong effect since we're already weight the negative examples."
      ]
    },
    {
      "cell_type": "code",
      "execution_count": null,
      "metadata": {
        "id": "rTX3y7C-tEJ4"
      },
      "outputs": [],
      "source": [
        "import tensorflow.keras.backend as K\n",
        "\n",
        "K.clear_session()\n",
        "\n",
        "model = tf.keras.models.Sequential([\n",
        "    # Create a mask to mask out zero inputs\n",
        "    tf.keras.layers.Masking(mask_value=0.0, input_shape=(None,)),\n",
        "    # After creating the mask, convert inputs to onehot encoded inputs\n",
        "    tf.keras.layers.Lambda(lambda x: tf.one_hot(tf.cast(x,'int32'), depth=n_vocab), input_shape=(None,)),\n",
        "    # Defining an LSTM layer\n",
        "    tf.keras.layers.LSTM(256, return_state=False, return_sequences=False),\n",
        "    # Defining a Dense layer\n",
        "    tf.keras.layers.Dense(100, activation='relu'),\n",
        "    tf.keras.layers.Dense(1, activation='sigmoid')\n",
        "])\n",
        "\n",
        "def weighted_binary_crossentropy(y_true, y_pred):\n",
        "\n",
        "    pos_mask = tf.cast(tf.math.equal(y_true, 1),'float32')\n",
        "    n_pos = tf.reduce_sum(pos_mask)\n",
        "    neg_mask = tf.cast(tf.math.equal(y_true, 0),'float32')\n",
        "    n_neg = tf.reduce_sum(neg_mask)\n",
        "\n",
        "    w_pos = n_neg / (n_pos+n_neg)\n",
        "    w_neg = n_pos / (n_pos+n_neg)\n",
        "\n",
        "    w_mask = (pos_mask*w_pos) + (neg_mask*w_neg)\n",
        "\n",
        "    bce = tf.keras.losses.BinaryCrossentropy(reduction=tf.keras.losses.Reduction.NONE)\n",
        "\n",
        "    return tf.reduce_mean(bce(y_true, y_pred)*w_mask)\n",
        "\n",
        "# Compile the model\n",
        "model.compile(loss=weighted_binary_crossentropy, optimizer='adam', metrics=['accuracy'])\n",
        "model.summary()"
      ]
    },
    {
      "cell_type": "code",
      "execution_count": null,
      "metadata": {
        "id": "mLez80UxtEJ4"
      },
      "outputs": [],
      "source": [
        "print(\"Defining data pipelines\")\n",
        "batch_size = 128\n",
        "train_ds = get_tf_pipeline(tr_x, tr_y, batch_size=batch_size, shuffle=True)\n",
        "valid_ds = get_tf_pipeline(v_x, v_y, batch_size=batch_size)\n",
        "test_ds = get_tf_pipeline(ts_x, ts_y, batch_size=batch_size)\n",
        "print('\\tDone...')\n",
        "\n",
        "os.makedirs('eval', exist_ok=True)\n",
        "\n",
        "# Logging the performance metrics to a CSV file\n",
        "csv_logger = tf.keras.callbacks.CSVLogger(os.path.join('eval','3_sentiment_analysis_custom_loss.log'))\n",
        "\n",
        "monitor_metric = 'val_loss'\n",
        "mode = 'min' if 'loss' in monitor_metric else 'max'\n",
        "print(\"Using metric={} and mode={} for EarlyStopping\".format(monitor_metric, mode))\n",
        "\n",
        "# Reduce LR callback\n",
        "lr_callback = tf.keras.callbacks.ReduceLROnPlateau(\n",
        "    monitor=monitor_metric, factor=0.1, patience=3, mode=mode, min_lr=1e-8\n",
        ")\n",
        "\n",
        "# EarlyStopping itself increases the memory requirement\n",
        "# restore_best_weights will increase the memory req for large models\n",
        "es_callback = tf.keras.callbacks.EarlyStopping(\n",
        "    monitor=monitor_metric, patience=6, mode=mode, restore_best_weights=False\n",
        ")\n",
        "\n",
        "t1 = time.time()\n",
        "\n",
        "model.fit(train_ds, validation_data=valid_ds, epochs=5, callbacks=[es_callback, lr_callback, csv_logger])\n",
        "t2 = time.time()\n",
        "\n",
        "print(\"It took {} seconds to complete the training\".format(t2-t1))"
      ]
    },
    {
      "cell_type": "code",
      "execution_count": null,
      "metadata": {
        "id": "Z72n_bb1tEJ4"
      },
      "outputs": [],
      "source": []
    }
  ],
  "metadata": {
    "kernelspec": {
      "display_name": "Python 3",
      "name": "python3"
    },
    "language_info": {
      "codemirror_mode": {
        "name": "ipython",
        "version": 3
      },
      "file_extension": ".py",
      "mimetype": "text/x-python",
      "name": "python",
      "nbconvert_exporter": "python",
      "pygments_lexer": "ipython3",
      "version": "3.9.12"
    },
    "colab": {
      "provenance": [],
      "gpuType": "T4",
      "include_colab_link": true
    },
    "accelerator": "GPU"
  },
  "nbformat": 4,
  "nbformat_minor": 0
}