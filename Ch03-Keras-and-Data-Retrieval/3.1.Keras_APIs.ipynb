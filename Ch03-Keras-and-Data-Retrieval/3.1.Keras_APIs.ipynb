{
  "cells": [
    {
      "cell_type": "markdown",
      "metadata": {
        "id": "UEo0IfR_Yd89"
      },
      "source": [
        "# Chapter 3: Keras and Data Retrieval in TensorFlow 2"
      ]
    },
    {
      "cell_type": "markdown",
      "metadata": {
        "id": "ZrmI14t7Yd9A"
      },
      "source": [
        "<table align=\"left\">\n",
        "    <td>\n",
        "        <a target=\"_blank\" href=\"https://colab.research.google.com/github/thushv89/manning_tf2_in_action/blob/master/Ch03-Keras-and-Data-Retrieval/3.1.Keras_APIs.ipynb\"><img src=\"https://www.tensorflow.org/images/colab_logo_32px.png\" />Run in Google Colab</a>\n",
        "    </td>\n",
        "</table>"
      ]
    },
    {
      "cell_type": "markdown",
      "metadata": {
        "id": "Swn9Uy9AYd9B"
      },
      "source": [
        "## Library imports and some setup"
      ]
    },
    {
      "cell_type": "code",
      "execution_count": 1,
      "metadata": {
        "id": "tP1Bvg60Yd9B",
        "outputId": "bde69b96-d0c2-4101-f57b-ad5ca492a2e8",
        "colab": {
          "base_uri": "https://localhost:8080/"
        }
      },
      "outputs": [
        {
          "output_type": "stream",
          "name": "stdout",
          "text": [
            "TensorFlow version: 2.12.0\n"
          ]
        }
      ],
      "source": [
        "import numpy as np\n",
        "import tensorflow as tf\n",
        "import pandas as pd\n",
        "import random\n",
        "from sklearn.decomposition import PCA\n",
        "\n",
        "from tensorflow.keras import layers\n",
        "\n",
        "from PIL import Image\n",
        "import matplotlib.pyplot as plt\n",
        "%matplotlib inline\n",
        "import requests\n",
        "\n",
        "# Fixing the seed to obtain consistent random values during multiple runs\n",
        "\n",
        "from tensorflow.keras.layers import Input, Dense, Concatenate\n",
        "from tensorflow.keras.models import Model\n",
        "from tensorflow.keras.models import Sequential\n",
        "\n",
        "import tensorflow.keras.backend as K\n",
        "\n",
        "gpus = tf.config.experimental.list_physical_devices('GPU')\n",
        "if gpus:\n",
        "  # Restrict TensorFlow to only use the first GPU\n",
        "  try:\n",
        "    for gpu in gpus:\n",
        "      tf.config.experimental.set_memory_growth(gpu, True)\n",
        "  except RuntimeError as e:\n",
        "    # Visible devices must be set before GPUs have been initialized\n",
        "    print(e)\n",
        "\n",
        "\n",
        "def fix_random_seed(seed):\n",
        "    \"\"\" Setting the random seed of various libraries \"\"\"\n",
        "    try:\n",
        "        np.random.seed(seed)\n",
        "    except NameError:\n",
        "        print(\"Warning: Numpy is not imported. Setting the seed for Numpy failed.\")\n",
        "    try:\n",
        "        tf.random.set_seed(seed)\n",
        "    except NameError:\n",
        "        print(\"Warning: TensorFlow is not imported. Setting the seed for TensorFlow failed.\")\n",
        "    try:\n",
        "        random.seed(seed)\n",
        "    except NameError:\n",
        "        print(\"Warning: random module is not imported. Setting the seed for random failed.\")\n",
        "\n",
        "# Fixing the random seed\n",
        "fix_random_seed(4321)\n",
        "print(\"TensorFlow version: {}\".format(tf.__version__))"
      ]
    },
    {
      "cell_type": "markdown",
      "metadata": {
        "id": "OQJJUz2tYd9D"
      },
      "source": [
        "## Keras Model Building APIs\n",
        "\n",
        "### Understanding the data\n",
        "\n",
        "This is a famous dataset known as the *iris* dataset. The dataset records the petal width/length and sepal width/length for three different kinds of iris flowers.\n",
        "\n",
        "* Iris-setosa\n",
        "* Iris-versicolor\n",
        "* Iris-virginica\n",
        "\n",
        "The goal is to train a model that, given the petal width/length and sepal width/length, predicts the correct species of flower."
      ]
    },
    {
      "cell_type": "code",
      "execution_count": 2,
      "metadata": {
        "id": "4lAuM66HYd9E",
        "outputId": "09f82b02-fb75-4ca8-89da-4c842fb4a43e",
        "colab": {
          "base_uri": "https://localhost:8080/",
          "height": 221
        }
      },
      "outputs": [
        {
          "output_type": "stream",
          "name": "stdout",
          "text": [
            "['Iris-setosa' 'Iris-versicolor' 'Iris-virginica']\n"
          ]
        },
        {
          "output_type": "execute_result",
          "data": {
            "text/plain": [
              "     sepal_length  sepal_width  petal_width  petal_length  label\n",
              "31            5.4          3.4          1.5           0.4      0\n",
              "23            5.1          3.3          1.7           0.5      0\n",
              "70            5.9          3.2          4.8           1.8      1\n",
              "100           6.3          3.3          6.0           2.5      2\n",
              "44            5.1          3.8          1.9           0.4      0"
            ],
            "text/html": [
              "\n",
              "  <div id=\"df-09218fa6-1ce6-48e2-9950-62c72c88d34c\" class=\"colab-df-container\">\n",
              "    <div>\n",
              "<style scoped>\n",
              "    .dataframe tbody tr th:only-of-type {\n",
              "        vertical-align: middle;\n",
              "    }\n",
              "\n",
              "    .dataframe tbody tr th {\n",
              "        vertical-align: top;\n",
              "    }\n",
              "\n",
              "    .dataframe thead th {\n",
              "        text-align: right;\n",
              "    }\n",
              "</style>\n",
              "<table border=\"1\" class=\"dataframe\">\n",
              "  <thead>\n",
              "    <tr style=\"text-align: right;\">\n",
              "      <th></th>\n",
              "      <th>sepal_length</th>\n",
              "      <th>sepal_width</th>\n",
              "      <th>petal_width</th>\n",
              "      <th>petal_length</th>\n",
              "      <th>label</th>\n",
              "    </tr>\n",
              "  </thead>\n",
              "  <tbody>\n",
              "    <tr>\n",
              "      <th>31</th>\n",
              "      <td>5.4</td>\n",
              "      <td>3.4</td>\n",
              "      <td>1.5</td>\n",
              "      <td>0.4</td>\n",
              "      <td>0</td>\n",
              "    </tr>\n",
              "    <tr>\n",
              "      <th>23</th>\n",
              "      <td>5.1</td>\n",
              "      <td>3.3</td>\n",
              "      <td>1.7</td>\n",
              "      <td>0.5</td>\n",
              "      <td>0</td>\n",
              "    </tr>\n",
              "    <tr>\n",
              "      <th>70</th>\n",
              "      <td>5.9</td>\n",
              "      <td>3.2</td>\n",
              "      <td>4.8</td>\n",
              "      <td>1.8</td>\n",
              "      <td>1</td>\n",
              "    </tr>\n",
              "    <tr>\n",
              "      <th>100</th>\n",
              "      <td>6.3</td>\n",
              "      <td>3.3</td>\n",
              "      <td>6.0</td>\n",
              "      <td>2.5</td>\n",
              "      <td>2</td>\n",
              "    </tr>\n",
              "    <tr>\n",
              "      <th>44</th>\n",
              "      <td>5.1</td>\n",
              "      <td>3.8</td>\n",
              "      <td>1.9</td>\n",
              "      <td>0.4</td>\n",
              "      <td>0</td>\n",
              "    </tr>\n",
              "  </tbody>\n",
              "</table>\n",
              "</div>\n",
              "    <div class=\"colab-df-buttons\">\n",
              "\n",
              "  <div class=\"colab-df-container\">\n",
              "    <button class=\"colab-df-convert\" onclick=\"convertToInteractive('df-09218fa6-1ce6-48e2-9950-62c72c88d34c')\"\n",
              "            title=\"Convert this dataframe to an interactive table.\"\n",
              "            style=\"display:none;\">\n",
              "\n",
              "  <svg xmlns=\"http://www.w3.org/2000/svg\" height=\"24px\" viewBox=\"0 -960 960 960\">\n",
              "    <path d=\"M120-120v-720h720v720H120Zm60-500h600v-160H180v160Zm220 220h160v-160H400v160Zm0 220h160v-160H400v160ZM180-400h160v-160H180v160Zm440 0h160v-160H620v160ZM180-180h160v-160H180v160Zm440 0h160v-160H620v160Z\"/>\n",
              "  </svg>\n",
              "    </button>\n",
              "\n",
              "  <style>\n",
              "    .colab-df-container {\n",
              "      display:flex;\n",
              "      gap: 12px;\n",
              "    }\n",
              "\n",
              "    .colab-df-convert {\n",
              "      background-color: #E8F0FE;\n",
              "      border: none;\n",
              "      border-radius: 50%;\n",
              "      cursor: pointer;\n",
              "      display: none;\n",
              "      fill: #1967D2;\n",
              "      height: 32px;\n",
              "      padding: 0 0 0 0;\n",
              "      width: 32px;\n",
              "    }\n",
              "\n",
              "    .colab-df-convert:hover {\n",
              "      background-color: #E2EBFA;\n",
              "      box-shadow: 0px 1px 2px rgba(60, 64, 67, 0.3), 0px 1px 3px 1px rgba(60, 64, 67, 0.15);\n",
              "      fill: #174EA6;\n",
              "    }\n",
              "\n",
              "    .colab-df-buttons div {\n",
              "      margin-bottom: 4px;\n",
              "    }\n",
              "\n",
              "    [theme=dark] .colab-df-convert {\n",
              "      background-color: #3B4455;\n",
              "      fill: #D2E3FC;\n",
              "    }\n",
              "\n",
              "    [theme=dark] .colab-df-convert:hover {\n",
              "      background-color: #434B5C;\n",
              "      box-shadow: 0px 1px 3px 1px rgba(0, 0, 0, 0.15);\n",
              "      filter: drop-shadow(0px 1px 2px rgba(0, 0, 0, 0.3));\n",
              "      fill: #FFFFFF;\n",
              "    }\n",
              "  </style>\n",
              "\n",
              "    <script>\n",
              "      const buttonEl =\n",
              "        document.querySelector('#df-09218fa6-1ce6-48e2-9950-62c72c88d34c button.colab-df-convert');\n",
              "      buttonEl.style.display =\n",
              "        google.colab.kernel.accessAllowed ? 'block' : 'none';\n",
              "\n",
              "      async function convertToInteractive(key) {\n",
              "        const element = document.querySelector('#df-09218fa6-1ce6-48e2-9950-62c72c88d34c');\n",
              "        const dataTable =\n",
              "          await google.colab.kernel.invokeFunction('convertToInteractive',\n",
              "                                                    [key], {});\n",
              "        if (!dataTable) return;\n",
              "\n",
              "        const docLinkHtml = 'Like what you see? Visit the ' +\n",
              "          '<a target=\"_blank\" href=https://colab.research.google.com/notebooks/data_table.ipynb>data table notebook</a>'\n",
              "          + ' to learn more about interactive tables.';\n",
              "        element.innerHTML = '';\n",
              "        dataTable['output_type'] = 'display_data';\n",
              "        await google.colab.output.renderOutput(dataTable, element);\n",
              "        const docLink = document.createElement('div');\n",
              "        docLink.innerHTML = docLinkHtml;\n",
              "        element.appendChild(docLink);\n",
              "      }\n",
              "    </script>\n",
              "  </div>\n",
              "\n",
              "\n",
              "<div id=\"df-40d0ebf8-de5f-46a7-89fc-05618e7320b7\">\n",
              "  <button class=\"colab-df-quickchart\" onclick=\"quickchart('df-40d0ebf8-de5f-46a7-89fc-05618e7320b7')\"\n",
              "            title=\"Suggest charts.\"\n",
              "            style=\"display:none;\">\n",
              "\n",
              "<svg xmlns=\"http://www.w3.org/2000/svg\" height=\"24px\"viewBox=\"0 0 24 24\"\n",
              "     width=\"24px\">\n",
              "    <g>\n",
              "        <path d=\"M19 3H5c-1.1 0-2 .9-2 2v14c0 1.1.9 2 2 2h14c1.1 0 2-.9 2-2V5c0-1.1-.9-2-2-2zM9 17H7v-7h2v7zm4 0h-2V7h2v10zm4 0h-2v-4h2v4z\"/>\n",
              "    </g>\n",
              "</svg>\n",
              "  </button>\n",
              "\n",
              "<style>\n",
              "  .colab-df-quickchart {\n",
              "    background-color: #E8F0FE;\n",
              "    border: none;\n",
              "    border-radius: 50%;\n",
              "    cursor: pointer;\n",
              "    display: none;\n",
              "    fill: #1967D2;\n",
              "    height: 32px;\n",
              "    padding: 0 0 0 0;\n",
              "    width: 32px;\n",
              "  }\n",
              "\n",
              "  .colab-df-quickchart:hover {\n",
              "    background-color: #E2EBFA;\n",
              "    box-shadow: 0px 1px 2px rgba(60, 64, 67, 0.3), 0px 1px 3px 1px rgba(60, 64, 67, 0.15);\n",
              "    fill: #174EA6;\n",
              "  }\n",
              "\n",
              "  [theme=dark] .colab-df-quickchart {\n",
              "    background-color: #3B4455;\n",
              "    fill: #D2E3FC;\n",
              "  }\n",
              "\n",
              "  [theme=dark] .colab-df-quickchart:hover {\n",
              "    background-color: #434B5C;\n",
              "    box-shadow: 0px 1px 3px 1px rgba(0, 0, 0, 0.15);\n",
              "    filter: drop-shadow(0px 1px 2px rgba(0, 0, 0, 0.3));\n",
              "    fill: #FFFFFF;\n",
              "  }\n",
              "</style>\n",
              "\n",
              "  <script>\n",
              "    async function quickchart(key) {\n",
              "      const charts = await google.colab.kernel.invokeFunction(\n",
              "          'suggestCharts', [key], {});\n",
              "    }\n",
              "    (() => {\n",
              "      let quickchartButtonEl =\n",
              "        document.querySelector('#df-40d0ebf8-de5f-46a7-89fc-05618e7320b7 button');\n",
              "      quickchartButtonEl.style.display =\n",
              "        google.colab.kernel.accessAllowed ? 'block' : 'none';\n",
              "    })();\n",
              "  </script>\n",
              "</div>\n",
              "    </div>\n",
              "  </div>\n"
            ]
          },
          "metadata": {},
          "execution_count": 2
        }
      ],
      "source": [
        "# Section 3.1\n",
        "\n",
        "import requests\n",
        "import pandas as pd\n",
        "import tensorflow as tf\n",
        "\n",
        "# Retrieve the data\n",
        "url = \"https://archive.ics.uci.edu/ml/machine-learning-databases/iris/iris.data\"\n",
        "r = requests.get(url)\n",
        "\n",
        "with open('iris.data', 'wb') as f:\n",
        "  f.write(r.content)\n",
        "\n",
        "# Read the data in\n",
        "iris_df = pd.read_csv('iris.data', header=None)\n",
        "\n",
        "# Set the column names\n",
        "iris_df.columns = ['sepal_length', 'sepal_width', 'petal_width', 'petal_length', 'label']\n",
        "print(iris_df.label.unique())\n",
        "\n",
        "# Convert labels to integers\n",
        "iris_df[\"label\"] = iris_df[\"label\"].map({'Iris-setosa':0, 'Iris-versicolor':1, 'Iris-virginica':2})\n",
        "\n",
        "# Shuffle the data\n",
        "iris_df = iris_df.sample(frac=1.0, random_state=4321)\n",
        "\n",
        "# Normalize the features by subtracting the mean\n",
        "x = iris_df[[\"sepal_length\", \"sepal_width\", \"petal_width\", \"petal_length\"]]\n",
        "x = x - x.mean(axis=0)\n",
        "\n",
        "# Converting integer labels to one-hot vectors\n",
        "y = tf.one_hot(iris_df[\"label\"], depth=3)\n",
        "\n",
        "iris_df.head()"
      ]
    },
    {
      "cell_type": "code",
      "execution_count": 3,
      "metadata": {
        "id": "w446xbOsYd9E",
        "outputId": "f4815352-108d-492c-8411-78e2cdb5fe11",
        "colab": {
          "base_uri": "https://localhost:8080/"
        }
      },
      "outputs": [
        {
          "output_type": "stream",
          "name": "stdout",
          "text": [
            "     sepal_length  sepal_width  petal_width  petal_length\n",
            "31      -0.443333        0.346    -2.258667     -0.798667\n",
            "23      -0.743333        0.246    -2.058667     -0.698667\n",
            "70       0.056667        0.146     1.041333      0.601333\n",
            "100      0.456667        0.246     2.241333      1.301333\n",
            "44      -0.743333        0.746    -1.858667     -0.798667\n",
            "..            ...          ...          ...           ...\n",
            "113     -0.143333       -0.554     1.241333      0.801333\n",
            "91       0.256667       -0.054     0.841333      0.201333\n",
            "146      0.456667       -0.554     1.241333      0.701333\n",
            "124      0.856667        0.246     1.941333      0.901333\n",
            "61       0.056667       -0.054     0.441333      0.301333\n",
            "\n",
            "[150 rows x 4 columns]\n"
          ]
        }
      ],
      "source": [
        "print(x)\n"
      ]
    },
    {
      "cell_type": "code",
      "execution_count": 4,
      "metadata": {
        "id": "CnGsiz2EYd9G",
        "outputId": "f5a0f2a9-526a-456d-bdd2-d395008bb5be",
        "colab": {
          "base_uri": "https://localhost:8080/"
        }
      },
      "outputs": [
        {
          "output_type": "stream",
          "name": "stdout",
          "text": [
            "tf.Tensor(\n",
            "[[1. 0. 0.]\n",
            " [1. 0. 0.]\n",
            " [0. 1. 0.]\n",
            " [0. 0. 1.]\n",
            " [1. 0. 0.]\n",
            " [0. 0. 1.]\n",
            " [1. 0. 0.]\n",
            " [0. 0. 1.]\n",
            " [0. 0. 1.]\n",
            " [0. 1. 0.]\n",
            " [0. 1. 0.]\n",
            " [1. 0. 0.]\n",
            " [0. 0. 1.]\n",
            " [0. 1. 0.]\n",
            " [0. 0. 1.]\n",
            " [0. 1. 0.]\n",
            " [0. 1. 0.]\n",
            " [0. 0. 1.]\n",
            " [1. 0. 0.]\n",
            " [1. 0. 0.]\n",
            " [0. 1. 0.]\n",
            " [0. 0. 1.]\n",
            " [0. 0. 1.]\n",
            " [0. 1. 0.]\n",
            " [1. 0. 0.]\n",
            " [0. 0. 1.]\n",
            " [0. 1. 0.]\n",
            " [0. 0. 1.]\n",
            " [1. 0. 0.]\n",
            " [1. 0. 0.]\n",
            " [1. 0. 0.]\n",
            " [0. 0. 1.]\n",
            " [1. 0. 0.]\n",
            " [0. 0. 1.]\n",
            " [1. 0. 0.]\n",
            " [0. 0. 1.]\n",
            " [0. 1. 0.]\n",
            " [0. 1. 0.]\n",
            " [0. 0. 1.]\n",
            " [0. 0. 1.]\n",
            " [0. 0. 1.]\n",
            " [0. 1. 0.]\n",
            " [1. 0. 0.]\n",
            " [1. 0. 0.]\n",
            " [0. 1. 0.]\n",
            " [0. 1. 0.]\n",
            " [0. 0. 1.]\n",
            " [0. 1. 0.]\n",
            " [0. 0. 1.]\n",
            " [1. 0. 0.]\n",
            " [0. 0. 1.]\n",
            " [1. 0. 0.]\n",
            " [0. 1. 0.]\n",
            " [0. 0. 1.]\n",
            " [0. 0. 1.]\n",
            " [0. 1. 0.]\n",
            " [0. 0. 1.]\n",
            " [1. 0. 0.]\n",
            " [0. 0. 1.]\n",
            " [1. 0. 0.]\n",
            " [1. 0. 0.]\n",
            " [1. 0. 0.]\n",
            " [1. 0. 0.]\n",
            " [0. 1. 0.]\n",
            " [1. 0. 0.]\n",
            " [0. 1. 0.]\n",
            " [1. 0. 0.]\n",
            " [1. 0. 0.]\n",
            " [1. 0. 0.]\n",
            " [0. 1. 0.]\n",
            " [1. 0. 0.]\n",
            " [0. 1. 0.]\n",
            " [0. 0. 1.]\n",
            " [1. 0. 0.]\n",
            " [0. 0. 1.]\n",
            " [0. 1. 0.]\n",
            " [0. 1. 0.]\n",
            " [0. 1. 0.]\n",
            " [0. 1. 0.]\n",
            " [1. 0. 0.]\n",
            " [0. 1. 0.]\n",
            " [1. 0. 0.]\n",
            " [1. 0. 0.]\n",
            " [1. 0. 0.]\n",
            " [0. 1. 0.]\n",
            " [0. 0. 1.]\n",
            " [0. 1. 0.]\n",
            " [0. 1. 0.]\n",
            " [0. 0. 1.]\n",
            " [0. 1. 0.]\n",
            " [0. 1. 0.]\n",
            " [0. 0. 1.]\n",
            " [1. 0. 0.]\n",
            " [0. 1. 0.]\n",
            " [1. 0. 0.]\n",
            " [0. 0. 1.]\n",
            " [0. 1. 0.]\n",
            " [0. 0. 1.]\n",
            " [1. 0. 0.]\n",
            " [1. 0. 0.]\n",
            " [0. 0. 1.]\n",
            " [1. 0. 0.]\n",
            " [0. 1. 0.]\n",
            " [0. 1. 0.]\n",
            " [1. 0. 0.]\n",
            " [0. 1. 0.]\n",
            " [0. 1. 0.]\n",
            " [1. 0. 0.]\n",
            " [0. 1. 0.]\n",
            " [1. 0. 0.]\n",
            " [0. 1. 0.]\n",
            " [1. 0. 0.]\n",
            " [1. 0. 0.]\n",
            " [0. 1. 0.]\n",
            " [0. 0. 1.]\n",
            " [0. 1. 0.]\n",
            " [1. 0. 0.]\n",
            " [0. 0. 1.]\n",
            " [0. 0. 1.]\n",
            " [0. 0. 1.]\n",
            " [0. 1. 0.]\n",
            " [0. 1. 0.]\n",
            " [0. 1. 0.]\n",
            " [0. 1. 0.]\n",
            " [0. 1. 0.]\n",
            " [1. 0. 0.]\n",
            " [1. 0. 0.]\n",
            " [0. 0. 1.]\n",
            " [0. 1. 0.]\n",
            " [0. 0. 1.]\n",
            " [0. 0. 1.]\n",
            " [1. 0. 0.]\n",
            " [1. 0. 0.]\n",
            " [1. 0. 0.]\n",
            " [1. 0. 0.]\n",
            " [0. 0. 1.]\n",
            " [0. 0. 1.]\n",
            " [0. 0. 1.]\n",
            " [0. 0. 1.]\n",
            " [0. 0. 1.]\n",
            " [0. 0. 1.]\n",
            " [0. 1. 0.]\n",
            " [0. 0. 1.]\n",
            " [0. 0. 1.]\n",
            " [1. 0. 0.]\n",
            " [0. 0. 1.]\n",
            " [0. 1. 0.]\n",
            " [0. 0. 1.]\n",
            " [0. 0. 1.]\n",
            " [0. 1. 0.]], shape=(150, 3), dtype=float32)\n"
          ]
        }
      ],
      "source": [
        "print(y)"
      ]
    },
    {
      "cell_type": "markdown",
      "metadata": {
        "id": "cVDqe58wYd9G"
      },
      "source": [
        "### Sequential API\n",
        "\n",
        "The Sequential API is the easiest to use. It can be used to define a simple model that has one input, one output and a sequence of intermediate layers in the middle.\n",
        "\n",
        "Here we are defining a model with following layers.\n",
        "\n",
        "* A `Dense` layer with 32 nodes and relu activation\n",
        "* A `Dense` layer with 16 nodes and relu activation\n",
        "* A `Dense` layer with 3 nodes and softmax activation\n",
        "\n",
        "Finally we train the model using a batch size of 64 and for 10 epochs."
      ]
    },
    {
      "cell_type": "code",
      "execution_count": 5,
      "metadata": {
        "id": "ECymaLjWYd9G",
        "outputId": "06244cb5-0353-4752-f9ab-6831c5bf0b12",
        "colab": {
          "base_uri": "https://localhost:8080/"
        }
      },
      "outputs": [
        {
          "output_type": "stream",
          "name": "stdout",
          "text": [
            "Model: \"sequential\"\n",
            "_________________________________________________________________\n",
            " Layer (type)                Output Shape              Param #   \n",
            "=================================================================\n",
            " dense (Dense)               (None, 32)                160       \n",
            "                                                                 \n",
            " dense_1 (Dense)             (None, 16)                528       \n",
            "                                                                 \n",
            " dense_2 (Dense)             (None, 3)                 51        \n",
            "                                                                 \n",
            "=================================================================\n",
            "Total params: 739\n",
            "Trainable params: 739\n",
            "Non-trainable params: 0\n",
            "_________________________________________________________________\n",
            "Epoch 1/25\n",
            "3/3 [==============================] - 6s 12ms/step - loss: 0.9670 - acc: 0.3333\n",
            "Epoch 2/25\n",
            "3/3 [==============================] - 0s 7ms/step - loss: 0.9450 - acc: 0.3333\n",
            "Epoch 3/25\n",
            "3/3 [==============================] - 0s 7ms/step - loss: 0.9253 - acc: 0.3333\n",
            "Epoch 4/25\n",
            "3/3 [==============================] - 0s 9ms/step - loss: 0.9069 - acc: 0.3400\n",
            "Epoch 5/25\n",
            "3/3 [==============================] - 0s 7ms/step - loss: 0.8898 - acc: 0.3867\n",
            "Epoch 6/25\n",
            "3/3 [==============================] - 0s 8ms/step - loss: 0.8737 - acc: 0.5733\n",
            "Epoch 7/25\n",
            "3/3 [==============================] - 0s 7ms/step - loss: 0.8591 - acc: 0.6400\n",
            "Epoch 8/25\n",
            "3/3 [==============================] - 0s 7ms/step - loss: 0.8442 - acc: 0.6667\n",
            "Epoch 9/25\n",
            "3/3 [==============================] - 0s 8ms/step - loss: 0.8295 - acc: 0.6867\n",
            "Epoch 10/25\n",
            "3/3 [==============================] - 0s 7ms/step - loss: 0.8159 - acc: 0.7000\n",
            "Epoch 11/25\n",
            "3/3 [==============================] - 0s 7ms/step - loss: 0.8019 - acc: 0.7133\n",
            "Epoch 12/25\n",
            "3/3 [==============================] - 0s 8ms/step - loss: 0.7880 - acc: 0.7267\n",
            "Epoch 13/25\n",
            "3/3 [==============================] - 0s 8ms/step - loss: 0.7746 - acc: 0.7333\n",
            "Epoch 14/25\n",
            "3/3 [==============================] - 0s 7ms/step - loss: 0.7613 - acc: 0.7533\n",
            "Epoch 15/25\n",
            "3/3 [==============================] - 0s 8ms/step - loss: 0.7486 - acc: 0.7600\n",
            "Epoch 16/25\n",
            "3/3 [==============================] - 0s 7ms/step - loss: 0.7361 - acc: 0.7667\n",
            "Epoch 17/25\n",
            "3/3 [==============================] - 0s 9ms/step - loss: 0.7238 - acc: 0.7733\n",
            "Epoch 18/25\n",
            "3/3 [==============================] - 0s 7ms/step - loss: 0.7116 - acc: 0.7800\n",
            "Epoch 19/25\n",
            "3/3 [==============================] - 0s 9ms/step - loss: 0.7003 - acc: 0.7800\n",
            "Epoch 20/25\n",
            "3/3 [==============================] - 0s 9ms/step - loss: 0.6891 - acc: 0.7867\n",
            "Epoch 21/25\n",
            "3/3 [==============================] - 0s 11ms/step - loss: 0.6783 - acc: 0.8000\n",
            "Epoch 22/25\n",
            "3/3 [==============================] - 0s 10ms/step - loss: 0.6671 - acc: 0.8000\n",
            "Epoch 23/25\n",
            "3/3 [==============================] - 0s 10ms/step - loss: 0.6566 - acc: 0.8000\n",
            "Epoch 24/25\n",
            "3/3 [==============================] - 0s 7ms/step - loss: 0.6461 - acc: 0.8000\n",
            "Epoch 25/25\n",
            "3/3 [==============================] - 0s 7ms/step - loss: 0.6352 - acc: 0.8133\n"
          ]
        },
        {
          "output_type": "execute_result",
          "data": {
            "text/plain": [
              "<keras.callbacks.History at 0x7cd7b1908790>"
            ]
          },
          "metadata": {},
          "execution_count": 5
        }
      ],
      "source": [
        "# Section 3.1\n",
        "# Code listing 3.1\n",
        "\n",
        "from tensorflow.keras.layers import Dense\n",
        "from tensorflow.keras.models import Sequential\n",
        "import tensorflow.keras.backend as K\n",
        "\n",
        "K.clear_session() # Making sure we are clearing out the TensorFlow graph\n",
        "\n",
        "# Defining Model A with the Sequential API\n",
        "model = Sequential([\n",
        "    Dense(32, activation='relu', input_shape=(4,)),\n",
        "    Dense(16, activation='relu'),\n",
        "    Dense(3, activation='softmax')\n",
        "])\n",
        "\n",
        "# Print out a summary of the model\n",
        "model.summary()\n",
        "\n",
        "# Compiling the model with a loss function, an optimizer and a performance metric\n",
        "model.compile(loss='categorical_crossentropy', optimizer='adam', metrics=['acc'])\n",
        "\n",
        "# Fitting the model with data\n",
        "model.fit(x, y, batch_size=64, epochs=25)"
      ]
    },
    {
      "cell_type": "markdown",
      "metadata": {
        "id": "J9Xey4HgYd9G"
      },
      "source": [
        "### Functional API\n",
        "\n",
        "Next, the functional API lets you build more complex models. It lets you build models with parallel inputs, outputs and layers. Here, we will be using the Functional API to build a model that has two parallel `Dense` layers, a single `Dense` layer and an output `Dense` layer.\n",
        "\n",
        "We will be using two sets of inputs for this model.\n",
        "\n",
        "* The original inputs\n",
        "* PCA features (i.e. 2 pricipal components) of the original inputs"
      ]
    },
    {
      "cell_type": "markdown",
      "metadata": {
        "id": "o8MskZp7Yd9H"
      },
      "source": [
        "#### Building the model\n",
        "\n",
        "Here we build the model. The model has\n",
        "\n",
        "* Two parallel input layers\n",
        "* Two parallel hidden layers\n",
        "* A layer that concatenates two outputs\n",
        "* A dense layer consuming the concatenated output\n",
        "* Final output layer"
      ]
    },
    {
      "cell_type": "code",
      "execution_count": 6,
      "metadata": {
        "id": "38mS4L5vYd9H",
        "outputId": "6cf82165-8465-4e06-fdde-4172970aa749",
        "colab": {
          "base_uri": "https://localhost:8080/"
        }
      },
      "outputs": [
        {
          "output_type": "stream",
          "name": "stdout",
          "text": [
            "Model: \"model\"\n",
            "__________________________________________________________________________________________________\n",
            " Layer (type)                   Output Shape         Param #     Connected to                     \n",
            "==================================================================================================\n",
            " input_1 (InputLayer)           [(None, 4)]          0           []                               \n",
            "                                                                                                  \n",
            " input_2 (InputLayer)           [(None, 2)]          0           []                               \n",
            "                                                                                                  \n",
            " dense (Dense)                  (None, 16)           80          ['input_1[0][0]']                \n",
            "                                                                                                  \n",
            " dense_1 (Dense)                (None, 16)           48          ['input_2[0][0]']                \n",
            "                                                                                                  \n",
            " concatenate (Concatenate)      (None, 32)           0           ['dense[0][0]',                  \n",
            "                                                                  'dense_1[0][0]']                \n",
            "                                                                                                  \n",
            " dense_2 (Dense)                (None, 16)           528         ['concatenate[0][0]']            \n",
            "                                                                                                  \n",
            " dense_3 (Dense)                (None, 3)            51          ['dense_2[0][0]']                \n",
            "                                                                                                  \n",
            "==================================================================================================\n",
            "Total params: 707\n",
            "Trainable params: 707\n",
            "Non-trainable params: 0\n",
            "__________________________________________________________________________________________________\n"
          ]
        }
      ],
      "source": [
        "# Section 3.1\n",
        "# Code listing 3.2\n",
        "\n",
        "from tensorflow.keras.layers import Input, Dense, Concatenate\n",
        "from tensorflow.keras.models import Model\n",
        "import tensorflow.keras.backend as K\n",
        "\n",
        "K.clear_session() # Making sure we are clearing out the TensorFlow graph\n",
        "\n",
        "# The two input layers\n",
        "inp1 = Input(shape=(4,))\n",
        "inp2 = Input(shape=(2,))\n",
        "\n",
        "# Two parallel dense layers\n",
        "out1 = Dense(16, activation='relu')(inp1)\n",
        "out2 = Dense(16, activation='relu')(inp2)\n",
        "\n",
        "# Concatenate the two outputs from the parallel layers\n",
        "out = Concatenate(axis=1)([out1,out2])\n",
        "\n",
        "# The single dense layer\n",
        "out = Dense(16, activation='relu')(out)\n",
        "\n",
        "# The final output layer\n",
        "out = Dense(3, activation='softmax')(out)\n",
        "\n",
        "# Create and compile the model\n",
        "model = Model(inputs=[inp1, inp2], outputs=out)\n",
        "\n",
        "# Compiling the model with a loss function, an optimizer and a performance metric\n",
        "model.compile(loss='categorical_crossentropy', optimizer='adam', metrics=['acc'])\n",
        "\n",
        "model.summary()\n"
      ]
    },
    {
      "cell_type": "markdown",
      "metadata": {
        "id": "JM44IBluYd9I"
      },
      "source": [
        "#### Compute the PCA features\n",
        "\n",
        "Here we compute the PCA features using the original data. We will only get the first two principal components."
      ]
    },
    {
      "cell_type": "code",
      "execution_count": 7,
      "metadata": {
        "id": "xeXwf0ECYd9I"
      },
      "outputs": [],
      "source": [
        "# Section 3.1\n",
        "\n",
        "from sklearn.decomposition import PCA\n",
        "# Defining a PCA transformer\n",
        "pca_model = PCA(n_components=2, random_state=4321)\n",
        "# Generating the PCA features from data\n",
        "x_pca = pca_model.fit_transform(x)"
      ]
    },
    {
      "cell_type": "markdown",
      "metadata": {
        "id": "5MSRA_O4Yd9I"
      },
      "source": [
        "#### Training the model\n",
        "\n",
        "The model is trained using a batch size of 64 and for 10 epochs."
      ]
    },
    {
      "cell_type": "code",
      "execution_count": 8,
      "metadata": {
        "id": "S5Y0z7StYd9O",
        "outputId": "bc8ba828-724d-4288-9ca7-2eba5e24c309",
        "colab": {
          "base_uri": "https://localhost:8080/"
        }
      },
      "outputs": [
        {
          "output_type": "stream",
          "name": "stdout",
          "text": [
            "Epoch 1/25\n",
            "3/3 [==============================] - 3s 13ms/step - loss: 1.0199 - acc: 0.4000\n",
            "Epoch 2/25\n",
            "3/3 [==============================] - 0s 9ms/step - loss: 0.9854 - acc: 0.4533\n",
            "Epoch 3/25\n",
            "3/3 [==============================] - 0s 8ms/step - loss: 0.9527 - acc: 0.6133\n",
            "Epoch 4/25\n",
            "3/3 [==============================] - 0s 7ms/step - loss: 0.9207 - acc: 0.7133\n",
            "Epoch 5/25\n",
            "3/3 [==============================] - 0s 8ms/step - loss: 0.8907 - acc: 0.7467\n",
            "Epoch 6/25\n",
            "3/3 [==============================] - 0s 7ms/step - loss: 0.8620 - acc: 0.7467\n",
            "Epoch 7/25\n",
            "3/3 [==============================] - 0s 8ms/step - loss: 0.8356 - acc: 0.7467\n",
            "Epoch 8/25\n",
            "3/3 [==============================] - 0s 11ms/step - loss: 0.8090 - acc: 0.7533\n",
            "Epoch 9/25\n",
            "3/3 [==============================] - 0s 8ms/step - loss: 0.7835 - acc: 0.7600\n",
            "Epoch 10/25\n",
            "3/3 [==============================] - 0s 10ms/step - loss: 0.7602 - acc: 0.7867\n",
            "Epoch 11/25\n",
            "3/3 [==============================] - 0s 6ms/step - loss: 0.7365 - acc: 0.7867\n",
            "Epoch 12/25\n",
            "3/3 [==============================] - 0s 6ms/step - loss: 0.7131 - acc: 0.7933\n",
            "Epoch 13/25\n",
            "3/3 [==============================] - 0s 9ms/step - loss: 0.6910 - acc: 0.8000\n",
            "Epoch 14/25\n",
            "3/3 [==============================] - 0s 7ms/step - loss: 0.6687 - acc: 0.8067\n",
            "Epoch 15/25\n",
            "3/3 [==============================] - 0s 6ms/step - loss: 0.6476 - acc: 0.8067\n",
            "Epoch 16/25\n",
            "3/3 [==============================] - 0s 7ms/step - loss: 0.6265 - acc: 0.8133\n",
            "Epoch 17/25\n",
            "3/3 [==============================] - 0s 7ms/step - loss: 0.6060 - acc: 0.8133\n",
            "Epoch 18/25\n",
            "3/3 [==============================] - 0s 6ms/step - loss: 0.5861 - acc: 0.8200\n",
            "Epoch 19/25\n",
            "3/3 [==============================] - 0s 6ms/step - loss: 0.5668 - acc: 0.8200\n",
            "Epoch 20/25\n",
            "3/3 [==============================] - 0s 6ms/step - loss: 0.5485 - acc: 0.8267\n",
            "Epoch 21/25\n",
            "3/3 [==============================] - 0s 6ms/step - loss: 0.5303 - acc: 0.8400\n",
            "Epoch 22/25\n",
            "3/3 [==============================] - 0s 6ms/step - loss: 0.5137 - acc: 0.8533\n",
            "Epoch 23/25\n",
            "3/3 [==============================] - 0s 6ms/step - loss: 0.4971 - acc: 0.8600\n",
            "Epoch 24/25\n",
            "3/3 [==============================] - 0s 6ms/step - loss: 0.4823 - acc: 0.8667\n",
            "Epoch 25/25\n",
            "3/3 [==============================] - 0s 7ms/step - loss: 0.4680 - acc: 0.8733\n"
          ]
        },
        {
          "output_type": "execute_result",
          "data": {
            "text/plain": [
              "<keras.callbacks.History at 0x7cd787bd1870>"
            ]
          },
          "metadata": {},
          "execution_count": 8
        }
      ],
      "source": [
        "# Section 3.1\n",
        "\n",
        "# Fitting the model with data\n",
        "model.fit([x, x_pca], y, batch_size=64, epochs=25)"
      ]
    },
    {
      "cell_type": "markdown",
      "metadata": {
        "id": "kQKzvlR8Yd9P"
      },
      "source": [
        "#### Plotting the network\n",
        "\n",
        "We can plot a network graph of the model we have built as follows."
      ]
    },
    {
      "cell_type": "code",
      "source": [],
      "metadata": {
        "id": "FWhJCrjDcRDq"
      },
      "execution_count": null,
      "outputs": []
    },
    {
      "cell_type": "code",
      "execution_count": 9,
      "metadata": {
        "id": "Sll3QEmoYd9P",
        "outputId": "3209f480-e58b-4584-ae15-b04568b2bae4",
        "colab": {
          "base_uri": "https://localhost:8080/",
          "height": 533
        }
      },
      "outputs": [
        {
          "output_type": "execute_result",
          "data": {
            "image/png": "[encoded data removed]",
            "text/plain": [
              "<IPython.core.display.Image object>"
            ]
          },
          "metadata": {},
          "execution_count": 9
        }
      ],
      "source": [
        "# Section 3.1\n",
        "import tensorflow as tf\n",
        "tf.keras.utils.plot_model(model, show_shapes=True)"
      ]
    },
    {
      "cell_type": "markdown",
      "metadata": {
        "id": "zQJPH6ZfYd9Q"
      },
      "source": [
        "### Sub-classing API\n",
        "\n",
        "The sub-classing API is considered the hardest to wield, as it requires creating a Python class for the layer or model you want to sub-class. But the added benefit is that you can implement custom computations as sub-classed objects and reuse them in a very convenient manner to create complex models.\n",
        "\n",
        "In this exercise, we are creating a custom version of the `Dense` layer which has a multiplicative bias in addition to the additive bias. In other words, we will be implementing a new layer called `MulBiasDense` which does the following computation.\n",
        "\n",
        "$h = \\text{Activation}(xW + b \\times b_{mul})$"
      ]
    },
    {
      "cell_type": "markdown",
      "metadata": {
        "id": "hnkWFrZCYd9Q"
      },
      "source": [
        "#### Defining the custom layer\n",
        "\n",
        "Here we define the new custom layer. This layer has three parameters (i.e. `w`, `b` and `b_mul`). When defining the new layer we need to define three important functions.\n",
        "\n",
        "* `__init__`\n",
        "* `build`\n",
        "* `call`"
      ]
    },
    {
      "cell_type": "code",
      "execution_count": 10,
      "metadata": {
        "id": "leKVKpPgYd9Q"
      },
      "outputs": [],
      "source": [
        "# Section 3.1\n",
        "# Code listing 3.3\n",
        "\n",
        "from tensorflow.keras import layers\n",
        "\n",
        "class MulBiasDense(layers.Layer):\n",
        "    \"\"\" The layer with the new multiplicative bias we want to test \"\"\"\n",
        "\n",
        "    def __init__(self, units=32, activation=None):\n",
        "        \"\"\" Defines various hyperparameters of the layer\"\"\"\n",
        "\n",
        "        super(MulBiasDense, self).__init__()\n",
        "        self.units = units\n",
        "        self.activation = activation\n",
        "\n",
        "    def build(self, input_shape):\n",
        "        \"\"\" Defines the parameters (weights and biases)\"\"\"\n",
        "\n",
        "        self.w = self.add_weight(shape=(input_shape[-1], self.units),\n",
        "                                 initializer='glorot_uniform',\n",
        "                                 trainable=True)\n",
        "        self.b = self.add_weight(shape=(self.units,),\n",
        "                                 initializer='glorot_uniform',\n",
        "                                 trainable=True)\n",
        "        self.b_mul = self.add_weight(shape=(self.units,),\n",
        "                                     initializer='glorot_uniform',\n",
        "                                     trainable=True)\n",
        "\n",
        "    def call(self, inputs):\n",
        "        \"\"\" Defines the computations that happen in the layer\"\"\"\n",
        "\n",
        "        out = (tf.matmul(inputs, self.w) + self.b) * self.b_mul\n",
        "        return layers.Activation(self.activation)(out)\n",
        "\n"
      ]
    },
    {
      "cell_type": "markdown",
      "metadata": {
        "id": "66lu8FbKYd9Q"
      },
      "source": [
        "#### Defining the model\n",
        "\n",
        "Here we define the model using the `MulBiasDense` layer we just created."
      ]
    },
    {
      "cell_type": "code",
      "execution_count": 11,
      "metadata": {
        "id": "LDh5jzs9Yd9Q",
        "outputId": "9fb40711-deea-41bd-d60b-66588e638765",
        "colab": {
          "base_uri": "https://localhost:8080/"
        }
      },
      "outputs": [
        {
          "output_type": "stream",
          "name": "stdout",
          "text": [
            "Model: \"model\"\n",
            "_________________________________________________________________\n",
            " Layer (type)                Output Shape              Param #   \n",
            "=================================================================\n",
            " input_1 (InputLayer)        [(None, 4)]               0         \n",
            "                                                                 \n",
            " mul_bias_dense (MulBiasDens  (None, 32)               192       \n",
            " e)                                                              \n",
            "                                                                 \n",
            " mul_bias_dense_1 (MulBiasDe  (None, 16)               544       \n",
            " nse)                                                            \n",
            "                                                                 \n",
            " dense (Dense)               (None, 3)                 51        \n",
            "                                                                 \n",
            "=================================================================\n",
            "Total params: 787\n",
            "Trainable params: 787\n",
            "Non-trainable params: 0\n",
            "_________________________________________________________________\n"
          ]
        }
      ],
      "source": [
        "# Seciton 3.1\n",
        "# Code listing 3.4\n",
        "\n",
        "from tensorflow.keras.layers import Input, Dense, Concatenate\n",
        "from tensorflow.keras.models import Model\n",
        "import tensorflow.keras.backend as K\n",
        "import tensorflow as tf\n",
        "\n",
        "K.clear_session() # Making sure we are clearing out the TensorFlow graph\n",
        "\n",
        "# The input layer\n",
        "inp = Input(shape=(4,))\n",
        "\n",
        "# Using the newly defined MulBiasDense layer to create two layers\n",
        "out = MulBiasDense(units=32, activation='relu')(inp)\n",
        "out = MulBiasDense(units=16, activation='relu')(out)\n",
        "\n",
        "# The softmax layer\n",
        "out = Dense(3, activation='softmax')(out)\n",
        "\n",
        "model = Model(inputs=inp, outputs=out)\n",
        "# Compiling the model with a loss function, an optimizer and a performance metric\n",
        "model.compile(loss='categorical_crossentropy', optimizer='adam', metrics=['acc'])\n",
        "\n",
        "model.summary()\n"
      ]
    },
    {
      "cell_type": "markdown",
      "metadata": {
        "id": "n1JGazNrYd9R"
      },
      "source": [
        "#### Training the model\n",
        "\n",
        "We are training the model using a batch size of 64 for 10 epochs."
      ]
    },
    {
      "cell_type": "code",
      "execution_count": 12,
      "metadata": {
        "id": "7A9dVmV4Yd9R",
        "outputId": "d91eeb53-6fc6-4193-e1cd-2d07d1aac9b0",
        "colab": {
          "base_uri": "https://localhost:8080/"
        }
      },
      "outputs": [
        {
          "output_type": "stream",
          "name": "stdout",
          "text": [
            "Epoch 1/25\n",
            "3/3 [==============================] - 2s 9ms/step - loss: 1.1052 - acc: 0.3333\n",
            "Epoch 2/25\n",
            "3/3 [==============================] - 0s 7ms/step - loss: 1.1019 - acc: 0.3333\n",
            "Epoch 3/25\n",
            "3/3 [==============================] - 0s 10ms/step - loss: 1.0990 - acc: 0.3333\n",
            "Epoch 4/25\n",
            "3/3 [==============================] - 0s 7ms/step - loss: 1.0962 - acc: 0.3333\n",
            "Epoch 5/25\n",
            "3/3 [==============================] - 0s 6ms/step - loss: 1.0933 - acc: 0.3333\n",
            "Epoch 6/25\n",
            "3/3 [==============================] - 0s 7ms/step - loss: 1.0904 - acc: 0.3333\n",
            "Epoch 7/25\n",
            "3/3 [==============================] - 0s 10ms/step - loss: 1.0877 - acc: 0.3333\n",
            "Epoch 8/25\n",
            "3/3 [==============================] - 0s 8ms/step - loss: 1.0847 - acc: 0.3333\n",
            "Epoch 9/25\n",
            "3/3 [==============================] - 0s 6ms/step - loss: 1.0817 - acc: 0.3333\n",
            "Epoch 10/25\n",
            "3/3 [==============================] - 0s 6ms/step - loss: 1.0789 - acc: 0.3400\n",
            "Epoch 11/25\n",
            "3/3 [==============================] - 0s 6ms/step - loss: 1.0758 - acc: 0.3533\n",
            "Epoch 12/25\n",
            "3/3 [==============================] - 0s 8ms/step - loss: 1.0726 - acc: 0.4467\n",
            "Epoch 13/25\n",
            "3/3 [==============================] - 0s 7ms/step - loss: 1.0692 - acc: 0.6400\n",
            "Epoch 14/25\n",
            "3/3 [==============================] - 0s 11ms/step - loss: 1.0654 - acc: 0.8267\n",
            "Epoch 15/25\n",
            "3/3 [==============================] - 0s 6ms/step - loss: 1.0614 - acc: 0.8600\n",
            "Epoch 16/25\n",
            "3/3 [==============================] - 0s 6ms/step - loss: 1.0570 - acc: 0.9067\n",
            "Epoch 17/25\n",
            "3/3 [==============================] - 0s 7ms/step - loss: 1.0520 - acc: 0.9400\n",
            "Epoch 18/25\n",
            "3/3 [==============================] - 0s 8ms/step - loss: 1.0466 - acc: 0.9533\n",
            "Epoch 19/25\n",
            "3/3 [==============================] - 0s 7ms/step - loss: 1.0407 - acc: 0.9600\n",
            "Epoch 20/25\n",
            "3/3 [==============================] - 0s 6ms/step - loss: 1.0341 - acc: 0.9600\n",
            "Epoch 21/25\n",
            "3/3 [==============================] - 0s 6ms/step - loss: 1.0270 - acc: 0.9600\n",
            "Epoch 22/25\n",
            "3/3 [==============================] - 0s 6ms/step - loss: 1.0186 - acc: 0.9467\n",
            "Epoch 23/25\n",
            "3/3 [==============================] - 0s 7ms/step - loss: 1.0096 - acc: 0.9400\n",
            "Epoch 24/25\n",
            "3/3 [==============================] - 0s 6ms/step - loss: 1.0000 - acc: 0.9000\n",
            "Epoch 25/25\n",
            "3/3 [==============================] - 0s 7ms/step - loss: 0.9891 - acc: 0.9000\n"
          ]
        },
        {
          "output_type": "execute_result",
          "data": {
            "text/plain": [
              "<keras.callbacks.History at 0x7cd7743c82b0>"
            ]
          },
          "metadata": {},
          "execution_count": 12
        }
      ],
      "source": [
        "# Section 3.1\n",
        "# Fitting the model with data\n",
        "model.fit(x, y, batch_size=64, epochs=25)"
      ]
    },
    {
      "cell_type": "code",
      "execution_count": null,
      "metadata": {
        "id": "ggrYPVWCYd9R"
      },
      "outputs": [],
      "source": []
    }
  ],
  "metadata": {
    "kernelspec": {
      "display_name": "Python 3",
      "name": "python3"
    },
    "language_info": {
      "codemirror_mode": {
        "name": "ipython",
        "version": 3
      },
      "file_extension": ".py",
      "mimetype": "text/x-python",
      "name": "python",
      "nbconvert_exporter": "python",
      "pygments_lexer": "ipython3",
      "version": "3.9.12"
    },
    "colab": {
      "provenance": [],
      "gpuType": "T4"
    },
    "accelerator": "GPU"
  },
  "nbformat": 4,
  "nbformat_minor": 0
}