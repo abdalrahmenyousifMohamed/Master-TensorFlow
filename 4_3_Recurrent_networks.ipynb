{
  "cells": [
    {
      "cell_type": "markdown",
      "metadata": {
        "id": "view-in-github",
        "colab_type": "text"
      },
      "source": [
        "<a href=\"https://colab.research.google.com/github/abdalrahmenyousifMohamed/Master-TensorFlow/blob/main/4_3_Recurrent_networks.ipynb\" target=\"_parent\"><img src=\"https://colab.research.google.com/assets/colab-badge.svg\" alt=\"Open In Colab\"/></a>"
      ]
    },
    {
      "cell_type": "markdown",
      "metadata": {
        "id": "nyLlPEiPeQ5L"
      },
      "source": [
        "# Chapter 4: Dipping Toes in Deep Learning\n",
        "\n",
        "## Recurrent Neural Networks\n",
        "\n",
        "Recurrent neural networks (RNNs) have proven their success in learning from time-series data.\n",
        "\n",
        "In this chapter, we will use a RNN to learn to predict CO2 concentration levels in the next 5 years. Specifically, you will learn the following.\n",
        "\n",
        "* How to do simple data exploration on time series data\n",
        "* How to define a RNN model\n",
        "* How to transfrom time series data to train a sequential model\n",
        "* How to train a model\n",
        "\n",
        "<table align=\"left\">\n",
        "    <td>\n",
        "        <a target=\"_blank\" href=\"https://colab.research.google.com/github/thushv89/manning_tf2_in_action/blob/master/Ch04-Deep-Networks-with-Keras/4.3.Recurrent_networks.ipynb\"><img src=\"https://www.tensorflow.org/images/colab_logo_32px.png\" />Run in Google Colab</a>\n",
        "    </td>\n",
        "</table>"
      ]
    },
    {
      "cell_type": "code",
      "execution_count": 1,
      "metadata": {
        "colab": {
          "base_uri": "https://localhost:8080/"
        },
        "id": "kpk0AmAgeQ5O",
        "outputId": "ea2ebb9b-ec07-40de-a2bb-cbcddb42f907"
      },
      "outputs": [
        {
          "output_type": "stream",
          "name": "stdout",
          "text": [
            "TensorFlow version: 2.12.0\n"
          ]
        }
      ],
      "source": [
        "import random\n",
        "import os\n",
        "import pandas as pd\n",
        "from tensorflow.keras import layers, models\n",
        "import tensorflow as tf\n",
        "import numpy as np\n",
        "from datetime import timedelta\n",
        "import matplotlib.pyplot as plt\n",
        "%matplotlib inline\n",
        "\n",
        "def fix_random_seed(seed):\n",
        "    \"\"\" Setting the random seed of various libraries \"\"\"\n",
        "    try:\n",
        "        np.random.seed(seed)\n",
        "    except NameError:\n",
        "        print(\"Warning: Numpy is not imported. Setting the seed for Numpy failed.\")\n",
        "    try:\n",
        "        tf.random.set_seed(seed)\n",
        "    except NameError:\n",
        "        print(\"Warning: TensorFlow is not imported. Setting the seed for TensorFlow failed.\")\n",
        "    try:\n",
        "        random.seed(seed)\n",
        "    except NameError:\n",
        "        print(\"Warning: random module is not imported. Setting the seed for random failed.\")\n",
        "\n",
        "os.environ['TF_FORCE_GPU_ALLOW_GROWTH'] = \"true\"\n",
        "# Fixing the random seed\n",
        "fix_random_seed(4321)\n",
        "print(\"TensorFlow version: {}\".format(tf.__version__))"
      ]
    },
    {
      "cell_type": "markdown",
      "metadata": {
        "id": "Iik3rEgNeQ5P"
      },
      "source": [
        "## Reading the data"
      ]
    },
    {
      "cell_type": "code",
      "execution_count": 2,
      "metadata": {
        "colab": {
          "base_uri": "https://localhost:8080/",
          "height": 206
        },
        "id": "Q2U33nqYeQ5Q",
        "outputId": "bebd68ee-d1a9-4bce-ea73-557cec82abc9"
      },
      "outputs": [
        {
          "output_type": "execute_result",
          "data": {
            "text/plain": [
              "         Date  Decimal Date  Average   Trend\n",
              "0  1980-01-01      1980.042   338.45  337.83\n",
              "1  1980-02-01      1980.125   339.15  338.10\n",
              "2  1980-03-01      1980.208   339.48  338.13\n",
              "3  1980-04-01      1980.292   339.87  338.25\n",
              "4  1980-05-01      1980.375   340.30  338.78"
            ],
            "text/html": [
              "\n",
              "  <div id=\"df-098171ed-e37c-4c5b-b6bc-868f88ecabb5\" class=\"colab-df-container\">\n",
              "    <div>\n",
              "<style scoped>\n",
              "    .dataframe tbody tr th:only-of-type {\n",
              "        vertical-align: middle;\n",
              "    }\n",
              "\n",
              "    .dataframe tbody tr th {\n",
              "        vertical-align: top;\n",
              "    }\n",
              "\n",
              "    .dataframe thead th {\n",
              "        text-align: right;\n",
              "    }\n",
              "</style>\n",
              "<table border=\"1\" class=\"dataframe\">\n",
              "  <thead>\n",
              "    <tr style=\"text-align: right;\">\n",
              "      <th></th>\n",
              "      <th>Date</th>\n",
              "      <th>Decimal Date</th>\n",
              "      <th>Average</th>\n",
              "      <th>Trend</th>\n",
              "    </tr>\n",
              "  </thead>\n",
              "  <tbody>\n",
              "    <tr>\n",
              "      <th>0</th>\n",
              "      <td>1980-01-01</td>\n",
              "      <td>1980.042</td>\n",
              "      <td>338.45</td>\n",
              "      <td>337.83</td>\n",
              "    </tr>\n",
              "    <tr>\n",
              "      <th>1</th>\n",
              "      <td>1980-02-01</td>\n",
              "      <td>1980.125</td>\n",
              "      <td>339.15</td>\n",
              "      <td>338.10</td>\n",
              "    </tr>\n",
              "    <tr>\n",
              "      <th>2</th>\n",
              "      <td>1980-03-01</td>\n",
              "      <td>1980.208</td>\n",
              "      <td>339.48</td>\n",
              "      <td>338.13</td>\n",
              "    </tr>\n",
              "    <tr>\n",
              "      <th>3</th>\n",
              "      <td>1980-04-01</td>\n",
              "      <td>1980.292</td>\n",
              "      <td>339.87</td>\n",
              "      <td>338.25</td>\n",
              "    </tr>\n",
              "    <tr>\n",
              "      <th>4</th>\n",
              "      <td>1980-05-01</td>\n",
              "      <td>1980.375</td>\n",
              "      <td>340.30</td>\n",
              "      <td>338.78</td>\n",
              "    </tr>\n",
              "  </tbody>\n",
              "</table>\n",
              "</div>\n",
              "    <div class=\"colab-df-buttons\">\n",
              "\n",
              "  <div class=\"colab-df-container\">\n",
              "    <button class=\"colab-df-convert\" onclick=\"convertToInteractive('df-098171ed-e37c-4c5b-b6bc-868f88ecabb5')\"\n",
              "            title=\"Convert this dataframe to an interactive table.\"\n",
              "            style=\"display:none;\">\n",
              "\n",
              "  <svg xmlns=\"http://www.w3.org/2000/svg\" height=\"24px\" viewBox=\"0 -960 960 960\">\n",
              "    <path d=\"M120-120v-720h720v720H120Zm60-500h600v-160H180v160Zm220 220h160v-160H400v160Zm0 220h160v-160H400v160ZM180-400h160v-160H180v160Zm440 0h160v-160H620v160ZM180-180h160v-160H180v160Zm440 0h160v-160H620v160Z\"/>\n",
              "  </svg>\n",
              "    </button>\n",
              "\n",
              "  <style>\n",
              "    .colab-df-container {\n",
              "      display:flex;\n",
              "      gap: 12px;\n",
              "    }\n",
              "\n",
              "    .colab-df-convert {\n",
              "      background-color: #E8F0FE;\n",
              "      border: none;\n",
              "      border-radius: 50%;\n",
              "      cursor: pointer;\n",
              "      display: none;\n",
              "      fill: #1967D2;\n",
              "      height: 32px;\n",
              "      padding: 0 0 0 0;\n",
              "      width: 32px;\n",
              "    }\n",
              "\n",
              "    .colab-df-convert:hover {\n",
              "      background-color: #E2EBFA;\n",
              "      box-shadow: 0px 1px 2px rgba(60, 64, 67, 0.3), 0px 1px 3px 1px rgba(60, 64, 67, 0.15);\n",
              "      fill: #174EA6;\n",
              "    }\n",
              "\n",
              "    .colab-df-buttons div {\n",
              "      margin-bottom: 4px;\n",
              "    }\n",
              "\n",
              "    [theme=dark] .colab-df-convert {\n",
              "      background-color: #3B4455;\n",
              "      fill: #D2E3FC;\n",
              "    }\n",
              "\n",
              "    [theme=dark] .colab-df-convert:hover {\n",
              "      background-color: #434B5C;\n",
              "      box-shadow: 0px 1px 3px 1px rgba(0, 0, 0, 0.15);\n",
              "      filter: drop-shadow(0px 1px 2px rgba(0, 0, 0, 0.3));\n",
              "      fill: #FFFFFF;\n",
              "    }\n",
              "  </style>\n",
              "\n",
              "    <script>\n",
              "      const buttonEl =\n",
              "        document.querySelector('#df-098171ed-e37c-4c5b-b6bc-868f88ecabb5 button.colab-df-convert');\n",
              "      buttonEl.style.display =\n",
              "        google.colab.kernel.accessAllowed ? 'block' : 'none';\n",
              "\n",
              "      async function convertToInteractive(key) {\n",
              "        const element = document.querySelector('#df-098171ed-e37c-4c5b-b6bc-868f88ecabb5');\n",
              "        const dataTable =\n",
              "          await google.colab.kernel.invokeFunction('convertToInteractive',\n",
              "                                                    [key], {});\n",
              "        if (!dataTable) return;\n",
              "\n",
              "        const docLinkHtml = 'Like what you see? Visit the ' +\n",
              "          '<a target=\"_blank\" href=https://colab.research.google.com/notebooks/data_table.ipynb>data table notebook</a>'\n",
              "          + ' to learn more about interactive tables.';\n",
              "        element.innerHTML = '';\n",
              "        dataTable['output_type'] = 'display_data';\n",
              "        await google.colab.output.renderOutput(dataTable, element);\n",
              "        const docLink = document.createElement('div');\n",
              "        docLink.innerHTML = docLinkHtml;\n",
              "        element.appendChild(docLink);\n",
              "      }\n",
              "    </script>\n",
              "  </div>\n",
              "\n",
              "\n",
              "<div id=\"df-284b0aa0-faaf-4d1c-bb3c-d3f7fdb4a3b0\">\n",
              "  <button class=\"colab-df-quickchart\" onclick=\"quickchart('df-284b0aa0-faaf-4d1c-bb3c-d3f7fdb4a3b0')\"\n",
              "            title=\"Suggest charts.\"\n",
              "            style=\"display:none;\">\n",
              "\n",
              "<svg xmlns=\"http://www.w3.org/2000/svg\" height=\"24px\"viewBox=\"0 0 24 24\"\n",
              "     width=\"24px\">\n",
              "    <g>\n",
              "        <path d=\"M19 3H5c-1.1 0-2 .9-2 2v14c0 1.1.9 2 2 2h14c1.1 0 2-.9 2-2V5c0-1.1-.9-2-2-2zM9 17H7v-7h2v7zm4 0h-2V7h2v10zm4 0h-2v-4h2v4z\"/>\n",
              "    </g>\n",
              "</svg>\n",
              "  </button>\n",
              "\n",
              "<style>\n",
              "  .colab-df-quickchart {\n",
              "      --bg-color: #E8F0FE;\n",
              "      --fill-color: #1967D2;\n",
              "      --hover-bg-color: #E2EBFA;\n",
              "      --hover-fill-color: #174EA6;\n",
              "      --disabled-fill-color: #AAA;\n",
              "      --disabled-bg-color: #DDD;\n",
              "  }\n",
              "\n",
              "  [theme=dark] .colab-df-quickchart {\n",
              "      --bg-color: #3B4455;\n",
              "      --fill-color: #D2E3FC;\n",
              "      --hover-bg-color: #434B5C;\n",
              "      --hover-fill-color: #FFFFFF;\n",
              "      --disabled-bg-color: #3B4455;\n",
              "      --disabled-fill-color: #666;\n",
              "  }\n",
              "\n",
              "  .colab-df-quickchart {\n",
              "    background-color: var(--bg-color);\n",
              "    border: none;\n",
              "    border-radius: 50%;\n",
              "    cursor: pointer;\n",
              "    display: none;\n",
              "    fill: var(--fill-color);\n",
              "    height: 32px;\n",
              "    padding: 0;\n",
              "    width: 32px;\n",
              "  }\n",
              "\n",
              "  .colab-df-quickchart:hover {\n",
              "    background-color: var(--hover-bg-color);\n",
              "    box-shadow: 0 1px 2px rgba(60, 64, 67, 0.3), 0 1px 3px 1px rgba(60, 64, 67, 0.15);\n",
              "    fill: var(--button-hover-fill-color);\n",
              "  }\n",
              "\n",
              "  .colab-df-quickchart-complete:disabled,\n",
              "  .colab-df-quickchart-complete:disabled:hover {\n",
              "    background-color: var(--disabled-bg-color);\n",
              "    fill: var(--disabled-fill-color);\n",
              "    box-shadow: none;\n",
              "  }\n",
              "\n",
              "  .colab-df-spinner {\n",
              "    border: 2px solid var(--fill-color);\n",
              "    border-color: transparent;\n",
              "    border-bottom-color: var(--fill-color);\n",
              "    animation:\n",
              "      spin 1s steps(1) infinite;\n",
              "  }\n",
              "\n",
              "  @keyframes spin {\n",
              "    0% {\n",
              "      border-color: transparent;\n",
              "      border-bottom-color: var(--fill-color);\n",
              "      border-left-color: var(--fill-color);\n",
              "    }\n",
              "    20% {\n",
              "      border-color: transparent;\n",
              "      border-left-color: var(--fill-color);\n",
              "      border-top-color: var(--fill-color);\n",
              "    }\n",
              "    30% {\n",
              "      border-color: transparent;\n",
              "      border-left-color: var(--fill-color);\n",
              "      border-top-color: var(--fill-color);\n",
              "      border-right-color: var(--fill-color);\n",
              "    }\n",
              "    40% {\n",
              "      border-color: transparent;\n",
              "      border-right-color: var(--fill-color);\n",
              "      border-top-color: var(--fill-color);\n",
              "    }\n",
              "    60% {\n",
              "      border-color: transparent;\n",
              "      border-right-color: var(--fill-color);\n",
              "    }\n",
              "    80% {\n",
              "      border-color: transparent;\n",
              "      border-right-color: var(--fill-color);\n",
              "      border-bottom-color: var(--fill-color);\n",
              "    }\n",
              "    90% {\n",
              "      border-color: transparent;\n",
              "      border-bottom-color: var(--fill-color);\n",
              "    }\n",
              "  }\n",
              "</style>\n",
              "\n",
              "  <script>\n",
              "    async function quickchart(key) {\n",
              "      const quickchartButtonEl =\n",
              "        document.querySelector('#' + key + ' button');\n",
              "      quickchartButtonEl.disabled = true;  // To prevent multiple clicks.\n",
              "      quickchartButtonEl.classList.add('colab-df-spinner');\n",
              "      try {\n",
              "        const charts = await google.colab.kernel.invokeFunction(\n",
              "            'suggestCharts', [key], {});\n",
              "      } catch (error) {\n",
              "        console.error('Error during call to suggestCharts:', error);\n",
              "      }\n",
              "      quickchartButtonEl.classList.remove('colab-df-spinner');\n",
              "      quickchartButtonEl.classList.add('colab-df-quickchart-complete');\n",
              "    }\n",
              "    (() => {\n",
              "      let quickchartButtonEl =\n",
              "        document.querySelector('#df-284b0aa0-faaf-4d1c-bb3c-d3f7fdb4a3b0 button');\n",
              "      quickchartButtonEl.style.display =\n",
              "        google.colab.kernel.accessAllowed ? 'block' : 'none';\n",
              "    })();\n",
              "  </script>\n",
              "</div>\n",
              "    </div>\n",
              "  </div>\n"
            ]
          },
          "metadata": {},
          "execution_count": 2
        }
      ],
      "source": [
        "# Section 4.3\n",
        "\n",
        "import pandas as pd\n",
        "import requests\n",
        "import os\n",
        "\n",
        "def download_data():\n",
        "    \"\"\" This function downloads the CO2 data from\n",
        "    https://datahub.io/core/co2-ppm/r/co2-mm-gl.csv\n",
        "    if the file doesn't already exist\n",
        "    \"\"\"\n",
        "    save_dir = \"data\"\n",
        "    save_path = os.path.join(save_dir, 'co2-mm-gl.csv')\n",
        "\n",
        "    # Create directories if they are not there\n",
        "    if not os.path.exists(save_dir):\n",
        "        os.makedirs(save_dir)\n",
        "\n",
        "    # Download the data and save\n",
        "    if not os.path.exists(save_path):\n",
        "        url = \"https://datahub.io/core/co2-ppm/r/co2-mm-gl.csv\"\n",
        "        r = requests.get(url)\n",
        "        with open(save_path, 'wb') as f:\n",
        "            f.write(r.content)\n",
        "    else:\n",
        "        print(\"co2-mm-gl.csv already exists. Not downloading.\")\n",
        "    return save_path\n",
        "\n",
        "# Downloading the data\n",
        "save_path = download_data()\n",
        "\n",
        "# Load the data\n",
        "data = pd.read_csv(save_path)\n",
        "data.head()"
      ]
    },
    {
      "cell_type": "code",
      "execution_count": 3,
      "metadata": {
        "id": "NGtAYxuneQ5Q"
      },
      "outputs": [],
      "source": [
        "# Section 4.3\n",
        "\n",
        "# Set the date as the index of the dataframe\n",
        "data = data.set_index('Date')"
      ]
    },
    {
      "cell_type": "markdown",
      "metadata": {
        "id": "ODrmYCixeQ5Q"
      },
      "source": [
        "## Plotting CO2 concentration over time"
      ]
    },
    {
      "cell_type": "code",
      "execution_count": 4,
      "metadata": {
        "colab": {
          "base_uri": "https://localhost:8080/",
          "height": 560
        },
        "id": "_Z3EvulNeQ5Q",
        "outputId": "38bd2f5b-989f-4077-8052-5df9df9ded55"
      },
      "outputs": [
        {
          "output_type": "execute_result",
          "data": {
            "text/plain": [
              "<Axes: xlabel='Date'>"
            ]
          },
          "metadata": {},
          "execution_count": 4
        },
        {
          "output_type": "display_data",
          "data": {
            "text/plain": [
              "<Figure size 1200x600 with 1 Axes>"
            ],
            "image/png": "[encoded data removed]"
          },
          "metadata": {}
        }
      ],
      "source": [
        "# Section 4.3\n",
        "\n",
        "# Plotting the CO2 trend\n",
        "data[[\"Average\"]].plot(figsize=(12,6))"
      ]
    },
    {
      "cell_type": "markdown",
      "metadata": {
        "id": "qDBByFi7eQ5R"
      },
      "source": [
        "## Creating the `Average Diff` column\n",
        "\n",
        "`Average Diff` is computed as,\n",
        "\n",
        "`Average Diff(t) = Average(t) - Average(t-1)`"
      ]
    },
    {
      "cell_type": "code",
      "execution_count": 5,
      "metadata": {
        "colab": {
          "base_uri": "https://localhost:8080/",
          "height": 237
        },
        "id": "toB2P_90eQ5R",
        "outputId": "9d82c5ad-4966-482e-9bd0-b2a35215c7ee"
      },
      "outputs": [
        {
          "output_type": "execute_result",
          "data": {
            "text/plain": [
              "            Decimal Date  Average   Trend  Average Diff\n",
              "Date                                                   \n",
              "1980-01-01      1980.042   338.45  337.83          0.00\n",
              "1980-02-01      1980.125   339.15  338.10          0.70\n",
              "1980-03-01      1980.208   339.48  338.13          0.33\n",
              "1980-04-01      1980.292   339.87  338.25          0.39\n",
              "1980-05-01      1980.375   340.30  338.78          0.43"
            ],
            "text/html": [
              "\n",
              "  <div id=\"df-5fd6f744-219d-4192-9426-0125b9b77740\" class=\"colab-df-container\">\n",
              "    <div>\n",
              "<style scoped>\n",
              "    .dataframe tbody tr th:only-of-type {\n",
              "        vertical-align: middle;\n",
              "    }\n",
              "\n",
              "    .dataframe tbody tr th {\n",
              "        vertical-align: top;\n",
              "    }\n",
              "\n",
              "    .dataframe thead th {\n",
              "        text-align: right;\n",
              "    }\n",
              "</style>\n",
              "<table border=\"1\" class=\"dataframe\">\n",
              "  <thead>\n",
              "    <tr style=\"text-align: right;\">\n",
              "      <th></th>\n",
              "      <th>Decimal Date</th>\n",
              "      <th>Average</th>\n",
              "      <th>Trend</th>\n",
              "      <th>Average Diff</th>\n",
              "    </tr>\n",
              "    <tr>\n",
              "      <th>Date</th>\n",
              "      <th></th>\n",
              "      <th></th>\n",
              "      <th></th>\n",
              "      <th></th>\n",
              "    </tr>\n",
              "  </thead>\n",
              "  <tbody>\n",
              "    <tr>\n",
              "      <th>1980-01-01</th>\n",
              "      <td>1980.042</td>\n",
              "      <td>338.45</td>\n",
              "      <td>337.83</td>\n",
              "      <td>0.00</td>\n",
              "    </tr>\n",
              "    <tr>\n",
              "      <th>1980-02-01</th>\n",
              "      <td>1980.125</td>\n",
              "      <td>339.15</td>\n",
              "      <td>338.10</td>\n",
              "      <td>0.70</td>\n",
              "    </tr>\n",
              "    <tr>\n",
              "      <th>1980-03-01</th>\n",
              "      <td>1980.208</td>\n",
              "      <td>339.48</td>\n",
              "      <td>338.13</td>\n",
              "      <td>0.33</td>\n",
              "    </tr>\n",
              "    <tr>\n",
              "      <th>1980-04-01</th>\n",
              "      <td>1980.292</td>\n",
              "      <td>339.87</td>\n",
              "      <td>338.25</td>\n",
              "      <td>0.39</td>\n",
              "    </tr>\n",
              "    <tr>\n",
              "      <th>1980-05-01</th>\n",
              "      <td>1980.375</td>\n",
              "      <td>340.30</td>\n",
              "      <td>338.78</td>\n",
              "      <td>0.43</td>\n",
              "    </tr>\n",
              "  </tbody>\n",
              "</table>\n",
              "</div>\n",
              "    <div class=\"colab-df-buttons\">\n",
              "\n",
              "  <div class=\"colab-df-container\">\n",
              "    <button class=\"colab-df-convert\" onclick=\"convertToInteractive('df-5fd6f744-219d-4192-9426-0125b9b77740')\"\n",
              "            title=\"Convert this dataframe to an interactive table.\"\n",
              "            style=\"display:none;\">\n",
              "\n",
              "  <svg xmlns=\"http://www.w3.org/2000/svg\" height=\"24px\" viewBox=\"0 -960 960 960\">\n",
              "    <path d=\"M120-120v-720h720v720H120Zm60-500h600v-160H180v160Zm220 220h160v-160H400v160Zm0 220h160v-160H400v160ZM180-400h160v-160H180v160Zm440 0h160v-160H620v160ZM180-180h160v-160H180v160Zm440 0h160v-160H620v160Z\"/>\n",
              "  </svg>\n",
              "    </button>\n",
              "\n",
              "  <style>\n",
              "    .colab-df-container {\n",
              "      display:flex;\n",
              "      gap: 12px;\n",
              "    }\n",
              "\n",
              "    .colab-df-convert {\n",
              "      background-color: #E8F0FE;\n",
              "      border: none;\n",
              "      border-radius: 50%;\n",
              "      cursor: pointer;\n",
              "      display: none;\n",
              "      fill: #1967D2;\n",
              "      height: 32px;\n",
              "      padding: 0 0 0 0;\n",
              "      width: 32px;\n",
              "    }\n",
              "\n",
              "    .colab-df-convert:hover {\n",
              "      background-color: #E2EBFA;\n",
              "      box-shadow: 0px 1px 2px rgba(60, 64, 67, 0.3), 0px 1px 3px 1px rgba(60, 64, 67, 0.15);\n",
              "      fill: #174EA6;\n",
              "    }\n",
              "\n",
              "    .colab-df-buttons div {\n",
              "      margin-bottom: 4px;\n",
              "    }\n",
              "\n",
              "    [theme=dark] .colab-df-convert {\n",
              "      background-color: #3B4455;\n",
              "      fill: #D2E3FC;\n",
              "    }\n",
              "\n",
              "    [theme=dark] .colab-df-convert:hover {\n",
              "      background-color: #434B5C;\n",
              "      box-shadow: 0px 1px 3px 1px rgba(0, 0, 0, 0.15);\n",
              "      filter: drop-shadow(0px 1px 2px rgba(0, 0, 0, 0.3));\n",
              "      fill: #FFFFFF;\n",
              "    }\n",
              "  </style>\n",
              "\n",
              "    <script>\n",
              "      const buttonEl =\n",
              "        document.querySelector('#df-5fd6f744-219d-4192-9426-0125b9b77740 button.colab-df-convert');\n",
              "      buttonEl.style.display =\n",
              "        google.colab.kernel.accessAllowed ? 'block' : 'none';\n",
              "\n",
              "      async function convertToInteractive(key) {\n",
              "        const element = document.querySelector('#df-5fd6f744-219d-4192-9426-0125b9b77740');\n",
              "        const dataTable =\n",
              "          await google.colab.kernel.invokeFunction('convertToInteractive',\n",
              "                                                    [key], {});\n",
              "        if (!dataTable) return;\n",
              "\n",
              "        const docLinkHtml = 'Like what you see? Visit the ' +\n",
              "          '<a target=\"_blank\" href=https://colab.research.google.com/notebooks/data_table.ipynb>data table notebook</a>'\n",
              "          + ' to learn more about interactive tables.';\n",
              "        element.innerHTML = '';\n",
              "        dataTable['output_type'] = 'display_data';\n",
              "        await google.colab.output.renderOutput(dataTable, element);\n",
              "        const docLink = document.createElement('div');\n",
              "        docLink.innerHTML = docLinkHtml;\n",
              "        element.appendChild(docLink);\n",
              "      }\n",
              "    </script>\n",
              "  </div>\n",
              "\n",
              "\n",
              "<div id=\"df-9a13782a-1bad-406f-9e95-ab5b65c86b04\">\n",
              "  <button class=\"colab-df-quickchart\" onclick=\"quickchart('df-9a13782a-1bad-406f-9e95-ab5b65c86b04')\"\n",
              "            title=\"Suggest charts.\"\n",
              "            style=\"display:none;\">\n",
              "\n",
              "<svg xmlns=\"http://www.w3.org/2000/svg\" height=\"24px\"viewBox=\"0 0 24 24\"\n",
              "     width=\"24px\">\n",
              "    <g>\n",
              "        <path d=\"M19 3H5c-1.1 0-2 .9-2 2v14c0 1.1.9 2 2 2h14c1.1 0 2-.9 2-2V5c0-1.1-.9-2-2-2zM9 17H7v-7h2v7zm4 0h-2V7h2v10zm4 0h-2v-4h2v4z\"/>\n",
              "    </g>\n",
              "</svg>\n",
              "  </button>\n",
              "\n",
              "<style>\n",
              "  .colab-df-quickchart {\n",
              "      --bg-color: #E8F0FE;\n",
              "      --fill-color: #1967D2;\n",
              "      --hover-bg-color: #E2EBFA;\n",
              "      --hover-fill-color: #174EA6;\n",
              "      --disabled-fill-color: #AAA;\n",
              "      --disabled-bg-color: #DDD;\n",
              "  }\n",
              "\n",
              "  [theme=dark] .colab-df-quickchart {\n",
              "      --bg-color: #3B4455;\n",
              "      --fill-color: #D2E3FC;\n",
              "      --hover-bg-color: #434B5C;\n",
              "      --hover-fill-color: #FFFFFF;\n",
              "      --disabled-bg-color: #3B4455;\n",
              "      --disabled-fill-color: #666;\n",
              "  }\n",
              "\n",
              "  .colab-df-quickchart {\n",
              "    background-color: var(--bg-color);\n",
              "    border: none;\n",
              "    border-radius: 50%;\n",
              "    cursor: pointer;\n",
              "    display: none;\n",
              "    fill: var(--fill-color);\n",
              "    height: 32px;\n",
              "    padding: 0;\n",
              "    width: 32px;\n",
              "  }\n",
              "\n",
              "  .colab-df-quickchart:hover {\n",
              "    background-color: var(--hover-bg-color);\n",
              "    box-shadow: 0 1px 2px rgba(60, 64, 67, 0.3), 0 1px 3px 1px rgba(60, 64, 67, 0.15);\n",
              "    fill: var(--button-hover-fill-color);\n",
              "  }\n",
              "\n",
              "  .colab-df-quickchart-complete:disabled,\n",
              "  .colab-df-quickchart-complete:disabled:hover {\n",
              "    background-color: var(--disabled-bg-color);\n",
              "    fill: var(--disabled-fill-color);\n",
              "    box-shadow: none;\n",
              "  }\n",
              "\n",
              "  .colab-df-spinner {\n",
              "    border: 2px solid var(--fill-color);\n",
              "    border-color: transparent;\n",
              "    border-bottom-color: var(--fill-color);\n",
              "    animation:\n",
              "      spin 1s steps(1) infinite;\n",
              "  }\n",
              "\n",
              "  @keyframes spin {\n",
              "    0% {\n",
              "      border-color: transparent;\n",
              "      border-bottom-color: var(--fill-color);\n",
              "      border-left-color: var(--fill-color);\n",
              "    }\n",
              "    20% {\n",
              "      border-color: transparent;\n",
              "      border-left-color: var(--fill-color);\n",
              "      border-top-color: var(--fill-color);\n",
              "    }\n",
              "    30% {\n",
              "      border-color: transparent;\n",
              "      border-left-color: var(--fill-color);\n",
              "      border-top-color: var(--fill-color);\n",
              "      border-right-color: var(--fill-color);\n",
              "    }\n",
              "    40% {\n",
              "      border-color: transparent;\n",
              "      border-right-color: var(--fill-color);\n",
              "      border-top-color: var(--fill-color);\n",
              "    }\n",
              "    60% {\n",
              "      border-color: transparent;\n",
              "      border-right-color: var(--fill-color);\n",
              "    }\n",
              "    80% {\n",
              "      border-color: transparent;\n",
              "      border-right-color: var(--fill-color);\n",
              "      border-bottom-color: var(--fill-color);\n",
              "    }\n",
              "    90% {\n",
              "      border-color: transparent;\n",
              "      border-bottom-color: var(--fill-color);\n",
              "    }\n",
              "  }\n",
              "</style>\n",
              "\n",
              "  <script>\n",
              "    async function quickchart(key) {\n",
              "      const quickchartButtonEl =\n",
              "        document.querySelector('#' + key + ' button');\n",
              "      quickchartButtonEl.disabled = true;  // To prevent multiple clicks.\n",
              "      quickchartButtonEl.classList.add('colab-df-spinner');\n",
              "      try {\n",
              "        const charts = await google.colab.kernel.invokeFunction(\n",
              "            'suggestCharts', [key], {});\n",
              "      } catch (error) {\n",
              "        console.error('Error during call to suggestCharts:', error);\n",
              "      }\n",
              "      quickchartButtonEl.classList.remove('colab-df-spinner');\n",
              "      quickchartButtonEl.classList.add('colab-df-quickchart-complete');\n",
              "    }\n",
              "    (() => {\n",
              "      let quickchartButtonEl =\n",
              "        document.querySelector('#df-9a13782a-1bad-406f-9e95-ab5b65c86b04 button');\n",
              "      quickchartButtonEl.style.display =\n",
              "        google.colab.kernel.accessAllowed ? 'block' : 'none';\n",
              "    })();\n",
              "  </script>\n",
              "</div>\n",
              "    </div>\n",
              "  </div>\n"
            ]
          },
          "metadata": {},
          "execution_count": 5
        }
      ],
      "source": [
        "# Section 4.3\n",
        "\n",
        "data[\"Average Diff\"] = data[\"Average\"] - data[\"Average\"].shift(1).fillna(method='bfill')\n",
        "data.head()"
      ]
    },
    {
      "cell_type": "code",
      "source": [
        "data"
      ],
      "metadata": {
        "colab": {
          "base_uri": "https://localhost:8080/",
          "height": 455
        },
        "id": "e3cDl_HUn2_P",
        "outputId": "4ef42ec6-105d-450b-dade-3dcc5dca06ac"
      },
      "execution_count": 24,
      "outputs": [
        {
          "output_type": "execute_result",
          "data": {
            "text/plain": [
              "            Decimal Date  Average   Trend  Average Diff\n",
              "Date                                                   \n",
              "1980-01-01      1980.042   338.45  337.83          0.00\n",
              "1980-02-01      1980.125   339.15  338.10          0.70\n",
              "1980-03-01      1980.208   339.48  338.13          0.33\n",
              "1980-04-01      1980.292   339.87  338.25          0.39\n",
              "1980-05-01      1980.375   340.30  338.78          0.43\n",
              "...                  ...      ...     ...           ...\n",
              "2018-03-01      2018.208   408.57  406.92          0.58\n",
              "2018-04-01      2018.292   408.88  407.06          0.31\n",
              "2018-05-01      2018.375   408.75  407.14         -0.13\n",
              "2018-06-01      2018.458   407.86  407.34         -0.89\n",
              "2018-07-01      2018.542   406.39  407.74         -1.47\n",
              "\n",
              "[463 rows x 4 columns]"
            ],
            "text/html": [
              "\n",
              "  <div id=\"df-3b0a95c2-0f1a-40ac-8eaf-e4a8bd13d8b7\" class=\"colab-df-container\">\n",
              "    <div>\n",
              "<style scoped>\n",
              "    .dataframe tbody tr th:only-of-type {\n",
              "        vertical-align: middle;\n",
              "    }\n",
              "\n",
              "    .dataframe tbody tr th {\n",
              "        vertical-align: top;\n",
              "    }\n",
              "\n",
              "    .dataframe thead th {\n",
              "        text-align: right;\n",
              "    }\n",
              "</style>\n",
              "<table border=\"1\" class=\"dataframe\">\n",
              "  <thead>\n",
              "    <tr style=\"text-align: right;\">\n",
              "      <th></th>\n",
              "      <th>Decimal Date</th>\n",
              "      <th>Average</th>\n",
              "      <th>Trend</th>\n",
              "      <th>Average Diff</th>\n",
              "    </tr>\n",
              "    <tr>\n",
              "      <th>Date</th>\n",
              "      <th></th>\n",
              "      <th></th>\n",
              "      <th></th>\n",
              "      <th></th>\n",
              "    </tr>\n",
              "  </thead>\n",
              "  <tbody>\n",
              "    <tr>\n",
              "      <th>1980-01-01</th>\n",
              "      <td>1980.042</td>\n",
              "      <td>338.45</td>\n",
              "      <td>337.83</td>\n",
              "      <td>0.00</td>\n",
              "    </tr>\n",
              "    <tr>\n",
              "      <th>1980-02-01</th>\n",
              "      <td>1980.125</td>\n",
              "      <td>339.15</td>\n",
              "      <td>338.10</td>\n",
              "      <td>0.70</td>\n",
              "    </tr>\n",
              "    <tr>\n",
              "      <th>1980-03-01</th>\n",
              "      <td>1980.208</td>\n",
              "      <td>339.48</td>\n",
              "      <td>338.13</td>\n",
              "      <td>0.33</td>\n",
              "    </tr>\n",
              "    <tr>\n",
              "      <th>1980-04-01</th>\n",
              "      <td>1980.292</td>\n",
              "      <td>339.87</td>\n",
              "      <td>338.25</td>\n",
              "      <td>0.39</td>\n",
              "    </tr>\n",
              "    <tr>\n",
              "      <th>1980-05-01</th>\n",
              "      <td>1980.375</td>\n",
              "      <td>340.30</td>\n",
              "      <td>338.78</td>\n",
              "      <td>0.43</td>\n",
              "    </tr>\n",
              "    <tr>\n",
              "      <th>...</th>\n",
              "      <td>...</td>\n",
              "      <td>...</td>\n",
              "      <td>...</td>\n",
              "      <td>...</td>\n",
              "    </tr>\n",
              "    <tr>\n",
              "      <th>2018-03-01</th>\n",
              "      <td>2018.208</td>\n",
              "      <td>408.57</td>\n",
              "      <td>406.92</td>\n",
              "      <td>0.58</td>\n",
              "    </tr>\n",
              "    <tr>\n",
              "      <th>2018-04-01</th>\n",
              "      <td>2018.292</td>\n",
              "      <td>408.88</td>\n",
              "      <td>407.06</td>\n",
              "      <td>0.31</td>\n",
              "    </tr>\n",
              "    <tr>\n",
              "      <th>2018-05-01</th>\n",
              "      <td>2018.375</td>\n",
              "      <td>408.75</td>\n",
              "      <td>407.14</td>\n",
              "      <td>-0.13</td>\n",
              "    </tr>\n",
              "    <tr>\n",
              "      <th>2018-06-01</th>\n",
              "      <td>2018.458</td>\n",
              "      <td>407.86</td>\n",
              "      <td>407.34</td>\n",
              "      <td>-0.89</td>\n",
              "    </tr>\n",
              "    <tr>\n",
              "      <th>2018-07-01</th>\n",
              "      <td>2018.542</td>\n",
              "      <td>406.39</td>\n",
              "      <td>407.74</td>\n",
              "      <td>-1.47</td>\n",
              "    </tr>\n",
              "  </tbody>\n",
              "</table>\n",
              "<p>463 rows × 4 columns</p>\n",
              "</div>\n",
              "    <div class=\"colab-df-buttons\">\n",
              "\n",
              "  <div class=\"colab-df-container\">\n",
              "    <button class=\"colab-df-convert\" onclick=\"convertToInteractive('df-3b0a95c2-0f1a-40ac-8eaf-e4a8bd13d8b7')\"\n",
              "            title=\"Convert this dataframe to an interactive table.\"\n",
              "            style=\"display:none;\">\n",
              "\n",
              "  <svg xmlns=\"http://www.w3.org/2000/svg\" height=\"24px\" viewBox=\"0 -960 960 960\">\n",
              "    <path d=\"M120-120v-720h720v720H120Zm60-500h600v-160H180v160Zm220 220h160v-160H400v160Zm0 220h160v-160H400v160ZM180-400h160v-160H180v160Zm440 0h160v-160H620v160ZM180-180h160v-160H180v160Zm440 0h160v-160H620v160Z\"/>\n",
              "  </svg>\n",
              "    </button>\n",
              "\n",
              "  <style>\n",
              "    .colab-df-container {\n",
              "      display:flex;\n",
              "      gap: 12px;\n",
              "    }\n",
              "\n",
              "    .colab-df-convert {\n",
              "      background-color: #E8F0FE;\n",
              "      border: none;\n",
              "      border-radius: 50%;\n",
              "      cursor: pointer;\n",
              "      display: none;\n",
              "      fill: #1967D2;\n",
              "      height: 32px;\n",
              "      padding: 0 0 0 0;\n",
              "      width: 32px;\n",
              "    }\n",
              "\n",
              "    .colab-df-convert:hover {\n",
              "      background-color: #E2EBFA;\n",
              "      box-shadow: 0px 1px 2px rgba(60, 64, 67, 0.3), 0px 1px 3px 1px rgba(60, 64, 67, 0.15);\n",
              "      fill: #174EA6;\n",
              "    }\n",
              "\n",
              "    .colab-df-buttons div {\n",
              "      margin-bottom: 4px;\n",
              "    }\n",
              "\n",
              "    [theme=dark] .colab-df-convert {\n",
              "      background-color: #3B4455;\n",
              "      fill: #D2E3FC;\n",
              "    }\n",
              "\n",
              "    [theme=dark] .colab-df-convert:hover {\n",
              "      background-color: #434B5C;\n",
              "      box-shadow: 0px 1px 3px 1px rgba(0, 0, 0, 0.15);\n",
              "      filter: drop-shadow(0px 1px 2px rgba(0, 0, 0, 0.3));\n",
              "      fill: #FFFFFF;\n",
              "    }\n",
              "  </style>\n",
              "\n",
              "    <script>\n",
              "      const buttonEl =\n",
              "        document.querySelector('#df-3b0a95c2-0f1a-40ac-8eaf-e4a8bd13d8b7 button.colab-df-convert');\n",
              "      buttonEl.style.display =\n",
              "        google.colab.kernel.accessAllowed ? 'block' : 'none';\n",
              "\n",
              "      async function convertToInteractive(key) {\n",
              "        const element = document.querySelector('#df-3b0a95c2-0f1a-40ac-8eaf-e4a8bd13d8b7');\n",
              "        const dataTable =\n",
              "          await google.colab.kernel.invokeFunction('convertToInteractive',\n",
              "                                                    [key], {});\n",
              "        if (!dataTable) return;\n",
              "\n",
              "        const docLinkHtml = 'Like what you see? Visit the ' +\n",
              "          '<a target=\"_blank\" href=https://colab.research.google.com/notebooks/data_table.ipynb>data table notebook</a>'\n",
              "          + ' to learn more about interactive tables.';\n",
              "        element.innerHTML = '';\n",
              "        dataTable['output_type'] = 'display_data';\n",
              "        await google.colab.output.renderOutput(dataTable, element);\n",
              "        const docLink = document.createElement('div');\n",
              "        docLink.innerHTML = docLinkHtml;\n",
              "        element.appendChild(docLink);\n",
              "      }\n",
              "    </script>\n",
              "  </div>\n",
              "\n",
              "\n",
              "<div id=\"df-5fc9c764-772d-4a03-aebc-0ead9fa48621\">\n",
              "  <button class=\"colab-df-quickchart\" onclick=\"quickchart('df-5fc9c764-772d-4a03-aebc-0ead9fa48621')\"\n",
              "            title=\"Suggest charts.\"\n",
              "            style=\"display:none;\">\n",
              "\n",
              "<svg xmlns=\"http://www.w3.org/2000/svg\" height=\"24px\"viewBox=\"0 0 24 24\"\n",
              "     width=\"24px\">\n",
              "    <g>\n",
              "        <path d=\"M19 3H5c-1.1 0-2 .9-2 2v14c0 1.1.9 2 2 2h14c1.1 0 2-.9 2-2V5c0-1.1-.9-2-2-2zM9 17H7v-7h2v7zm4 0h-2V7h2v10zm4 0h-2v-4h2v4z\"/>\n",
              "    </g>\n",
              "</svg>\n",
              "  </button>\n",
              "\n",
              "<style>\n",
              "  .colab-df-quickchart {\n",
              "      --bg-color: #E8F0FE;\n",
              "      --fill-color: #1967D2;\n",
              "      --hover-bg-color: #E2EBFA;\n",
              "      --hover-fill-color: #174EA6;\n",
              "      --disabled-fill-color: #AAA;\n",
              "      --disabled-bg-color: #DDD;\n",
              "  }\n",
              "\n",
              "  [theme=dark] .colab-df-quickchart {\n",
              "      --bg-color: #3B4455;\n",
              "      --fill-color: #D2E3FC;\n",
              "      --hover-bg-color: #434B5C;\n",
              "      --hover-fill-color: #FFFFFF;\n",
              "      --disabled-bg-color: #3B4455;\n",
              "      --disabled-fill-color: #666;\n",
              "  }\n",
              "\n",
              "  .colab-df-quickchart {\n",
              "    background-color: var(--bg-color);\n",
              "    border: none;\n",
              "    border-radius: 50%;\n",
              "    cursor: pointer;\n",
              "    display: none;\n",
              "    fill: var(--fill-color);\n",
              "    height: 32px;\n",
              "    padding: 0;\n",
              "    width: 32px;\n",
              "  }\n",
              "\n",
              "  .colab-df-quickchart:hover {\n",
              "    background-color: var(--hover-bg-color);\n",
              "    box-shadow: 0 1px 2px rgba(60, 64, 67, 0.3), 0 1px 3px 1px rgba(60, 64, 67, 0.15);\n",
              "    fill: var(--button-hover-fill-color);\n",
              "  }\n",
              "\n",
              "  .colab-df-quickchart-complete:disabled,\n",
              "  .colab-df-quickchart-complete:disabled:hover {\n",
              "    background-color: var(--disabled-bg-color);\n",
              "    fill: var(--disabled-fill-color);\n",
              "    box-shadow: none;\n",
              "  }\n",
              "\n",
              "  .colab-df-spinner {\n",
              "    border: 2px solid var(--fill-color);\n",
              "    border-color: transparent;\n",
              "    border-bottom-color: var(--fill-color);\n",
              "    animation:\n",
              "      spin 1s steps(1) infinite;\n",
              "  }\n",
              "\n",
              "  @keyframes spin {\n",
              "    0% {\n",
              "      border-color: transparent;\n",
              "      border-bottom-color: var(--fill-color);\n",
              "      border-left-color: var(--fill-color);\n",
              "    }\n",
              "    20% {\n",
              "      border-color: transparent;\n",
              "      border-left-color: var(--fill-color);\n",
              "      border-top-color: var(--fill-color);\n",
              "    }\n",
              "    30% {\n",
              "      border-color: transparent;\n",
              "      border-left-color: var(--fill-color);\n",
              "      border-top-color: var(--fill-color);\n",
              "      border-right-color: var(--fill-color);\n",
              "    }\n",
              "    40% {\n",
              "      border-color: transparent;\n",
              "      border-right-color: var(--fill-color);\n",
              "      border-top-color: var(--fill-color);\n",
              "    }\n",
              "    60% {\n",
              "      border-color: transparent;\n",
              "      border-right-color: var(--fill-color);\n",
              "    }\n",
              "    80% {\n",
              "      border-color: transparent;\n",
              "      border-right-color: var(--fill-color);\n",
              "      border-bottom-color: var(--fill-color);\n",
              "    }\n",
              "    90% {\n",
              "      border-color: transparent;\n",
              "      border-bottom-color: var(--fill-color);\n",
              "    }\n",
              "  }\n",
              "</style>\n",
              "\n",
              "  <script>\n",
              "    async function quickchart(key) {\n",
              "      const quickchartButtonEl =\n",
              "        document.querySelector('#' + key + ' button');\n",
              "      quickchartButtonEl.disabled = true;  // To prevent multiple clicks.\n",
              "      quickchartButtonEl.classList.add('colab-df-spinner');\n",
              "      try {\n",
              "        const charts = await google.colab.kernel.invokeFunction(\n",
              "            'suggestCharts', [key], {});\n",
              "      } catch (error) {\n",
              "        console.error('Error during call to suggestCharts:', error);\n",
              "      }\n",
              "      quickchartButtonEl.classList.remove('colab-df-spinner');\n",
              "      quickchartButtonEl.classList.add('colab-df-quickchart-complete');\n",
              "    }\n",
              "    (() => {\n",
              "      let quickchartButtonEl =\n",
              "        document.querySelector('#df-5fc9c764-772d-4a03-aebc-0ead9fa48621 button');\n",
              "      quickchartButtonEl.style.display =\n",
              "        google.colab.kernel.accessAllowed ? 'block' : 'none';\n",
              "    })();\n",
              "  </script>\n",
              "</div>\n",
              "    </div>\n",
              "  </div>\n"
            ]
          },
          "metadata": {},
          "execution_count": 24
        }
      ]
    },
    {
      "cell_type": "code",
      "execution_count": 6,
      "metadata": {
        "colab": {
          "base_uri": "https://localhost:8080/",
          "height": 560
        },
        "id": "I8maxhUxeQ5R",
        "outputId": "05c4e68f-97f7-4d6b-aa0f-7187c28337b9"
      },
      "outputs": [
        {
          "output_type": "execute_result",
          "data": {
            "text/plain": [
              "<Axes: xlabel='Date'>"
            ]
          },
          "metadata": {},
          "execution_count": 6
        },
        {
          "output_type": "display_data",
          "data": {
            "text/plain": [
              "<Figure size 1200x600 with 1 Axes>"
            ],
            "image/png": "[encoded data removed]"
          },
          "metadata": {}
        }
      ],
      "source": [
        "# Section 4.3\n",
        "\n",
        "data[\"Average Diff\"].plot(figsize=(12,6))"
      ]
    },
    {
      "cell_type": "markdown",
      "metadata": {
        "id": "N9-TfR7zeQ5S"
      },
      "source": [
        "## Generating time-series data for the model"
      ]
    },
    {
      "cell_type": "code",
      "source": [
        "data[\"Average Diff\"].values.shape"
      ],
      "metadata": {
        "colab": {
          "base_uri": "https://localhost:8080/"
        },
        "id": "ya-215mYhpmY",
        "outputId": "45e81450-bfbc-4a2c-de27-fa99991e9c97"
      },
      "execution_count": 7,
      "outputs": [
        {
          "output_type": "execute_result",
          "data": {
            "text/plain": [
              "(463,)"
            ]
          },
          "metadata": {},
          "execution_count": 7
        }
      ]
    },
    {
      "cell_type": "code",
      "execution_count": 9,
      "metadata": {
        "colab": {
          "base_uri": "https://localhost:8080/"
        },
        "id": "_KC2s2obeQ5S",
        "outputId": "dcb5a7fe-68f8-4b4a-acc1-1333ebaa2c23"
      },
      "outputs": [
        {
          "output_type": "stream",
          "name": "stdout",
          "text": [
            "Original values:  [ 0.    0.7   0.33  0.39  0.43 -0.44 -1.52 -1.21 -0.18  0.77  1.11  0.71\n",
            "  0.55  0.56  0.63  0.29 -0.27 -0.81 -1.39 -1.14]\n",
            "\n",
            "x:  [ 0.    0.7   0.33  0.39  0.43 -0.44 -1.52 -1.21 -0.18  0.77  1.11  0.71]  y:  [0.55]\n",
            "x:  [ 0.7   0.33  0.39  0.43 -0.44 -1.52 -1.21 -0.18  0.77  1.11  0.71  0.55]  y:  [0.56]\n",
            "x:  [ 0.33  0.39  0.43 -0.44 -1.52 -1.21 -0.18  0.77  1.11  0.71  0.55  0.56]  y:  [0.63]\n",
            "x:  [ 0.39  0.43 -0.44 -1.52 -1.21 -0.18  0.77  1.11  0.71  0.55  0.56  0.63]  y:  [0.29]\n",
            "x:  [ 0.43 -0.44 -1.52 -1.21 -0.18  0.77  1.11  0.71  0.55  0.56  0.63  0.29]  y:  [-0.27]\n",
            "x:  [-0.44 -1.52 -1.21 -0.18  0.77  1.11  0.71  0.55  0.56  0.63  0.29 -0.27]  y:  [-0.81]\n"
          ]
        }
      ],
      "source": [
        "# Section 4.3\n",
        "# Code listing 4.4/Code listing 4.5\n",
        "\n",
        "import numpy as np\n",
        "\n",
        "def generate_data(co2_arr,n_seq):\n",
        "    \"\"\" Generating data for the model.\n",
        "    Input is a matrix of size (n x n_seq) and\n",
        "    Output is a vector of size n. \"\"\"\n",
        "\n",
        "    x, y = [],[]\n",
        "    for i in range(co2_arr.shape[0]-n_seq):\n",
        "        x.append(co2_arr[i:i+n_seq-1])\n",
        "        y.append(co2_arr[i+n_seq-1:i+n_seq])\n",
        "    x = np.array(x).reshape(-1,n_seq-1,1)\n",
        "    y = np.array(y)\n",
        "    return x,y\n",
        "\n",
        "# Generating the data\n",
        "x, y = generate_data(data[\"Average Diff\"].values, 13)\n",
        "\n",
        "# Let's print some data and see what we got\n",
        "print(\"Original values: \", data[\"Average Diff\"].values[:20])\n",
        "print()\n",
        "i = 0\n",
        "for xx, yy in zip(x,y):\n",
        "    print('x: ',xx.ravel(), ' y: ', yy.ravel())\n",
        "    i += 1\n",
        "    if i>5: break"
      ]
    },
    {
      "cell_type": "code",
      "source": [
        "y.shape"
      ],
      "metadata": {
        "colab": {
          "base_uri": "https://localhost:8080/"
        },
        "id": "zn5Hr8mpiqUx",
        "outputId": "1886230b-0686-438e-d209-78e7d8ff6be8"
      },
      "execution_count": 14,
      "outputs": [
        {
          "output_type": "execute_result",
          "data": {
            "text/plain": [
              "(450, 1)"
            ]
          },
          "metadata": {},
          "execution_count": 14
        }
      ]
    },
    {
      "cell_type": "markdown",
      "metadata": {
        "id": "PwvPVMzjeQ5S"
      },
      "source": [
        "## Defining and training the model"
      ]
    },
    {
      "cell_type": "code",
      "execution_count": 10,
      "metadata": {
        "id": "k8Wr_EZCeQ5S"
      },
      "outputs": [],
      "source": [
        "# Section 4.3\n",
        "\n",
        "from tensorflow.keras import layers, models\n",
        "import tensorflow.keras.backend as K\n",
        "\n",
        "K.clear_session()\n",
        "\n",
        "# Defining the model\n",
        "rnn = models.Sequential([\n",
        "    layers.SimpleRNN(64),\n",
        "    layers.Dense(64, activation='relu'),\n",
        "    layers.Dense(1)\n",
        "])\n",
        "# Compiling the model\n",
        "rnn.compile(loss='mse', optimizer='adam')"
      ]
    },
    {
      "cell_type": "code",
      "execution_count": 11,
      "metadata": {
        "colab": {
          "base_uri": "https://localhost:8080/"
        },
        "id": "urv5nZqJeQ5S",
        "outputId": "650648b2-34d8-4e9c-c388-0972190e9fb3"
      },
      "outputs": [
        {
          "output_type": "stream",
          "name": "stdout",
          "text": [
            "Epoch 1/25\n",
            "8/8 [==============================] - 2s 6ms/step - loss: 0.4433\n",
            "Epoch 2/25\n",
            "8/8 [==============================] - 0s 4ms/step - loss: 0.0488\n",
            "Epoch 3/25\n",
            "8/8 [==============================] - 0s 4ms/step - loss: 0.0433\n",
            "Epoch 4/25\n",
            "8/8 [==============================] - 0s 5ms/step - loss: 0.0279\n",
            "Epoch 5/25\n",
            "8/8 [==============================] - 0s 5ms/step - loss: 0.0329\n",
            "Epoch 6/25\n",
            "8/8 [==============================] - 0s 5ms/step - loss: 0.0278\n",
            "Epoch 7/25\n",
            "8/8 [==============================] - 0s 5ms/step - loss: 0.0277\n",
            "Epoch 8/25\n",
            "8/8 [==============================] - 0s 5ms/step - loss: 0.0241\n",
            "Epoch 9/25\n",
            "8/8 [==============================] - 0s 6ms/step - loss: 0.0223\n",
            "Epoch 10/25\n",
            "8/8 [==============================] - 0s 5ms/step - loss: 0.0198\n",
            "Epoch 11/25\n",
            "8/8 [==============================] - 0s 4ms/step - loss: 0.0191\n",
            "Epoch 12/25\n",
            "8/8 [==============================] - 0s 6ms/step - loss: 0.0200\n",
            "Epoch 13/25\n",
            "8/8 [==============================] - 0s 5ms/step - loss: 0.0221\n",
            "Epoch 14/25\n",
            "8/8 [==============================] - 0s 4ms/step - loss: 0.0198\n",
            "Epoch 15/25\n",
            "8/8 [==============================] - 0s 5ms/step - loss: 0.0181\n",
            "Epoch 16/25\n",
            "8/8 [==============================] - 0s 6ms/step - loss: 0.0205\n",
            "Epoch 17/25\n",
            "8/8 [==============================] - 0s 5ms/step - loss: 0.0193\n",
            "Epoch 18/25\n",
            "8/8 [==============================] - 0s 4ms/step - loss: 0.0176\n",
            "Epoch 19/25\n",
            "8/8 [==============================] - 0s 5ms/step - loss: 0.0183\n",
            "Epoch 20/25\n",
            "8/8 [==============================] - 0s 4ms/step - loss: 0.0156\n",
            "Epoch 21/25\n",
            "8/8 [==============================] - 0s 6ms/step - loss: 0.0159\n",
            "Epoch 22/25\n",
            "8/8 [==============================] - 0s 5ms/step - loss: 0.0165\n",
            "Epoch 23/25\n",
            "8/8 [==============================] - 0s 5ms/step - loss: 0.0155\n",
            "Epoch 24/25\n",
            "8/8 [==============================] - 0s 4ms/step - loss: 0.0156\n",
            "Epoch 25/25\n",
            "8/8 [==============================] - 0s 4ms/step - loss: 0.0210\n"
          ]
        },
        {
          "output_type": "execute_result",
          "data": {
            "text/plain": [
              "<keras.callbacks.History at 0x7b50fc199b10>"
            ]
          },
          "metadata": {},
          "execution_count": 11
        }
      ],
      "source": [
        "# Section 4.3\n",
        "rnn.fit(x, y, shuffle=True, batch_size=64, epochs=25)"
      ]
    },
    {
      "cell_type": "markdown",
      "metadata": {
        "id": "XbHmR0z2eQ5S"
      },
      "source": [
        "## Predicting using the trained model"
      ]
    },
    {
      "cell_type": "code",
      "execution_count": 15,
      "metadata": {
        "colab": {
          "base_uri": "https://localhost:8080/"
        },
        "id": "x1xl3KAneQ5S",
        "outputId": "8c0be19a-24dc-4b40-e9f9-6a4af2763248"
      },
      "outputs": [
        {
          "output_type": "stream",
          "name": "stdout",
          "text": [
            "1/1 [==============================] - 0s 178ms/step\n",
            "1/1 [==============================] - 0s 24ms/step\n",
            "1/1 [==============================] - 0s 22ms/step\n",
            "1/1 [==============================] - 0s 22ms/step\n",
            "1/1 [==============================] - 0s 26ms/step\n",
            "1/1 [==============================] - 0s 25ms/step\n",
            "1/1 [==============================] - 0s 22ms/step\n",
            "1/1 [==============================] - 0s 25ms/step\n",
            "1/1 [==============================] - 0s 25ms/step\n",
            "1/1 [==============================] - 0s 22ms/step\n",
            "1/1 [==============================] - 0s 24ms/step\n",
            "1/1 [==============================] - 0s 23ms/step\n",
            "1/1 [==============================] - 0s 23ms/step\n",
            "1/1 [==============================] - 0s 22ms/step\n",
            "1/1 [==============================] - 0s 21ms/step\n",
            "1/1 [==============================] - 0s 23ms/step\n",
            "1/1 [==============================] - 0s 23ms/step\n",
            "1/1 [==============================] - 0s 22ms/step\n",
            "1/1 [==============================] - 0s 22ms/step\n",
            "1/1 [==============================] - 0s 25ms/step\n",
            "1/1 [==============================] - 0s 24ms/step\n",
            "1/1 [==============================] - 0s 35ms/step\n",
            "1/1 [==============================] - 0s 22ms/step\n",
            "1/1 [==============================] - 0s 22ms/step\n",
            "1/1 [==============================] - 0s 22ms/step\n",
            "1/1 [==============================] - 0s 23ms/step\n",
            "1/1 [==============================] - 0s 25ms/step\n",
            "1/1 [==============================] - 0s 23ms/step\n",
            "1/1 [==============================] - 0s 30ms/step\n",
            "1/1 [==============================] - 0s 25ms/step\n",
            "1/1 [==============================] - 0s 22ms/step\n",
            "1/1 [==============================] - 0s 26ms/step\n",
            "1/1 [==============================] - 0s 23ms/step\n",
            "1/1 [==============================] - 0s 26ms/step\n",
            "1/1 [==============================] - 0s 30ms/step\n",
            "1/1 [==============================] - 0s 22ms/step\n",
            "1/1 [==============================] - 0s 22ms/step\n",
            "1/1 [==============================] - 0s 26ms/step\n",
            "1/1 [==============================] - 0s 26ms/step\n",
            "1/1 [==============================] - 0s 23ms/step\n",
            "1/1 [==============================] - 0s 21ms/step\n",
            "1/1 [==============================] - 0s 35ms/step\n",
            "1/1 [==============================] - 0s 31ms/step\n",
            "1/1 [==============================] - 0s 33ms/step\n",
            "1/1 [==============================] - 0s 34ms/step\n",
            "1/1 [==============================] - 0s 37ms/step\n",
            "1/1 [==============================] - 0s 35ms/step\n",
            "1/1 [==============================] - 0s 32ms/step\n",
            "1/1 [==============================] - 0s 33ms/step\n",
            "1/1 [==============================] - 0s 32ms/step\n",
            "1/1 [==============================] - 0s 31ms/step\n",
            "1/1 [==============================] - 0s 31ms/step\n",
            "1/1 [==============================] - 0s 30ms/step\n",
            "1/1 [==============================] - 0s 33ms/step\n",
            "1/1 [==============================] - 0s 33ms/step\n",
            "1/1 [==============================] - 0s 32ms/step\n",
            "1/1 [==============================] - 0s 33ms/step\n",
            "1/1 [==============================] - 0s 31ms/step\n",
            "1/1 [==============================] - 0s 41ms/step\n",
            "1/1 [==============================] - 0s 31ms/step\n",
            "Predictions: [405.08082939624785, 405.0378320136666, 406.12557160049676, 407.2120187202096, 407.9058722177148, 408.49686901956795, 408.8947023668885, 409.1679194191098, 409.44131173878907, 409.4840089672804]\n"
          ]
        }
      ],
      "source": [
        "# Section 4.3\n",
        "# Code listing 4.6\n",
        "\n",
        "import numpy as np\n",
        "\n",
        "# Getting the last 12 values from the history to generate the first prediction\n",
        "history = data[\"Average Diff\"].values[-12:].reshape(1,-1,1)\n",
        "\n",
        "# To hold the absolute values\n",
        "true_vals = []\n",
        "\n",
        "# Holds the very last value in the history\n",
        "prev_true = data[\"Average\"].values[-1]\n",
        "\n",
        "# Making predictions for 60 time steps\n",
        "for i in range(60):\n",
        "    # Make a single prediction\n",
        "    p_diff = rnn.predict(history).reshape(1,-1,1)\n",
        "\n",
        "    # Modifying the history so that we have\n",
        "    history = np.concatenate((history[:,1:,:],p_diff),axis=1)\n",
        "    # Generating the absolute prediction\n",
        "    true_vals.append(prev_true+p_diff[0,0,0])\n",
        "    # Updating the prev_true\n",
        "    prev_true = true_vals[-1]\n",
        "\n",
        "print(\"Predictions: {}\".format(true_vals[:10]))"
      ]
    },
    {
      "cell_type": "markdown",
      "metadata": {
        "id": "kMRht0DOeQ5T"
      },
      "source": [
        "## Plotting the current values and predictions"
      ]
    },
    {
      "cell_type": "code",
      "source": [
        "data[\"Average\"].values[-1]+true_vals"
      ],
      "metadata": {
        "colab": {
          "base_uri": "https://localhost:8080/"
        },
        "id": "guq1-_4SlPZi",
        "outputId": "fec4b1a6-3a8d-479a-f121-3432e8093f07"
      },
      "execution_count": 19,
      "outputs": [
        {
          "output_type": "execute_result",
          "data": {
            "text/plain": [
              "array([811.4708294 , 811.42783201, 812.5155716 , 813.60201872,\n",
              "       814.29587222, 814.88686902, 815.28470237, 815.55791942,\n",
              "       815.83131174, 815.87400897, 815.17201246, 813.7074299 ,\n",
              "       812.32074024, 812.17960341, 813.23527141, 814.32430871,\n",
              "       815.00066985, 815.55327053, 815.92595582, 816.20377187,\n",
              "       816.48133995, 816.5723795 , 815.94429502, 814.52669403,\n",
              "       813.0986366 , 812.86658294, 813.88467975, 814.98294277,\n",
              "       815.66364331, 816.22255655, 816.59466003, 816.87712605,\n",
              "       817.16122348, 817.28603975, 816.7049071 , 815.32768993,\n",
              "       813.86776058, 813.54595236, 814.51063715, 815.62005935,\n",
              "       816.31054924, 816.87402789, 817.2528979 , 817.54066317,\n",
              "       817.82381235, 817.97442447, 817.43019996, 816.08715497,\n",
              "       814.59713827, 814.18259086, 815.08425607, 816.20323039,\n",
              "       816.90582235, 817.4707423 , 817.86291508, 818.1590219 ,\n",
              "       818.43639685, 818.60292351, 818.09158802, 816.78210091])"
            ]
          },
          "metadata": {},
          "execution_count": 19
        }
      ]
    },
    {
      "cell_type": "code",
      "source": [
        "data[\"Average\"].values[-1]"
      ],
      "metadata": {
        "colab": {
          "base_uri": "https://localhost:8080/"
        },
        "id": "12ASn1XslTxD",
        "outputId": "55186df3-0a5b-42fd-dc6d-33fcf8dfe1b3"
      },
      "execution_count": 17,
      "outputs": [
        {
          "output_type": "execute_result",
          "data": {
            "text/plain": [
              "406.39"
            ]
          },
          "metadata": {},
          "execution_count": 17
        }
      ]
    },
    {
      "cell_type": "markdown",
      "source": [
        "### The purpose of including the last true value in the list of predictions is to maintain continuity and provide context. This is often done when generating predictions for a time series. It helps in several ways:\n",
        "\n",
        "- Initial Value: It ensures that the first predicted value has a reference point (the last true value) from which the model's predictions start. This is especially important when presenting or visualizing the predicted time series.\n",
        "\n",
        "- Comparison: Having the last true value in the list allows for easy comparison between the model's predictions and the ground truth. You can assess how well the model's predictions align with the actual observations.\n",
        "\n",
        "- Visual Representation: When plotting or visualizing the time series, including the last true value provides a smooth transition from the historical data to the predicted values."
      ],
      "metadata": {
        "id": "jXdOYED-nEfY"
      }
    },
    {
      "cell_type": "code",
      "source": [
        "[data.index[-1]]"
      ],
      "metadata": {
        "colab": {
          "base_uri": "https://localhost:8080/"
        },
        "id": "asH0WR_GnaN1",
        "outputId": "19eea81c-cbe8-425f-c6c5-4b110db450d3"
      },
      "execution_count": 20,
      "outputs": [
        {
          "output_type": "execute_result",
          "data": {
            "text/plain": [
              "['2018-07-01']"
            ]
          },
          "metadata": {},
          "execution_count": 20
        }
      ]
    },
    {
      "cell_type": "code",
      "source": [
        "[pd.to_datetime(data.index[-1], format=\"%Y-%m-%d\")+pd.DateOffset(months=i+1) for i in range(60)]"
      ],
      "metadata": {
        "colab": {
          "base_uri": "https://localhost:8080/"
        },
        "id": "kuAIpClYnbpV",
        "outputId": "b79a92a7-c01a-4aa5-8f50-5bd44841d20c"
      },
      "execution_count": 23,
      "outputs": [
        {
          "output_type": "execute_result",
          "data": {
            "text/plain": [
              "[Timestamp('2018-08-01 00:00:00'),\n",
              " Timestamp('2018-09-01 00:00:00'),\n",
              " Timestamp('2018-10-01 00:00:00'),\n",
              " Timestamp('2018-11-01 00:00:00'),\n",
              " Timestamp('2018-12-01 00:00:00'),\n",
              " Timestamp('2019-01-01 00:00:00'),\n",
              " Timestamp('2019-02-01 00:00:00'),\n",
              " Timestamp('2019-03-01 00:00:00'),\n",
              " Timestamp('2019-04-01 00:00:00'),\n",
              " Timestamp('2019-05-01 00:00:00'),\n",
              " Timestamp('2019-06-01 00:00:00'),\n",
              " Timestamp('2019-07-01 00:00:00'),\n",
              " Timestamp('2019-08-01 00:00:00'),\n",
              " Timestamp('2019-09-01 00:00:00'),\n",
              " Timestamp('2019-10-01 00:00:00'),\n",
              " Timestamp('2019-11-01 00:00:00'),\n",
              " Timestamp('2019-12-01 00:00:00'),\n",
              " Timestamp('2020-01-01 00:00:00'),\n",
              " Timestamp('2020-02-01 00:00:00'),\n",
              " Timestamp('2020-03-01 00:00:00'),\n",
              " Timestamp('2020-04-01 00:00:00'),\n",
              " Timestamp('2020-05-01 00:00:00'),\n",
              " Timestamp('2020-06-01 00:00:00'),\n",
              " Timestamp('2020-07-01 00:00:00'),\n",
              " Timestamp('2020-08-01 00:00:00'),\n",
              " Timestamp('2020-09-01 00:00:00'),\n",
              " Timestamp('2020-10-01 00:00:00'),\n",
              " Timestamp('2020-11-01 00:00:00'),\n",
              " Timestamp('2020-12-01 00:00:00'),\n",
              " Timestamp('2021-01-01 00:00:00'),\n",
              " Timestamp('2021-02-01 00:00:00'),\n",
              " Timestamp('2021-03-01 00:00:00'),\n",
              " Timestamp('2021-04-01 00:00:00'),\n",
              " Timestamp('2021-05-01 00:00:00'),\n",
              " Timestamp('2021-06-01 00:00:00'),\n",
              " Timestamp('2021-07-01 00:00:00'),\n",
              " Timestamp('2021-08-01 00:00:00'),\n",
              " Timestamp('2021-09-01 00:00:00'),\n",
              " Timestamp('2021-10-01 00:00:00'),\n",
              " Timestamp('2021-11-01 00:00:00'),\n",
              " Timestamp('2021-12-01 00:00:00'),\n",
              " Timestamp('2022-01-01 00:00:00'),\n",
              " Timestamp('2022-02-01 00:00:00'),\n",
              " Timestamp('2022-03-01 00:00:00'),\n",
              " Timestamp('2022-04-01 00:00:00'),\n",
              " Timestamp('2022-05-01 00:00:00'),\n",
              " Timestamp('2022-06-01 00:00:00'),\n",
              " Timestamp('2022-07-01 00:00:00'),\n",
              " Timestamp('2022-08-01 00:00:00'),\n",
              " Timestamp('2022-09-01 00:00:00'),\n",
              " Timestamp('2022-10-01 00:00:00'),\n",
              " Timestamp('2022-11-01 00:00:00'),\n",
              " Timestamp('2022-12-01 00:00:00'),\n",
              " Timestamp('2023-01-01 00:00:00'),\n",
              " Timestamp('2023-02-01 00:00:00'),\n",
              " Timestamp('2023-03-01 00:00:00'),\n",
              " Timestamp('2023-04-01 00:00:00'),\n",
              " Timestamp('2023-05-01 00:00:00'),\n",
              " Timestamp('2023-06-01 00:00:00'),\n",
              " Timestamp('2023-07-01 00:00:00')]"
            ]
          },
          "metadata": {},
          "execution_count": 23
        }
      ]
    },
    {
      "cell_type": "code",
      "source": [
        "[pd.DateOffset(months=i+1) for i in range(60)]"
      ],
      "metadata": {
        "colab": {
          "base_uri": "https://localhost:8080/"
        },
        "id": "B6pbccsvnbrD",
        "outputId": "d02a697a-7e01-464a-9417-4bff0ead1f33"
      },
      "execution_count": 22,
      "outputs": [
        {
          "output_type": "execute_result",
          "data": {
            "text/plain": [
              "[<DateOffset: months=1>,\n",
              " <DateOffset: months=2>,\n",
              " <DateOffset: months=3>,\n",
              " <DateOffset: months=4>,\n",
              " <DateOffset: months=5>,\n",
              " <DateOffset: months=6>,\n",
              " <DateOffset: months=7>,\n",
              " <DateOffset: months=8>,\n",
              " <DateOffset: months=9>,\n",
              " <DateOffset: months=10>,\n",
              " <DateOffset: months=11>,\n",
              " <DateOffset: months=12>,\n",
              " <DateOffset: months=13>,\n",
              " <DateOffset: months=14>,\n",
              " <DateOffset: months=15>,\n",
              " <DateOffset: months=16>,\n",
              " <DateOffset: months=17>,\n",
              " <DateOffset: months=18>,\n",
              " <DateOffset: months=19>,\n",
              " <DateOffset: months=20>,\n",
              " <DateOffset: months=21>,\n",
              " <DateOffset: months=22>,\n",
              " <DateOffset: months=23>,\n",
              " <DateOffset: months=24>,\n",
              " <DateOffset: months=25>,\n",
              " <DateOffset: months=26>,\n",
              " <DateOffset: months=27>,\n",
              " <DateOffset: months=28>,\n",
              " <DateOffset: months=29>,\n",
              " <DateOffset: months=30>,\n",
              " <DateOffset: months=31>,\n",
              " <DateOffset: months=32>,\n",
              " <DateOffset: months=33>,\n",
              " <DateOffset: months=34>,\n",
              " <DateOffset: months=35>,\n",
              " <DateOffset: months=36>,\n",
              " <DateOffset: months=37>,\n",
              " <DateOffset: months=38>,\n",
              " <DateOffset: months=39>,\n",
              " <DateOffset: months=40>,\n",
              " <DateOffset: months=41>,\n",
              " <DateOffset: months=42>,\n",
              " <DateOffset: months=43>,\n",
              " <DateOffset: months=44>,\n",
              " <DateOffset: months=45>,\n",
              " <DateOffset: months=46>,\n",
              " <DateOffset: months=47>,\n",
              " <DateOffset: months=48>,\n",
              " <DateOffset: months=49>,\n",
              " <DateOffset: months=50>,\n",
              " <DateOffset: months=51>,\n",
              " <DateOffset: months=52>,\n",
              " <DateOffset: months=53>,\n",
              " <DateOffset: months=54>,\n",
              " <DateOffset: months=55>,\n",
              " <DateOffset: months=56>,\n",
              " <DateOffset: months=57>,\n",
              " <DateOffset: months=58>,\n",
              " <DateOffset: months=59>,\n",
              " <DateOffset: months=60>]"
            ]
          },
          "metadata": {},
          "execution_count": 22
        }
      ]
    },
    {
      "cell_type": "code",
      "source": [
        "data[\"Average\"].shape[0]+60"
      ],
      "metadata": {
        "colab": {
          "base_uri": "https://localhost:8080/"
        },
        "id": "7ZB-ZeThoCYp",
        "outputId": "a128cd1e-1d95-49b9-b2e3-85527aed2def"
      },
      "execution_count": 25,
      "outputs": [
        {
          "output_type": "execute_result",
          "data": {
            "text/plain": [
              "523"
            ]
          },
          "metadata": {},
          "execution_count": 25
        }
      ]
    },
    {
      "cell_type": "code",
      "execution_count": 26,
      "metadata": {
        "colab": {
          "base_uri": "https://localhost:8080/",
          "height": 762
        },
        "id": "oxOrvuUUeQ5T",
        "outputId": "abf5790d-bd91-4706-dfb5-6c7a63daf942"
      },
      "outputs": [
        {
          "output_type": "execute_result",
          "data": {
            "text/plain": [
              "Text(0.5, 1.0, 'Evolution of CO2 Concentration over Time')"
            ]
          },
          "metadata": {},
          "execution_count": 26
        },
        {
          "output_type": "display_data",
          "data": {
            "text/plain": [
              "<Figure size 1600x800 with 1 Axes>"
            ],
            "image/png": "[encoded data removed]"
          },
          "metadata": {}
        }
      ],
      "source": [
        "# Section 4.3\n",
        "\n",
        "import pandas as pd\n",
        "import matplotlib.pyplot as plt\n",
        "%matplotlib inline\n",
        "\n",
        "# Plotting the current and predicted trends\n",
        "plt.figure(figsize=(16,8))\n",
        "\n",
        "# Plotting the current trend\n",
        "plt.plot(data[\"Average\"], c='r', linestyle='--', label=\"Current trend\")\n",
        "\n",
        "# Creating a pd.Series from predictions\n",
        "pred_ser = pd.Series(\n",
        "    [data[\"Average\"].values[-1]]+true_vals,\n",
        "    index=[data.index[-1]]+[pd.to_datetime(data.index[-1], format=\"%Y-%m-%d\")+pd.DateOffset(months=i+1) for i in range(60)]\n",
        ")\n",
        "pred_ser.index = pd.to_datetime(pred_ser.index).strftime('%Y-%m-%d')\n",
        "\n",
        "# Plotting the predictions\n",
        "plt.plot(pred_ser, c='g', label='Predicted trend')\n",
        "\n",
        "# Annotating the plot\n",
        "plt.xticks(np.arange(0, data[\"Average\"].shape[0]+60, 24),rotation=45)\n",
        "plt.xlabel('Time', fontsize=18)\n",
        "plt.ylabel('CO2 Concentration', fontsize=18)\n",
        "plt.legend(prop={'size': 15})\n",
        "plt.title('Evolution of CO2 Concentration over Time', fontsize=18)"
      ]
    },
    {
      "cell_type": "code",
      "execution_count": null,
      "metadata": {
        "id": "gym22fZxeQ5T"
      },
      "outputs": [],
      "source": []
    }
  ],
  "metadata": {
    "kernelspec": {
      "display_name": "Python 3 (ipykernel)",
      "language": "python",
      "name": "python3"
    },
    "language_info": {
      "codemirror_mode": {
        "name": "ipython",
        "version": 3
      },
      "file_extension": ".py",
      "mimetype": "text/x-python",
      "name": "python",
      "nbconvert_exporter": "python",
      "pygments_lexer": "ipython3",
      "version": "3.10.4"
    },
    "colab": {
      "provenance": [],
      "include_colab_link": true
    }
  },
  "nbformat": 4,
  "nbformat_minor": 0
}