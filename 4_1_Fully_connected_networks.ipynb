{
  "cells": [
    {
      "cell_type": "markdown",
      "metadata": {
        "id": "view-in-github",
        "colab_type": "text"
      },
      "source": [
        "<a href=\"https://colab.research.google.com/github/abdalrahmenyousifMohamed/Master-TensorFlow/blob/main/4_1_Fully_connected_networks.ipynb\" target=\"_parent\"><img src=\"https://colab.research.google.com/assets/colab-badge.svg\" alt=\"Open In Colab\"/></a>"
      ]
    },
    {
      "cell_type": "markdown",
      "metadata": {
        "id": "ARDIBVN3S3rt"
      },
      "source": [
        "# Chapter 4: Dipping Toes in Deep Learning\n",
        "\n",
        "## Fully-Connected Neural Networks\n",
        "\n",
        "We have already discussed a type of fully-connected neural network (i.e. multi-layer perceptron) in Chapter 1. In this chapter we will learn about a new type of fully-connected neural network; an *autoencoder* model. An autoencoder is primarly used to be trained in an unsupervised fashion. This means the model can be trained just using inputs, and no labels.\n",
        "\n",
        "In this chapter, you will train an autoencoder to reconstruct images. Specifically, the autoencoder takes the image data, compress it to a small latent space and then reconstruct the image from the compressed latent space values. This is a great way to provide useful features using unsupervised data, for supervised models. For this task we will be using a popular hand-written digit dataset known as MNIST (https://en.wikipedia.org/wiki/MNIST_database).\n",
        "\n",
        "<table align=\"left\">\n",
        "    <td>\n",
        "        <a target=\"_blank\" href=\"https://colab.research.google.com/github/thushv89/manning_tf2_in_action/blob/master/Ch04-Deep-Networks-with-Keras/4.1.Fully_connected_networks.ipynb\"><img src=\"https://www.tensorflow.org/images/colab_logo_32px.png\" />Run in Google Colab</a>\n",
        "    </td>\n",
        "</table>"
      ]
    },
    {
      "cell_type": "markdown",
      "metadata": {
        "id": "mPSAx2K0S3rx"
      },
      "source": [
        "## Import necessary libraries"
      ]
    },
    {
      "cell_type": "code",
      "execution_count": 1,
      "metadata": {
        "colab": {
          "base_uri": "https://localhost:8080/"
        },
        "id": "0kwDIwQ_S3rx",
        "outputId": "441c2851-4ffb-4a1d-e36e-98e9dcaa6c2a"
      },
      "outputs": [
        {
          "output_type": "stream",
          "name": "stdout",
          "text": [
            "TensorFlow version: 2.12.0\n"
          ]
        }
      ],
      "source": [
        "import random\n",
        "import tensorflow as tf\n",
        "from tensorflow.keras.datasets.mnist import load_data\n",
        "import tensorflow_datasets as tfds\n",
        "import numpy as np\n",
        "import matplotlib.pyplot as plt\n",
        "from tensorflow.keras import layers, models\n",
        "import tensorflow.keras.backend as K\n",
        "%matplotlib inline\n",
        "\n",
        "def fix_random_seed(seed):\n",
        "    \"\"\" Setting the random seed of various libraries \"\"\"\n",
        "    try:\n",
        "        np.random.seed(seed)\n",
        "    except NameError:\n",
        "        print(\"Warning: Numpy is not imported. Setting the seed for Numpy failed.\")\n",
        "    try:\n",
        "        tf.random.set_seed(seed)\n",
        "    except NameError:\n",
        "        print(\"Warning: TensorFlow is not imported. Setting the seed for TensorFlow failed.\")\n",
        "    try:\n",
        "        random.seed(seed)\n",
        "    except NameError:\n",
        "        print(\"Warning: random module is not imported. Setting the seed for random failed.\")\n",
        "\n",
        "# Fixing the random seed\n",
        "fix_random_seed(4321)\n",
        "print(\"TensorFlow version: {}\".format(tf.__version__))"
      ]
    },
    {
      "cell_type": "markdown",
      "metadata": {
        "id": "5x33TjQfS3rz"
      },
      "source": [
        "## Loading MNIST data\n",
        "\n",
        "Let's load the dataset using Keras. Due to the popularity of the dataset, many utility functions can be found to load the dataset with just a single line of code. `x_train` and `x_test` contains 28x28 sized images of hand-written digits and `y_train` and `y_test` contains the inter number representing that image (the label)."
      ]
    },
    {
      "cell_type": "code",
      "execution_count": 2,
      "metadata": {
        "colab": {
          "base_uri": "https://localhost:8080/"
        },
        "id": "Opojbi2XS3rz",
        "outputId": "fe9c9c55-c291-4783-d158-f3562a7ce18e"
      },
      "outputs": [
        {
          "output_type": "stream",
          "name": "stdout",
          "text": [
            "Downloading data from https://storage.googleapis.com/tensorflow/tf-keras-datasets/mnist.npz\n",
            "11490434/11490434 [==============================] - 0s 0us/step\n"
          ]
        }
      ],
      "source": [
        "# Section 4.1\n",
        "\n",
        "# Loading the data\n",
        "from tensorflow.keras.datasets.mnist import load_data\n",
        "(x_train, y_train), (x_test, y_test) = load_data()"
      ]
    },
    {
      "cell_type": "code",
      "execution_count": 3,
      "metadata": {
        "colab": {
          "base_uri": "https://localhost:8080/"
        },
        "id": "Oo1Di29BS3r0",
        "outputId": "1fa9f1aa-d182-4d33-bc02-dfcbdc208f77"
      },
      "outputs": [
        {
          "output_type": "stream",
          "name": "stdout",
          "text": [
            "[[[0 0 0 ... 0 0 0]\n",
            "  [0 0 0 ... 0 0 0]\n",
            "  [0 0 0 ... 0 0 0]\n",
            "  ...\n",
            "  [0 0 0 ... 0 0 0]\n",
            "  [0 0 0 ... 0 0 0]\n",
            "  [0 0 0 ... 0 0 0]]\n",
            "\n",
            " [[0 0 0 ... 0 0 0]\n",
            "  [0 0 0 ... 0 0 0]\n",
            "  [0 0 0 ... 0 0 0]\n",
            "  ...\n",
            "  [0 0 0 ... 0 0 0]\n",
            "  [0 0 0 ... 0 0 0]\n",
            "  [0 0 0 ... 0 0 0]]\n",
            "\n",
            " [[0 0 0 ... 0 0 0]\n",
            "  [0 0 0 ... 0 0 0]\n",
            "  [0 0 0 ... 0 0 0]\n",
            "  ...\n",
            "  [0 0 0 ... 0 0 0]\n",
            "  [0 0 0 ... 0 0 0]\n",
            "  [0 0 0 ... 0 0 0]]\n",
            "\n",
            " ...\n",
            "\n",
            " [[0 0 0 ... 0 0 0]\n",
            "  [0 0 0 ... 0 0 0]\n",
            "  [0 0 0 ... 0 0 0]\n",
            "  ...\n",
            "  [0 0 0 ... 0 0 0]\n",
            "  [0 0 0 ... 0 0 0]\n",
            "  [0 0 0 ... 0 0 0]]\n",
            "\n",
            " [[0 0 0 ... 0 0 0]\n",
            "  [0 0 0 ... 0 0 0]\n",
            "  [0 0 0 ... 0 0 0]\n",
            "  ...\n",
            "  [0 0 0 ... 0 0 0]\n",
            "  [0 0 0 ... 0 0 0]\n",
            "  [0 0 0 ... 0 0 0]]\n",
            "\n",
            " [[0 0 0 ... 0 0 0]\n",
            "  [0 0 0 ... 0 0 0]\n",
            "  [0 0 0 ... 0 0 0]\n",
            "  ...\n",
            "  [0 0 0 ... 0 0 0]\n",
            "  [0 0 0 ... 0 0 0]\n",
            "  [0 0 0 ... 0 0 0]]]\n",
            "x_train has shape: (60000, 28, 28)\n",
            "\n",
            "\n",
            "[5 0 4 ... 5 6 8]\n",
            "y_train has shape: (60000,)\n"
          ]
        }
      ],
      "source": [
        "# Print x_train and y_train\n",
        "print(x_train)\n",
        "print('x_train has shape: {}'.format(x_train.shape))\n",
        "print('\\n')\n",
        "print(y_train)\n",
        "print('y_train has shape: {}'.format(y_train.shape))"
      ]
    },
    {
      "cell_type": "markdown",
      "metadata": {
        "id": "U_NW_v6gS3r0"
      },
      "source": [
        "## Transforming MNIST data\n",
        "\n",
        "This is an important step. We do two important things here.\n",
        "\n",
        "* Unwrap the (28x28) image into a 1-dimensional 784 vector (because fully-connected networks need a 1-dimensional input).\n",
        "* Normalize the input by subtracting 128 and dividing by 128. This is because the pixel values are between [0,255]."
      ]
    },
    {
      "cell_type": "code",
      "execution_count": 4,
      "metadata": {
        "id": "voobwq0NS3r0"
      },
      "outputs": [],
      "source": [
        "# Section 4.1\n",
        "\n",
        "# Some simple preprocessing on the data\n",
        "norm_x_train = ((x_train - 128.0)/128.0).reshape([-1,784])"
      ]
    },
    {
      "cell_type": "markdown",
      "metadata": {
        "id": "nB7c59YuS3r1"
      },
      "source": [
        "## Extracting a small sample and plotting the data\n",
        "\n",
        "Here we will plot some of the data to get an idea of what we are dealing with."
      ]
    },
    {
      "cell_type": "code",
      "source": [
        "x_train.dtype"
      ],
      "metadata": {
        "colab": {
          "base_uri": "https://localhost:8080/"
        },
        "id": "X1Ion7KMT5dS",
        "outputId": "128f530d-67b1-47ab-e59a-8aa2e850b868"
      },
      "execution_count": 6,
      "outputs": [
        {
          "output_type": "execute_result",
          "data": {
            "text/plain": [
              "dtype('uint8')"
            ]
          },
          "metadata": {},
          "execution_count": 6
        }
      ]
    },
    {
      "cell_type": "code",
      "execution_count": 7,
      "metadata": {
        "id": "5SSPxsRkS3r1"
      },
      "outputs": [],
      "source": [
        "# Section 4.1\n",
        "\n",
        "# We will extract a small sample from the training data to inspect visually\n",
        "sample_images, sample_labels = [],[]\n",
        "for i, (img, lbl) in enumerate(zip(x_train, y_train)):\n",
        "    sample_images.append(img)\n",
        "    sample_labels.append(lbl)\n",
        "    if i>=9: break"
      ]
    },
    {
      "cell_type": "code",
      "execution_count": 8,
      "metadata": {
        "colab": {
          "base_uri": "https://localhost:8080/",
          "height": 367
        },
        "id": "UrPJlhESS3r2",
        "outputId": "ddafa6d5-6e51-4102-b6f3-162cc39fe9f5"
      },
      "outputs": [
        {
          "output_type": "display_data",
          "data": {
            "text/plain": [
              "<Figure size 1200x400 with 10 Axes>"
            ],
            "image/png": "[encoded data removed]"
          },
          "metadata": {}
        }
      ],
      "source": [
        "import matplotlib.pyplot as plt\n",
        "# Plotting the images\n",
        "f, axes = plt.subplots(2, 5, figsize=(12,4))\n",
        "for i, (img, lbl) in enumerate(zip(sample_images, sample_labels)):\n",
        "    r, c = i//5, i%5\n",
        "    axes[r,c].imshow(img,cmap='gray')\n",
        "    axes[r,c].axis('off')\n",
        "    axes[r,c].set_title(\"Label {}\".format(lbl))"
      ]
    },
    {
      "cell_type": "markdown",
      "metadata": {
        "id": "dz9Dxf6hS3r2"
      },
      "source": [
        "## Creating corrupted images"
      ]
    },
    {
      "cell_type": "code",
      "execution_count": 14,
      "metadata": {
        "colab": {
          "base_uri": "https://localhost:8080/",
          "height": 367
        },
        "id": "IJpuA6ySS3r2",
        "outputId": "e59e3e82-9c0a-4184-da2a-5037d1abf79b"
      },
      "outputs": [
        {
          "output_type": "display_data",
          "data": {
            "text/plain": [
              "<Figure size 1200x400 with 10 Axes>"
            ],
            "image/png": "[encoded data removed]"
          },
          "metadata": {}
        }
      ],
      "source": [
        "# Section 4.1\n",
        "\n",
        "import numpy as np\n",
        "import matplotlib.pyplot as plt\n",
        "%matplotlib inline\n",
        "\n",
        "x_train_sample = x_train[:10]\n",
        "y_train_sample = y_train[:10]\n",
        "\n",
        "def generate_masked_inputs(x, p, seed=None):\n",
        "    \"\"\" This function applies a binary mask to the input and generate corrupted images \"\"\"\n",
        "    # Fixing the seed\n",
        "    if seed:\n",
        "        np.random.seed(seed)\n",
        "    # Generating a mask using the binomial distribution\n",
        "    mask = np.random.binomial(n=1, p=p, size=x.shape).astype('float32')\n",
        "    return x * mask\n",
        "\n",
        "# Create a training dataset of corrupted images\n",
        "masked_x_train_sample = generate_masked_inputs(x_train_sample, 0.5)\n",
        "\n",
        "# Plotting some of the images\n",
        "f, axes = plt.subplots(2, 5, figsize=(12,4))\n",
        "for i, (img, lbl) in enumerate(zip(masked_x_train_sample, y_train_sample)):\n",
        "    r, c = i//5, i%5\n",
        "    axes[r,c].imshow(img,cmap='gray')\n",
        "    axes[r,c].axis('off')\n",
        "    axes[r,c].set_title(\"Label {}\".format(lbl))"
      ]
    },
    {
      "cell_type": "markdown",
      "metadata": {
        "id": "AwSrGTbwS3r2"
      },
      "source": [
        "## Defining the autoencoder model\n",
        "\n",
        "Now it's time to define the model. We will define a simple autoencoder model. This model has the following layers.\n",
        "\n",
        "* A Dense layer with 64 nodes and `relu` activation\n",
        "* A Dense layer with 32 nodes and `relu` activation\n",
        "* A Dense layer with 64 nodes and `relu` activation\n",
        "* A Dense layer with 784 nodes and `tanh` activation (i.e. the layer that reconstructs the images)\n",
        "\n",
        "Finally, we will compile the model with mean squared error (mse) loss and the `adam` optimizer."
      ]
    },
    {
      "cell_type": "code",
      "execution_count": 15,
      "metadata": {
        "colab": {
          "base_uri": "https://localhost:8080/"
        },
        "id": "PpAXkWmPS3r2",
        "outputId": "81976ce9-9c97-44f7-f5a9-ed9fcdd6b20b"
      },
      "outputs": [
        {
          "output_type": "stream",
          "name": "stdout",
          "text": [
            "Model: \"sequential\"\n",
            "_________________________________________________________________\n",
            " Layer (type)                Output Shape              Param #   \n",
            "=================================================================\n",
            " dense (Dense)               (None, 64)                50240     \n",
            "                                                                 \n",
            " dense_1 (Dense)             (None, 32)                2080      \n",
            "                                                                 \n",
            " dense_2 (Dense)             (None, 64)                2112      \n",
            "                                                                 \n",
            " dense_3 (Dense)             (None, 784)               50960     \n",
            "                                                                 \n",
            "=================================================================\n",
            "Total params: 105,392\n",
            "Trainable params: 105,392\n",
            "Non-trainable params: 0\n",
            "_________________________________________________________________\n"
          ]
        }
      ],
      "source": [
        "# Section 4.1\n",
        "# Code listing 4.1\n",
        "\n",
        "from tensorflow.keras import layers, models\n",
        "import tensorflow.keras.backend as K\n",
        "\n",
        "K.clear_session()\n",
        "\n",
        "# Defining the model\n",
        "autoencoder = models.Sequential(\n",
        "    [layers.Dense(64, activation='relu', input_shape=(784,)),\n",
        "    layers.Dense(32, activation='relu'),\n",
        "    layers.Dense(64, activation='relu'),\n",
        "    layers.Dense(784, activation='tanh')]\n",
        ")\n",
        "\n",
        "# Compiling the model\n",
        "autoencoder.compile(loss='mse', optimizer='adam')\n",
        "\n",
        "# Printing the model summary\n",
        "autoencoder.summary()"
      ]
    },
    {
      "cell_type": "markdown",
      "metadata": {
        "id": "BDEZpDLlS3r3"
      },
      "source": [
        "## Training the model\n",
        "\n",
        "Training the model is simple. You call the `fit()` method with the correct data. Note how the input and the output to the model are the same. This is because we are trying to construct the exact same input as the output of the model. We are using a batch size of 64 and 10 epochs."
      ]
    },
    {
      "cell_type": "code",
      "execution_count": 16,
      "metadata": {
        "colab": {
          "base_uri": "https://localhost:8080/"
        },
        "id": "7B8nKrg1S3r3",
        "outputId": "45d2d655-1f98-47e5-ff79-a3cb550a2724"
      },
      "outputs": [
        {
          "output_type": "stream",
          "name": "stdout",
          "text": [
            "Epoch 1/10\n",
            "938/938 [==============================] - 10s 9ms/step - loss: 0.1561\n",
            "Epoch 2/10\n",
            "938/938 [==============================] - 5s 5ms/step - loss: 0.1028\n",
            "Epoch 3/10\n",
            "938/938 [==============================] - 6s 7ms/step - loss: 0.0942\n",
            "Epoch 4/10\n",
            "938/938 [==============================] - 5s 5ms/step - loss: 0.0880\n",
            "Epoch 5/10\n",
            "938/938 [==============================] - 6s 6ms/step - loss: 0.0849\n",
            "Epoch 6/10\n",
            "938/938 [==============================] - 6s 6ms/step - loss: 0.0828\n",
            "Epoch 7/10\n",
            "938/938 [==============================] - 5s 5ms/step - loss: 0.0807\n",
            "Epoch 8/10\n",
            "938/938 [==============================] - 6s 6ms/step - loss: 0.0790\n",
            "Epoch 9/10\n",
            "938/938 [==============================] - 5s 5ms/step - loss: 0.0777\n",
            "Epoch 10/10\n",
            "938/938 [==============================] - 6s 6ms/step - loss: 0.0767\n"
          ]
        }
      ],
      "source": [
        "# Section 4.1\n",
        "\n",
        "# Generating the corrupted version of norm_x_train to be used as training inputs\n",
        "masked_x_train = generate_masked_inputs(norm_x_train, 0.5, seed=1024)\n",
        "# Fit the model\n",
        "history = autoencoder.fit(masked_x_train, norm_x_train, batch_size=64, epochs=10)"
      ]
    },
    {
      "cell_type": "markdown",
      "metadata": {
        "id": "Him9bZcvS3r3"
      },
      "source": [
        "## Plotting the loss over time\n",
        "\n",
        "It is quite clear that our model is learning. You can see the loss steadily going down."
      ]
    },
    {
      "cell_type": "code",
      "execution_count": 17,
      "metadata": {
        "colab": {
          "base_uri": "https://localhost:8080/",
          "height": 490
        },
        "id": "D-FaTvSYS3r3",
        "outputId": "b9a08ec2-6783-424a-9b9c-f0be7c706a63"
      },
      "outputs": [
        {
          "output_type": "execute_result",
          "data": {
            "text/plain": [
              "Text(0.5, 1.0, 'Autoencoder reconstruction loss for MNIST dataset')"
            ]
          },
          "metadata": {},
          "execution_count": 17
        },
        {
          "output_type": "display_data",
          "data": {
            "text/plain": [
              "<Figure size 640x480 with 1 Axes>"
            ],
            "image/png": "[encoded data removed]"
          },
          "metadata": {}
        }
      ],
      "source": [
        "# Section 4.1\n",
        "\n",
        "# Plotting the loss\n",
        "plt.plot(np.arange(1,11), history.history[\"loss\"])\n",
        "plt.xlabel(\"Epoch\")\n",
        "plt.ylabel(\"Reconstruction loss\")\n",
        "plt.title(\"Autoencoder reconstruction loss for MNIST dataset\")"
      ]
    },
    {
      "cell_type": "markdown",
      "metadata": {
        "id": "DPB6MnkLS3r3"
      },
      "source": [
        "## Predicting restorations of the corrupted images from the network\n",
        "\n",
        "Great we have a trained model. Now let's get a small sample of images, corrupt them with a mask and then ask the model to predict the correct restoration of the images."
      ]
    },
    {
      "cell_type": "code",
      "execution_count": 18,
      "metadata": {
        "colab": {
          "base_uri": "https://localhost:8080/"
        },
        "id": "P82wTlkhS3r3",
        "outputId": "346349c1-ec24-483e-ffdc-8a34eab1b108"
      },
      "outputs": [
        {
          "output_type": "stream",
          "name": "stdout",
          "text": [
            "1875/1875 [==============================] - 5s 3ms/step\n"
          ]
        }
      ],
      "source": [
        "# Section 4.1\n",
        "\n",
        "# We will use the first 10 samples in our dataset to test the model\n",
        "x_train_sample = x_train[:10]\n",
        "y_train_sample = y_train[:10]\n",
        "\n",
        "# Generating corrupted images using a previously unseen mask\n",
        "masked_x_train_sample = generate_masked_inputs(x_train_sample, 0.5, seed=2048)\n",
        "norm_masked_x = ((x_train - 128.0)/128.0).reshape(-1, 784)\n",
        "\n",
        "# Predicting the restored images from corrupted images\n",
        "y_pred = autoencoder.predict(norm_masked_x)"
      ]
    },
    {
      "cell_type": "code",
      "execution_count": 19,
      "metadata": {
        "colab": {
          "base_uri": "https://localhost:8080/"
        },
        "id": "l7KdIdevS3r3",
        "outputId": "4cc55f4e-334e-4899-9de2-4ee88838499a"
      },
      "outputs": [
        {
          "output_type": "stream",
          "name": "stdout",
          "text": [
            "[[-1.        -1.        -1.        ... -1.        -1.        -1.       ]\n",
            " [-1.        -1.        -1.        ... -1.        -1.        -1.       ]\n",
            " [-0.9999755 -1.        -1.        ... -0.9999997 -1.        -1.       ]\n",
            " ...\n",
            " [-1.        -1.        -1.        ... -1.        -1.        -1.       ]\n",
            " [-1.        -1.        -1.        ... -1.        -1.        -1.       ]\n",
            " [-1.        -0.9999996 -1.        ... -1.        -1.        -1.       ]]\n",
            "y_pred has shape: (60000, 784)\n"
          ]
        }
      ],
      "source": [
        "print(y_pred)\n",
        "print('y_pred has shape: {}'.format(y_pred.shape))"
      ]
    },
    {
      "cell_type": "markdown",
      "metadata": {
        "id": "SJO4_z2XS3r3"
      },
      "source": [
        "## Plotting the model predictions\n",
        "\n",
        "`y_pred` is holding the predictions we made. Let's plot them now and visually inspect if our model has done a good job."
      ]
    },
    {
      "cell_type": "code",
      "execution_count": 20,
      "metadata": {
        "colab": {
          "base_uri": "https://localhost:8080/",
          "height": 288
        },
        "id": "Mltp5k6qS3r3",
        "outputId": "c41090cc-72b4-455a-fa73-145620285031"
      },
      "outputs": [
        {
          "output_type": "display_data",
          "data": {
            "text/plain": [
              "<Figure size 1800x400 with 20 Axes>"
            ],
            "image/png": "[encoded data removed]"
          },
          "metadata": {}
        }
      ],
      "source": [
        "# Section 4.1\n",
        "\n",
        "# Plotting the corrupted and restored images side-by-side\n",
        "f, axes = plt.subplots(2, 10, figsize=(18,4))\n",
        "for i, (img, res) in enumerate(zip(masked_x_train_sample, y_pred)):\n",
        "    r1, c1 = 0, i\n",
        "    r2, c2 = 1, i\n",
        "    axes[r1,c1].imshow(img,cmap='gray')\n",
        "    axes[r1,c1].axis('off')\n",
        "\n",
        "    res = ((res * 128.0)+128.0).reshape(28,28)\n",
        "    axes[r2,c2].imshow(res,cmap='gray')\n",
        "    axes[r2,c2].axis('off')"
      ]
    },
    {
      "cell_type": "code",
      "execution_count": null,
      "metadata": {
        "id": "Zg86kVk1S3r4"
      },
      "outputs": [],
      "source": []
    },
    {
      "cell_type": "code",
      "execution_count": null,
      "metadata": {
        "id": "Mp2S-k7zS3r4"
      },
      "outputs": [],
      "source": []
    }
  ],
  "metadata": {
    "kernelspec": {
      "display_name": "Python 3 (ipykernel)",
      "language": "python",
      "name": "python3"
    },
    "language_info": {
      "codemirror_mode": {
        "name": "ipython",
        "version": 3
      },
      "file_extension": ".py",
      "mimetype": "text/x-python",
      "name": "python",
      "nbconvert_exporter": "python",
      "pygments_lexer": "ipython3",
      "version": "3.9.12"
    },
    "colab": {
      "provenance": [],
      "include_colab_link": true
    }
  },
  "nbformat": 4,
  "nbformat_minor": 0
}